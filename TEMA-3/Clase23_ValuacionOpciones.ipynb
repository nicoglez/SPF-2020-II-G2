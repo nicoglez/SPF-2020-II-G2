{
 "cells": [
  {
   "cell_type": "markdown",
   "metadata": {},
   "source": [
    "<img style=\"float: right; margin: 0px 0px 15px 15px;\" src=\"https://encrypted-tbn0.gstatic.com/images?q=tbn:ANd9GcSQt6eQo8JPYzYO4p6WmxLtccdtJ4X8WR6GzVVKbsMjyGvUDEn1mg\" width=\"300px\" height=\"100px\" />\n",
    "\n",
    "# Trabajando con opciones"
   ]
  },
  {
   "cell_type": "markdown",
   "metadata": {},
   "source": [
    "Una opción puede negociarse en el mercado secundario por lo que es importante determinar su valor $V_t$ para cada tiempo $t\\in [0, T]$. La ganancia que obtiene quién adquiere la opción se llama función de pago o \"payoff\" y claramente depende del valor del subyacente. \n",
    "\n",
    "Hay una gran variedad de opciones en el mercado y éstas se clasiflcan según su función de pago y la forma en que pueden ejercerse.  Las opciones que tienen como función de pago a\n",
    "$$ P(S(t),t)=max\\{S(T)-K,0\\} \\rightarrow \\text{En el caso de Call}$$ \n",
    "$$ P(S(t),t)=max\\{K-S(T),0\\} \\rightarrow \\text{En el caso de Put}$$ \n",
    "se llaman opciones **Vainilla**, con $h:[0,\\infty) \\to [0,\\infty)$.\n",
    "\n",
    "La opción se llama **europea** si puede ejercerse sólo en la fecha de vencimiento.\n",
    "\n",
    "Se dice que una opción es **americana** si puede ejercerse en cualquier momento antes o en la fecha de vencimiento.\n",
    "\n",
    "Una opción compleja popular son las llamadas **opciones asiáticas** cuyos pagos dependen de todas las trayectorias del precio de los activos subyacentes. Las opciones cuyos pagos dependen de las trayectorias de los precios de los activos subyacentes se denominan opciones dependientes de la ruta.\n",
    "\n",
    "Principalmente, se puede resumir que las dos razones con más peso de importancia para utilizar opciones son el **aseguramiento** y la **especulación**.\n",
    "\n",
    "## Opciones Plan Vainilla: opción de compra y opción de venta europea\n",
    "\n",
    "Una opción vainilla o estándar es una opción normal de compra o venta que no tiene características especiales o inusuales. Puede ser para tamaños y vencimientos estandarizados, y negociarse en un intercambio.\n",
    "En comparación con otras estructuras de opciones, las opciones de vanilla no son sofisticadas o complicadas.\n"
   ]
  },
  {
   "cell_type": "markdown",
   "metadata": {},
   "source": [
    "## 1. ¿Cómo descargar datos de opciones?"
   ]
  },
  {
   "cell_type": "code",
   "execution_count": 1,
   "metadata": {},
   "outputs": [],
   "source": [
    "#importar los paquetes que se van a usar\n",
    "import pandas as pd\n",
    "import pandas_datareader.data as web\n",
    "import numpy as np\n",
    "import datetime\n",
    "import matplotlib.pyplot as plt\n",
    "import scipy.stats as st\n",
    "import seaborn as sns\n",
    "%matplotlib inline\n",
    "#algunas opciones para Pandas\n",
    "pd.set_option('display.notebook_repr_html', True)\n",
    "pd.set_option('display.max_columns', 6)\n",
    "pd.set_option('display.max_rows', 10)\n",
    "pd.set_option('display.width', 78)\n",
    "pd.set_option('precision', 3)"
   ]
  },
  {
   "cell_type": "markdown",
   "metadata": {},
   "source": [
    "Usando el paquete `pandas_datareader` también podemos descargar datos de opciones. Por ejemplo, descarguemos los datos de las opciones cuyo activo subyacente son las acciones de Apple"
   ]
  },
  {
   "cell_type": "code",
   "execution_count": 2,
   "metadata": {
    "scrolled": false
   },
   "outputs": [
    {
     "data": {
      "text/html": [
       "<div>\n",
       "<style scoped>\n",
       "    .dataframe tbody tr th:only-of-type {\n",
       "        vertical-align: middle;\n",
       "    }\n",
       "\n",
       "    .dataframe tbody tr th {\n",
       "        vertical-align: top;\n",
       "    }\n",
       "\n",
       "    .dataframe thead th {\n",
       "        text-align: right;\n",
       "    }\n",
       "</style>\n",
       "<table border=\"1\" class=\"dataframe\">\n",
       "  <thead>\n",
       "    <tr style=\"text-align: right;\">\n",
       "      <th></th>\n",
       "      <th>Strike</th>\n",
       "      <th>Type</th>\n",
       "      <th>Symbol</th>\n",
       "      <th>...</th>\n",
       "      <th>Quote_Time</th>\n",
       "      <th>Last_Trade_Date</th>\n",
       "      <th>JSON</th>\n",
       "    </tr>\n",
       "    <tr>\n",
       "      <th>Expiry</th>\n",
       "      <th></th>\n",
       "      <th></th>\n",
       "      <th></th>\n",
       "      <th></th>\n",
       "      <th></th>\n",
       "      <th></th>\n",
       "      <th></th>\n",
       "    </tr>\n",
       "  </thead>\n",
       "  <tbody>\n",
       "    <tr>\n",
       "      <th>2021-01-15</th>\n",
       "      <td>18.75</td>\n",
       "      <td>call</td>\n",
       "      <td>AAPL210115C00018750</td>\n",
       "      <td>...</td>\n",
       "      <td>2020-11-24 17:40:30</td>\n",
       "      <td>2020-11-23 20:02:57</td>\n",
       "      <td>{'contractSymbol': 'AAPL210115C00018750', 'str...</td>\n",
       "    </tr>\n",
       "    <tr>\n",
       "      <th>2021-01-15</th>\n",
       "      <td>18.75</td>\n",
       "      <td>put</td>\n",
       "      <td>AAPL210115P00018750</td>\n",
       "      <td>...</td>\n",
       "      <td>2020-11-24 17:40:30</td>\n",
       "      <td>2020-11-16 14:30:01</td>\n",
       "      <td>{'contractSymbol': 'AAPL210115P00018750', 'str...</td>\n",
       "    </tr>\n",
       "    <tr>\n",
       "      <th>2021-06-18</th>\n",
       "      <td>18.75</td>\n",
       "      <td>call</td>\n",
       "      <td>AAPL210618C00018750</td>\n",
       "      <td>...</td>\n",
       "      <td>2020-11-24 17:40:30</td>\n",
       "      <td>2020-11-17 14:36:29</td>\n",
       "      <td>{'contractSymbol': 'AAPL210618C00018750', 'str...</td>\n",
       "    </tr>\n",
       "    <tr>\n",
       "      <th>2021-06-18</th>\n",
       "      <td>18.75</td>\n",
       "      <td>put</td>\n",
       "      <td>AAPL210618P00018750</td>\n",
       "      <td>...</td>\n",
       "      <td>2020-11-24 17:40:30</td>\n",
       "      <td>2020-11-20 16:47:54</td>\n",
       "      <td>{'contractSymbol': 'AAPL210618P00018750', 'str...</td>\n",
       "    </tr>\n",
       "    <tr>\n",
       "      <th>2021-01-15</th>\n",
       "      <td>20.00</td>\n",
       "      <td>call</td>\n",
       "      <td>AAPL210115C00020000</td>\n",
       "      <td>...</td>\n",
       "      <td>2020-11-24 17:40:30</td>\n",
       "      <td>2020-11-12 18:14:34</td>\n",
       "      <td>{'contractSymbol': 'AAPL210115C00020000', 'str...</td>\n",
       "    </tr>\n",
       "    <tr>\n",
       "      <th>...</th>\n",
       "      <td>...</td>\n",
       "      <td>...</td>\n",
       "      <td>...</td>\n",
       "      <td>...</td>\n",
       "      <td>...</td>\n",
       "      <td>...</td>\n",
       "      <td>...</td>\n",
       "    </tr>\n",
       "    <tr>\n",
       "      <th>2021-09-17</th>\n",
       "      <td>1000.00</td>\n",
       "      <td>call</td>\n",
       "      <td>AAPL210917C01000000</td>\n",
       "      <td>...</td>\n",
       "      <td>2020-11-24 17:40:30</td>\n",
       "      <td>2020-08-28 19:58:31</td>\n",
       "      <td>{'contractSymbol': 'AAPL210917C01000000', 'str...</td>\n",
       "    </tr>\n",
       "    <tr>\n",
       "      <th>2022-01-21</th>\n",
       "      <td>1000.00</td>\n",
       "      <td>call</td>\n",
       "      <td>AAPL220121C01000000</td>\n",
       "      <td>...</td>\n",
       "      <td>2020-11-24 17:40:32</td>\n",
       "      <td>2020-08-28 19:59:43</td>\n",
       "      <td>{'contractSymbol': 'AAPL220121C01000000', 'str...</td>\n",
       "    </tr>\n",
       "    <tr>\n",
       "      <th>2022-06-17</th>\n",
       "      <td>1000.00</td>\n",
       "      <td>call</td>\n",
       "      <td>AAPL220617C01000000</td>\n",
       "      <td>...</td>\n",
       "      <td>2020-11-24 17:40:32</td>\n",
       "      <td>2020-08-28 19:48:09</td>\n",
       "      <td>{'contractSymbol': 'AAPL220617C01000000', 'str...</td>\n",
       "    </tr>\n",
       "    <tr>\n",
       "      <th>2022-09-16</th>\n",
       "      <td>1000.00</td>\n",
       "      <td>call</td>\n",
       "      <td>AAPL220916C01000000</td>\n",
       "      <td>...</td>\n",
       "      <td>2020-11-24 17:40:32</td>\n",
       "      <td>2020-08-28 19:59:03</td>\n",
       "      <td>{'contractSymbol': 'AAPL220916C01000000', 'str...</td>\n",
       "    </tr>\n",
       "    <tr>\n",
       "      <th>2022-09-16</th>\n",
       "      <td>1000.00</td>\n",
       "      <td>put</td>\n",
       "      <td>AAPL220916P01000000</td>\n",
       "      <td>...</td>\n",
       "      <td>2020-11-24 17:40:32</td>\n",
       "      <td>2020-08-28 17:27:35</td>\n",
       "      <td>{'contractSymbol': 'AAPL220916P01000000', 'str...</td>\n",
       "    </tr>\n",
       "  </tbody>\n",
       "</table>\n",
       "<p>2919 rows × 18 columns</p>\n",
       "</div>"
      ],
      "text/plain": [
       "             Strike  Type               Symbol  ...          Quote_Time  \\\n",
       "Expiry                                          ...                       \n",
       "2021-01-15    18.75  call  AAPL210115C00018750  ... 2020-11-24 17:40:30   \n",
       "2021-01-15    18.75   put  AAPL210115P00018750  ... 2020-11-24 17:40:30   \n",
       "2021-06-18    18.75  call  AAPL210618C00018750  ... 2020-11-24 17:40:30   \n",
       "2021-06-18    18.75   put  AAPL210618P00018750  ... 2020-11-24 17:40:30   \n",
       "2021-01-15    20.00  call  AAPL210115C00020000  ... 2020-11-24 17:40:30   \n",
       "...             ...   ...                  ...  ...                 ...   \n",
       "2021-09-17  1000.00  call  AAPL210917C01000000  ... 2020-11-24 17:40:30   \n",
       "2022-01-21  1000.00  call  AAPL220121C01000000  ... 2020-11-24 17:40:32   \n",
       "2022-06-17  1000.00  call  AAPL220617C01000000  ... 2020-11-24 17:40:32   \n",
       "2022-09-16  1000.00  call  AAPL220916C01000000  ... 2020-11-24 17:40:32   \n",
       "2022-09-16  1000.00   put  AAPL220916P01000000  ... 2020-11-24 17:40:32   \n",
       "\n",
       "               Last_Trade_Date  \\\n",
       "Expiry                           \n",
       "2021-01-15 2020-11-23 20:02:57   \n",
       "2021-01-15 2020-11-16 14:30:01   \n",
       "2021-06-18 2020-11-17 14:36:29   \n",
       "2021-06-18 2020-11-20 16:47:54   \n",
       "2021-01-15 2020-11-12 18:14:34   \n",
       "...                        ...   \n",
       "2021-09-17 2020-08-28 19:58:31   \n",
       "2022-01-21 2020-08-28 19:59:43   \n",
       "2022-06-17 2020-08-28 19:48:09   \n",
       "2022-09-16 2020-08-28 19:59:03   \n",
       "2022-09-16 2020-08-28 17:27:35   \n",
       "\n",
       "                                                         JSON  \n",
       "Expiry                                                         \n",
       "2021-01-15  {'contractSymbol': 'AAPL210115C00018750', 'str...  \n",
       "2021-01-15  {'contractSymbol': 'AAPL210115P00018750', 'str...  \n",
       "2021-06-18  {'contractSymbol': 'AAPL210618C00018750', 'str...  \n",
       "2021-06-18  {'contractSymbol': 'AAPL210618P00018750', 'str...  \n",
       "2021-01-15  {'contractSymbol': 'AAPL210115C00020000', 'str...  \n",
       "...                                                       ...  \n",
       "2021-09-17  {'contractSymbol': 'AAPL210917C01000000', 'str...  \n",
       "2022-01-21  {'contractSymbol': 'AAPL220121C01000000', 'str...  \n",
       "2022-06-17  {'contractSymbol': 'AAPL220617C01000000', 'str...  \n",
       "2022-09-16  {'contractSymbol': 'AAPL220916C01000000', 'str...  \n",
       "2022-09-16  {'contractSymbol': 'AAPL220916P01000000', 'str...  \n",
       "\n",
       "[2919 rows x 18 columns]"
      ]
     },
     "execution_count": 2,
     "metadata": {},
     "output_type": "execute_result"
    }
   ],
   "source": [
    "aapl = web.YahooOptions('AAPL')\n",
    "aapl_opt = aapl.get_all_data().reset_index()\n",
    "aapl_opt.set_index('Expiry')\n",
    "# aapl"
   ]
  },
  {
   "cell_type": "markdown",
   "metadata": {},
   "source": [
    "Precio del activo subyacente"
   ]
  },
  {
   "cell_type": "code",
   "execution_count": 3,
   "metadata": {
    "scrolled": true
   },
   "outputs": [
    {
     "data": {
      "text/plain": [
       "114.95"
      ]
     },
     "execution_count": 3,
     "metadata": {},
     "output_type": "execute_result"
    }
   ],
   "source": [
    "aapl_opt.Underlying_Price[0]"
   ]
  },
  {
   "cell_type": "markdown",
   "metadata": {},
   "source": [
    "Datos de la opción "
   ]
  },
  {
   "cell_type": "code",
   "execution_count": 4,
   "metadata": {
    "scrolled": true
   },
   "outputs": [
    {
     "data": {
      "text/plain": [
       "{'contractSymbol': 'AAPL210115C00018750',\n",
       " 'strike': 18.75,\n",
       " 'currency': 'USD',\n",
       " 'lastPrice': 95.85,\n",
       " 'change': 0.0,\n",
       " 'percentChange': 0.0,\n",
       " 'volume': 1,\n",
       " 'openInterest': 260,\n",
       " 'bid': 95.5,\n",
       " 'ask': 96.15,\n",
       " 'contractSize': 'REGULAR',\n",
       " 'expiration': 1610668800,\n",
       " 'lastTradeDate': 1606161777,\n",
       " 'impliedVolatility': 1.0000000000000003e-05,\n",
       " 'inTheMoney': True}"
      ]
     },
     "execution_count": 4,
     "metadata": {},
     "output_type": "execute_result"
    }
   ],
   "source": [
    "aapl_opt.loc[0, 'JSON']"
   ]
  },
  {
   "cell_type": "markdown",
   "metadata": {},
   "source": [
    "### Conceptos claves\n",
    "- El precio de la oferta ('bid') se refiere al precio más alto que un comprador pagará por un activo.\n",
    "- El precio de venta ('ask') se refiere al precio más bajo que un vendedor aceptará por un activo.\n",
    "- La diferencia entre estos dos precios se conoce como 'spread'; cuanto menor es el spread, mayor es la liquidez de la garantía dada.\n",
    "- Liquidez: facilidad de convertir cierta opción en efectivo.\n",
    "- La volatilidad implícita es el pronóstico del mercado de un probable movimiento en el precio de un valor.\n",
    "- La volatilidad implícita aumenta en los mercados bajistas y disminuye cuando el mercado es alcista.\n",
    "- El último precio ('lastprice') representa el precio al que ocurrió la última operación, de una opción dada."
   ]
  },
  {
   "cell_type": "markdown",
   "metadata": {},
   "source": [
    "Una vez tenemos la información, podemos consultar de qué tipo son las opciones"
   ]
  },
  {
   "cell_type": "code",
   "execution_count": 5,
   "metadata": {},
   "outputs": [
    {
     "data": {
      "text/plain": [
       "0       call\n",
       "1        put\n",
       "2       call\n",
       "3        put\n",
       "4       call\n",
       "        ... \n",
       "2914    call\n",
       "2915    call\n",
       "2916    call\n",
       "2917    call\n",
       "2918     put\n",
       "Name: Type, Length: 2919, dtype: object"
      ]
     },
     "execution_count": 5,
     "metadata": {},
     "output_type": "execute_result"
    }
   ],
   "source": [
    "aapl_opt.loc[:, 'Type']"
   ]
  },
  {
   "cell_type": "markdown",
   "metadata": {},
   "source": [
    "o en que fecha expiran"
   ]
  },
  {
   "cell_type": "code",
   "execution_count": 6,
   "metadata": {
    "scrolled": true
   },
   "outputs": [
    {
     "data": {
      "text/plain": [
       "0      2021-01-15\n",
       "1      2021-01-15\n",
       "2      2021-06-18\n",
       "3      2021-06-18\n",
       "4      2021-01-15\n",
       "          ...    \n",
       "2914   2021-09-17\n",
       "2915   2022-01-21\n",
       "2916   2022-06-17\n",
       "2917   2022-09-16\n",
       "2918   2022-09-16\n",
       "Name: Expiry, Length: 2919, dtype: datetime64[ns]"
      ]
     },
     "execution_count": 6,
     "metadata": {},
     "output_type": "execute_result"
    }
   ],
   "source": [
    "pd.set_option('display.max_rows', 10)\n",
    "aapl_opt.loc[:, 'Expiry']"
   ]
  },
  {
   "cell_type": "markdown",
   "metadata": {},
   "source": [
    "Por otra parte, podríamos querer consultar todas las opciones de compra (call) que expiran en cierta fecha (2020-06-19)"
   ]
  },
  {
   "cell_type": "code",
   "execution_count": 7,
   "metadata": {
    "scrolled": false
   },
   "outputs": [
    {
     "data": {
      "text/html": [
       "<div>\n",
       "<style scoped>\n",
       "    .dataframe tbody tr th:only-of-type {\n",
       "        vertical-align: middle;\n",
       "    }\n",
       "\n",
       "    .dataframe tbody tr th {\n",
       "        vertical-align: top;\n",
       "    }\n",
       "\n",
       "    .dataframe thead th {\n",
       "        text-align: right;\n",
       "    }\n",
       "</style>\n",
       "<table border=\"1\" class=\"dataframe\">\n",
       "  <thead>\n",
       "    <tr style=\"text-align: right;\">\n",
       "      <th></th>\n",
       "      <th>Strike</th>\n",
       "      <th>Expiry</th>\n",
       "      <th>Type</th>\n",
       "      <th>...</th>\n",
       "      <th>Quote_Time</th>\n",
       "      <th>Last_Trade_Date</th>\n",
       "      <th>JSON</th>\n",
       "    </tr>\n",
       "  </thead>\n",
       "  <tbody>\n",
       "    <tr>\n",
       "      <th>2</th>\n",
       "      <td>18.75</td>\n",
       "      <td>2021-06-18</td>\n",
       "      <td>call</td>\n",
       "      <td>...</td>\n",
       "      <td>2020-11-24 17:40:30</td>\n",
       "      <td>2020-11-17 14:36:29</td>\n",
       "      <td>{'contractSymbol': 'AAPL210618C00018750', 'str...</td>\n",
       "    </tr>\n",
       "    <tr>\n",
       "      <th>6</th>\n",
       "      <td>20.00</td>\n",
       "      <td>2021-06-18</td>\n",
       "      <td>call</td>\n",
       "      <td>...</td>\n",
       "      <td>2020-11-24 17:40:30</td>\n",
       "      <td>2020-11-02 15:18:07</td>\n",
       "      <td>{'contractSymbol': 'AAPL210618C00020000', 'str...</td>\n",
       "    </tr>\n",
       "    <tr>\n",
       "      <th>15</th>\n",
       "      <td>22.50</td>\n",
       "      <td>2021-06-18</td>\n",
       "      <td>call</td>\n",
       "      <td>...</td>\n",
       "      <td>2020-11-24 17:40:30</td>\n",
       "      <td>2020-09-03 18:47:06</td>\n",
       "      <td>{'contractSymbol': 'AAPL210618C00022500', 'str...</td>\n",
       "    </tr>\n",
       "    <tr>\n",
       "      <th>24</th>\n",
       "      <td>25.00</td>\n",
       "      <td>2021-06-18</td>\n",
       "      <td>call</td>\n",
       "      <td>...</td>\n",
       "      <td>2020-11-24 17:40:30</td>\n",
       "      <td>2020-11-05 20:47:36</td>\n",
       "      <td>{'contractSymbol': 'AAPL210618C00025000', 'str...</td>\n",
       "    </tr>\n",
       "    <tr>\n",
       "      <th>31</th>\n",
       "      <td>27.50</td>\n",
       "      <td>2021-06-18</td>\n",
       "      <td>call</td>\n",
       "      <td>...</td>\n",
       "      <td>2020-11-24 17:40:30</td>\n",
       "      <td>2020-11-05 19:56:17</td>\n",
       "      <td>{'contractSymbol': 'AAPL210618C00027500', 'str...</td>\n",
       "    </tr>\n",
       "    <tr>\n",
       "      <th>...</th>\n",
       "      <td>...</td>\n",
       "      <td>...</td>\n",
       "      <td>...</td>\n",
       "      <td>...</td>\n",
       "      <td>...</td>\n",
       "      <td>...</td>\n",
       "      <td>...</td>\n",
       "    </tr>\n",
       "    <tr>\n",
       "      <th>2871</th>\n",
       "      <td>720.00</td>\n",
       "      <td>2021-06-18</td>\n",
       "      <td>call</td>\n",
       "      <td>...</td>\n",
       "      <td>2020-11-24 17:40:30</td>\n",
       "      <td>2020-08-28 19:40:17</td>\n",
       "      <td>{'contractSymbol': 'AAPL210618C00720000', 'str...</td>\n",
       "    </tr>\n",
       "    <tr>\n",
       "      <th>2882</th>\n",
       "      <td>740.00</td>\n",
       "      <td>2021-06-18</td>\n",
       "      <td>call</td>\n",
       "      <td>...</td>\n",
       "      <td>2020-11-24 17:40:30</td>\n",
       "      <td>2020-08-28 19:01:26</td>\n",
       "      <td>{'contractSymbol': 'AAPL210618C00740000', 'str...</td>\n",
       "    </tr>\n",
       "    <tr>\n",
       "      <th>2892</th>\n",
       "      <td>800.00</td>\n",
       "      <td>2021-06-18</td>\n",
       "      <td>call</td>\n",
       "      <td>...</td>\n",
       "      <td>2020-11-24 17:40:30</td>\n",
       "      <td>2020-08-28 17:55:20</td>\n",
       "      <td>{'contractSymbol': 'AAPL210618C00800000', 'str...</td>\n",
       "    </tr>\n",
       "    <tr>\n",
       "      <th>2901</th>\n",
       "      <td>900.00</td>\n",
       "      <td>2021-06-18</td>\n",
       "      <td>call</td>\n",
       "      <td>...</td>\n",
       "      <td>2020-11-24 17:40:30</td>\n",
       "      <td>2020-08-28 16:08:44</td>\n",
       "      <td>{'contractSymbol': 'AAPL210618C00900000', 'str...</td>\n",
       "    </tr>\n",
       "    <tr>\n",
       "      <th>2912</th>\n",
       "      <td>1000.00</td>\n",
       "      <td>2021-06-18</td>\n",
       "      <td>call</td>\n",
       "      <td>...</td>\n",
       "      <td>2020-11-24 17:40:30</td>\n",
       "      <td>2020-08-28 19:59:05</td>\n",
       "      <td>{'contractSymbol': 'AAPL210618C01000000', 'str...</td>\n",
       "    </tr>\n",
       "  </tbody>\n",
       "</table>\n",
       "<p>130 rows × 19 columns</p>\n",
       "</div>"
      ],
      "text/plain": [
       "       Strike     Expiry  Type  ...          Quote_Time     Last_Trade_Date  \\\n",
       "2       18.75 2021-06-18  call  ... 2020-11-24 17:40:30 2020-11-17 14:36:29   \n",
       "6       20.00 2021-06-18  call  ... 2020-11-24 17:40:30 2020-11-02 15:18:07   \n",
       "15      22.50 2021-06-18  call  ... 2020-11-24 17:40:30 2020-09-03 18:47:06   \n",
       "24      25.00 2021-06-18  call  ... 2020-11-24 17:40:30 2020-11-05 20:47:36   \n",
       "31      27.50 2021-06-18  call  ... 2020-11-24 17:40:30 2020-11-05 19:56:17   \n",
       "...       ...        ...   ...  ...                 ...                 ...   \n",
       "2871   720.00 2021-06-18  call  ... 2020-11-24 17:40:30 2020-08-28 19:40:17   \n",
       "2882   740.00 2021-06-18  call  ... 2020-11-24 17:40:30 2020-08-28 19:01:26   \n",
       "2892   800.00 2021-06-18  call  ... 2020-11-24 17:40:30 2020-08-28 17:55:20   \n",
       "2901   900.00 2021-06-18  call  ... 2020-11-24 17:40:30 2020-08-28 16:08:44   \n",
       "2912  1000.00 2021-06-18  call  ... 2020-11-24 17:40:30 2020-08-28 19:59:05   \n",
       "\n",
       "                                                   JSON  \n",
       "2     {'contractSymbol': 'AAPL210618C00018750', 'str...  \n",
       "6     {'contractSymbol': 'AAPL210618C00020000', 'str...  \n",
       "15    {'contractSymbol': 'AAPL210618C00022500', 'str...  \n",
       "24    {'contractSymbol': 'AAPL210618C00025000', 'str...  \n",
       "31    {'contractSymbol': 'AAPL210618C00027500', 'str...  \n",
       "...                                                 ...  \n",
       "2871  {'contractSymbol': 'AAPL210618C00720000', 'str...  \n",
       "2882  {'contractSymbol': 'AAPL210618C00740000', 'str...  \n",
       "2892  {'contractSymbol': 'AAPL210618C00800000', 'str...  \n",
       "2901  {'contractSymbol': 'AAPL210618C00900000', 'str...  \n",
       "2912  {'contractSymbol': 'AAPL210618C01000000', 'str...  \n",
       "\n",
       "[130 rows x 19 columns]"
      ]
     },
     "execution_count": 7,
     "metadata": {},
     "output_type": "execute_result"
    }
   ],
   "source": [
    "fecha1 = '2021-06-18'\n",
    "fecha2 = '2022-09-16'\n",
    "call06_f1 = aapl_opt.loc[(aapl_opt.Expiry== fecha1) & (aapl_opt.Type=='call')]\n",
    "call06_f2 = aapl_opt.loc[(aapl_opt.Expiry== fecha2) & (aapl_opt.Type=='call')]\n",
    "call06_f1\n"
   ]
  },
  {
   "cell_type": "markdown",
   "metadata": {},
   "source": [
    "## 2. ¿Qué es la volatilidad implícita?"
   ]
  },
  {
   "cell_type": "markdown",
   "metadata": {},
   "source": [
    "**Volatilidad:** desviación estándar de los rendimientos.\n",
    "- ¿Cómo se calcula?\n",
    "- ¿Para qué calcular la volatilidad?"
   ]
  },
  {
   "attachments": {
    "imagen.png": {
     "image/png": "[encoded data removed]"
    }
   },
   "cell_type": "markdown",
   "metadata": {},
   "source": [
    "- **Para valuar derivados**, por ejemplo **opciones**.\n",
    "- Método de valuación de riesgo neutral (se supone que el precio del activo $S_t$ no se ve afectado por el riesgo de mercado).\n",
    "\n",
    "Recorderis de cuantitativas:\n",
    "1. Ecuación de Black-Scholes\n",
    "$$ dS(t) = \\mu S(t) + \\sigma S(t)dW_t$$\n",
    "2. Solución de la ecuación\n",
    "\n",
    "El valor de una opción Europea de vainilla $V_t$ puede obtenerse por:\n",
    "$$V_t = F(t,S_t)$$ donde\n",
    "![imagen.png](attachment:imagen.png)\n",
    "3. Opción de compra europea, suponiendo que los precios del activo son lognormales\n",
    "4. Opción de venta europea, suponiendo que los precios del activo son lognormales"
   ]
  },
  {
   "cell_type": "markdown",
   "metadata": {},
   "source": [
    "Entonces, ¿qué es la **volatilidad implícita**?\n",
    "\n",
    "La volatilidad es una medida de la incertidumbre sobre el comportamiento futuro de un activo, que se mide habitualmente como la desviación típica de la rentabilidad de dicho activo. \n",
    "\n",
    "Una volatilidad implícita es aquella que cuando se sustituye en la ecuación de Black-Scholes o en sus ampliaciones,proporciona el precio de mercado de la opción."
   ]
  },
  {
   "attachments": {
    "imagen.png": {
     "image/png": "[encoded data removed]"
    }
   },
   "cell_type": "markdown",
   "metadata": {},
   "source": [
    "## Volatility smile \n",
    "-  Cuando las opciones con la misma fecha de vencimiento y el mismo activo subyacente, pero diferentes precios de ejercicio, se grafican por la volatilidad implícita, la tendencia es que ese gráfico muestre una sonrisa.\n",
    "-  La sonrisa muestra que las opciones más alejadas 'in- or out-of-the-money' tienen la mayor volatilidad implícita.\n",
    "- No todas las opciones tendrán una sonrisa de volatilidad implícita. Las opciones de acciones a corto plazo y las opciones relacionadas con la moneda tienen más probabilidades de tener una sonrisa de volatilidad\n",
    "\n",
    "![imagen.png](attachment:imagen.png)\n",
    "\n",
    "> Fuente: https://www.investopedia.com/terms/v/volatilitysmile.asp"
   ]
  },
  {
   "cell_type": "markdown",
   "metadata": {},
   "source": [
    "> ### Validar para la `fecha = 2020-06-19` y para la fecha `fecha = '2021-01-15'`"
   ]
  },
  {
   "cell_type": "code",
   "execution_count": 8,
   "metadata": {
    "scrolled": false
   },
   "outputs": [
    {
     "data": {
      "image/png": "[encoded data removed]",
      "text/plain": [
       "<Figure size 576x432 with 1 Axes>"
      ]
     },
     "metadata": {
      "needs_background": "light"
     },
     "output_type": "display_data"
    }
   ],
   "source": [
    "# para los call de la fecha 1\n",
    "ax = call06_f1.set_index('Strike').loc[:, 'IV'].plot(figsize=(8,6))\n",
    "ax.axvline(call06_f1.Underlying_Price.iloc[0], color='g');"
   ]
  },
  {
   "cell_type": "code",
   "execution_count": 9,
   "metadata": {},
   "outputs": [
    {
     "data": {
      "image/png": "[encoded data removed]",
      "text/plain": [
       "<Figure size 576x432 with 1 Axes>"
      ]
     },
     "metadata": {
      "needs_background": "light"
     },
     "output_type": "display_data"
    }
   ],
   "source": [
    "# para los call de la fecha 2\n",
    "ax = call06_f2.set_index('Strike').loc[:, 'IV'].plot(figsize=(8,6))\n",
    "ax.axvline(call06_f2.Underlying_Price.iloc[0], color='g');"
   ]
  },
  {
   "cell_type": "markdown",
   "metadata": {},
   "source": [
    "Analicemos ahora datos de los `put`"
   ]
  },
  {
   "cell_type": "code",
   "execution_count": 10,
   "metadata": {},
   "outputs": [
    {
     "data": {
      "text/html": [
       "<div>\n",
       "<style scoped>\n",
       "    .dataframe tbody tr th:only-of-type {\n",
       "        vertical-align: middle;\n",
       "    }\n",
       "\n",
       "    .dataframe tbody tr th {\n",
       "        vertical-align: top;\n",
       "    }\n",
       "\n",
       "    .dataframe thead th {\n",
       "        text-align: right;\n",
       "    }\n",
       "</style>\n",
       "<table border=\"1\" class=\"dataframe\">\n",
       "  <thead>\n",
       "    <tr style=\"text-align: right;\">\n",
       "      <th></th>\n",
       "      <th>Strike</th>\n",
       "      <th>Expiry</th>\n",
       "      <th>Type</th>\n",
       "      <th>...</th>\n",
       "      <th>Quote_Time</th>\n",
       "      <th>Last_Trade_Date</th>\n",
       "      <th>JSON</th>\n",
       "    </tr>\n",
       "  </thead>\n",
       "  <tbody>\n",
       "    <tr>\n",
       "      <th>3</th>\n",
       "      <td>18.75</td>\n",
       "      <td>2021-06-18</td>\n",
       "      <td>put</td>\n",
       "      <td>...</td>\n",
       "      <td>2020-11-24 17:40:30</td>\n",
       "      <td>2020-11-20 16:47:54</td>\n",
       "      <td>{'contractSymbol': 'AAPL210618P00018750', 'str...</td>\n",
       "    </tr>\n",
       "    <tr>\n",
       "      <th>7</th>\n",
       "      <td>20.00</td>\n",
       "      <td>2021-06-18</td>\n",
       "      <td>put</td>\n",
       "      <td>...</td>\n",
       "      <td>2020-11-24 17:40:30</td>\n",
       "      <td>2020-11-02 15:02:10</td>\n",
       "      <td>{'contractSymbol': 'AAPL210618P00020000', 'str...</td>\n",
       "    </tr>\n",
       "    <tr>\n",
       "      <th>10</th>\n",
       "      <td>21.25</td>\n",
       "      <td>2021-06-18</td>\n",
       "      <td>put</td>\n",
       "      <td>...</td>\n",
       "      <td>2020-11-24 17:40:30</td>\n",
       "      <td>2020-11-13 15:34:51</td>\n",
       "      <td>{'contractSymbol': 'AAPL210618P00021250', 'str...</td>\n",
       "    </tr>\n",
       "    <tr>\n",
       "      <th>16</th>\n",
       "      <td>22.50</td>\n",
       "      <td>2021-06-18</td>\n",
       "      <td>put</td>\n",
       "      <td>...</td>\n",
       "      <td>2020-11-24 17:40:30</td>\n",
       "      <td>2020-11-09 20:14:50</td>\n",
       "      <td>{'contractSymbol': 'AAPL210618P00022500', 'str...</td>\n",
       "    </tr>\n",
       "    <tr>\n",
       "      <th>19</th>\n",
       "      <td>23.75</td>\n",
       "      <td>2021-06-18</td>\n",
       "      <td>put</td>\n",
       "      <td>...</td>\n",
       "      <td>2020-11-24 17:40:30</td>\n",
       "      <td>2020-11-16 15:25:19</td>\n",
       "      <td>{'contractSymbol': 'AAPL210618P00023750', 'str...</td>\n",
       "    </tr>\n",
       "    <tr>\n",
       "      <th>...</th>\n",
       "      <td>...</td>\n",
       "      <td>...</td>\n",
       "      <td>...</td>\n",
       "      <td>...</td>\n",
       "      <td>...</td>\n",
       "      <td>...</td>\n",
       "      <td>...</td>\n",
       "    </tr>\n",
       "    <tr>\n",
       "      <th>2813</th>\n",
       "      <td>640.00</td>\n",
       "      <td>2021-06-18</td>\n",
       "      <td>put</td>\n",
       "      <td>...</td>\n",
       "      <td>2020-11-24 17:40:30</td>\n",
       "      <td>2020-08-25 16:08:58</td>\n",
       "      <td>{'contractSymbol': 'AAPL210618P00640000', 'str...</td>\n",
       "    </tr>\n",
       "    <tr>\n",
       "      <th>2830</th>\n",
       "      <td>660.00</td>\n",
       "      <td>2021-06-18</td>\n",
       "      <td>put</td>\n",
       "      <td>...</td>\n",
       "      <td>2020-11-24 17:40:30</td>\n",
       "      <td>2020-08-27 16:29:02</td>\n",
       "      <td>{'contractSymbol': 'AAPL210618P00660000', 'str...</td>\n",
       "    </tr>\n",
       "    <tr>\n",
       "      <th>2842</th>\n",
       "      <td>680.00</td>\n",
       "      <td>2021-06-18</td>\n",
       "      <td>put</td>\n",
       "      <td>...</td>\n",
       "      <td>2020-11-24 17:40:30</td>\n",
       "      <td>2020-08-25 14:59:07</td>\n",
       "      <td>{'contractSymbol': 'AAPL210618P00680000', 'str...</td>\n",
       "    </tr>\n",
       "    <tr>\n",
       "      <th>2856</th>\n",
       "      <td>700.00</td>\n",
       "      <td>2021-06-18</td>\n",
       "      <td>put</td>\n",
       "      <td>...</td>\n",
       "      <td>2020-11-24 17:40:30</td>\n",
       "      <td>2020-08-27 19:58:45</td>\n",
       "      <td>{'contractSymbol': 'AAPL210618P00700000', 'str...</td>\n",
       "    </tr>\n",
       "    <tr>\n",
       "      <th>2913</th>\n",
       "      <td>1000.00</td>\n",
       "      <td>2021-06-18</td>\n",
       "      <td>put</td>\n",
       "      <td>...</td>\n",
       "      <td>2020-11-24 17:40:30</td>\n",
       "      <td>2020-08-27 13:30:07</td>\n",
       "      <td>{'contractSymbol': 'AAPL210618P01000000', 'str...</td>\n",
       "    </tr>\n",
       "  </tbody>\n",
       "</table>\n",
       "<p>130 rows × 19 columns</p>\n",
       "</div>"
      ],
      "text/plain": [
       "       Strike     Expiry Type  ...          Quote_Time     Last_Trade_Date  \\\n",
       "3       18.75 2021-06-18  put  ... 2020-11-24 17:40:30 2020-11-20 16:47:54   \n",
       "7       20.00 2021-06-18  put  ... 2020-11-24 17:40:30 2020-11-02 15:02:10   \n",
       "10      21.25 2021-06-18  put  ... 2020-11-24 17:40:30 2020-11-13 15:34:51   \n",
       "16      22.50 2021-06-18  put  ... 2020-11-24 17:40:30 2020-11-09 20:14:50   \n",
       "19      23.75 2021-06-18  put  ... 2020-11-24 17:40:30 2020-11-16 15:25:19   \n",
       "...       ...        ...  ...  ...                 ...                 ...   \n",
       "2813   640.00 2021-06-18  put  ... 2020-11-24 17:40:30 2020-08-25 16:08:58   \n",
       "2830   660.00 2021-06-18  put  ... 2020-11-24 17:40:30 2020-08-27 16:29:02   \n",
       "2842   680.00 2021-06-18  put  ... 2020-11-24 17:40:30 2020-08-25 14:59:07   \n",
       "2856   700.00 2021-06-18  put  ... 2020-11-24 17:40:30 2020-08-27 19:58:45   \n",
       "2913  1000.00 2021-06-18  put  ... 2020-11-24 17:40:30 2020-08-27 13:30:07   \n",
       "\n",
       "                                                   JSON  \n",
       "3     {'contractSymbol': 'AAPL210618P00018750', 'str...  \n",
       "7     {'contractSymbol': 'AAPL210618P00020000', 'str...  \n",
       "10    {'contractSymbol': 'AAPL210618P00021250', 'str...  \n",
       "16    {'contractSymbol': 'AAPL210618P00022500', 'str...  \n",
       "19    {'contractSymbol': 'AAPL210618P00023750', 'str...  \n",
       "...                                                 ...  \n",
       "2813  {'contractSymbol': 'AAPL210618P00640000', 'str...  \n",
       "2830  {'contractSymbol': 'AAPL210618P00660000', 'str...  \n",
       "2842  {'contractSymbol': 'AAPL210618P00680000', 'str...  \n",
       "2856  {'contractSymbol': 'AAPL210618P00700000', 'str...  \n",
       "2913  {'contractSymbol': 'AAPL210618P01000000', 'str...  \n",
       "\n",
       "[130 rows x 19 columns]"
      ]
     },
     "execution_count": 10,
     "metadata": {},
     "output_type": "execute_result"
    }
   ],
   "source": [
    "put06_f1 = aapl_opt.loc[(aapl_opt.Expiry==fecha1) & (aapl_opt.Type=='put')]\n",
    "put06_f1"
   ]
  },
  {
   "cell_type": "markdown",
   "metadata": {},
   "source": [
    "Para los `put` de la `fecha 1`"
   ]
  },
  {
   "cell_type": "code",
   "execution_count": 11,
   "metadata": {},
   "outputs": [
    {
     "data": {
      "text/plain": [
       "<matplotlib.lines.Line2D at 0x7f1e5e282850>"
      ]
     },
     "execution_count": 11,
     "metadata": {},
     "output_type": "execute_result"
    },
    {
     "data": {
      "image/png": "[encoded data removed]",
      "text/plain": [
       "<Figure size 576x432 with 1 Axes>"
      ]
     },
     "metadata": {
      "needs_background": "light"
     },
     "output_type": "display_data"
    }
   ],
   "source": [
    "ax = put06_f1.set_index('Strike').loc[:, 'IV'].plot(figsize=(8,6))\n",
    "ax.axvline(put06_f1.Underlying_Price.iloc[0], color='g')"
   ]
  },
  {
   "cell_type": "markdown",
   "metadata": {},
   "source": [
    "Con lo que hemos aprendido, deberíamos ser capaces de crear una función que nos devuelva un `DataFrame` de `pandas` con los precios de cierre ajustados de ciertas compañías en ciertas fechas:\n",
    "- Escribir la función a continuación"
   ]
  },
  {
   "cell_type": "code",
   "execution_count": 12,
   "metadata": {},
   "outputs": [],
   "source": [
    "# Función para descargar precios de cierre ajustados:\n",
    "def get_adj_closes(tickers, start_date=None, end_date=None):\n",
    "    # Fecha inicio por defecto (start_date='2010-01-01') y fecha fin por defecto (end_date=today)\n",
    "    # Descargamos DataFrame con todos los datos\n",
    "    closes = web.DataReader(name=tickers, data_source='yahoo', start=start_date, end=end_date)\n",
    "    # Solo necesitamos los precios ajustados en el cierre\n",
    "    closes = closes['Adj Close']\n",
    "    # Se ordenan los índices de manera ascendente\n",
    "    closes.sort_index(inplace=True)\n",
    "    return closes"
   ]
  },
  {
   "cell_type": "markdown",
   "metadata": {},
   "source": [
    "- Obtener como ejemplo los precios de cierre de Apple del año pasado hasta la fecha. Graficar..."
   ]
  },
  {
   "cell_type": "code",
   "execution_count": 13,
   "metadata": {},
   "outputs": [
    {
     "data": {
      "image/png": "[encoded data removed]",
      "text/plain": [
       "<Figure size 576x360 with 1 Axes>"
      ]
     },
     "metadata": {
      "needs_background": "light"
     },
     "output_type": "display_data"
    }
   ],
   "source": [
    "ticker = ['AAPL']\n",
    "start_date = '2017-01-01'\n",
    "\n",
    "closes_aapl = get_adj_closes(ticker, start_date)\n",
    "closes_aapl.plot(figsize=(8,5));\n",
    "plt.legend(ticker);"
   ]
  },
  {
   "cell_type": "markdown",
   "metadata": {},
   "source": [
    "- Escribir una función que pasándole el histórico de precios devuelva los rendimientos logarítmicos:"
   ]
  },
  {
   "cell_type": "code",
   "execution_count": 14,
   "metadata": {},
   "outputs": [],
   "source": [
    "def calc_daily_ret(closes):\n",
    "    return np.log(closes/closes.shift(1)).iloc[1:]"
   ]
  },
  {
   "cell_type": "markdown",
   "metadata": {},
   "source": [
    "- Graficar..."
   ]
  },
  {
   "cell_type": "code",
   "execution_count": 15,
   "metadata": {},
   "outputs": [
    {
     "data": {
      "image/png": "[encoded data removed]",
      "text/plain": [
       "<Figure size 576x432 with 1 Axes>"
      ]
     },
     "metadata": {
      "needs_background": "light"
     },
     "output_type": "display_data"
    }
   ],
   "source": [
    "ret_aapl = calc_daily_ret(closes_aapl)\n",
    "ret_aapl.plot(figsize=(8,6));"
   ]
  },
  {
   "cell_type": "markdown",
   "metadata": {},
   "source": [
    "También, descargar datos de opciones de Apple:"
   ]
  },
  {
   "cell_type": "code",
   "execution_count": 16,
   "metadata": {
    "scrolled": false
   },
   "outputs": [
    {
     "data": {
      "text/html": [
       "<div>\n",
       "<style scoped>\n",
       "    .dataframe tbody tr th:only-of-type {\n",
       "        vertical-align: middle;\n",
       "    }\n",
       "\n",
       "    .dataframe tbody tr th {\n",
       "        vertical-align: top;\n",
       "    }\n",
       "\n",
       "    .dataframe thead th {\n",
       "        text-align: right;\n",
       "    }\n",
       "</style>\n",
       "<table border=\"1\" class=\"dataframe\">\n",
       "  <thead>\n",
       "    <tr style=\"text-align: right;\">\n",
       "      <th></th>\n",
       "      <th>Strike</th>\n",
       "      <th>Type</th>\n",
       "      <th>Symbol</th>\n",
       "      <th>...</th>\n",
       "      <th>Quote_Time</th>\n",
       "      <th>Last_Trade_Date</th>\n",
       "      <th>JSON</th>\n",
       "    </tr>\n",
       "    <tr>\n",
       "      <th>Expiry</th>\n",
       "      <th></th>\n",
       "      <th></th>\n",
       "      <th></th>\n",
       "      <th></th>\n",
       "      <th></th>\n",
       "      <th></th>\n",
       "      <th></th>\n",
       "    </tr>\n",
       "  </thead>\n",
       "  <tbody>\n",
       "    <tr>\n",
       "      <th>2020-11-27</th>\n",
       "      <td>118.0</td>\n",
       "      <td>call</td>\n",
       "      <td>AAPL201127C00118000</td>\n",
       "      <td>...</td>\n",
       "      <td>2020-11-24 17:40:38</td>\n",
       "      <td>2020-11-24 17:24:12</td>\n",
       "      <td>{'contractSymbol': 'AAPL201127C00118000', 'str...</td>\n",
       "    </tr>\n",
       "    <tr>\n",
       "      <th>2020-11-27</th>\n",
       "      <td>100.0</td>\n",
       "      <td>put</td>\n",
       "      <td>AAPL201127P00100000</td>\n",
       "      <td>...</td>\n",
       "      <td>2020-11-24 17:40:38</td>\n",
       "      <td>2020-11-24 16:51:45</td>\n",
       "      <td>{'contractSymbol': 'AAPL201127P00100000', 'str...</td>\n",
       "    </tr>\n",
       "    <tr>\n",
       "      <th>2020-11-27</th>\n",
       "      <td>100.0</td>\n",
       "      <td>call</td>\n",
       "      <td>AAPL201127C00100000</td>\n",
       "      <td>...</td>\n",
       "      <td>2020-11-24 17:40:38</td>\n",
       "      <td>2020-11-24 17:03:16</td>\n",
       "      <td>{'contractSymbol': 'AAPL201127C00100000', 'str...</td>\n",
       "    </tr>\n",
       "    <tr>\n",
       "      <th>2020-11-27</th>\n",
       "      <td>99.0</td>\n",
       "      <td>put</td>\n",
       "      <td>AAPL201127P00099000</td>\n",
       "      <td>...</td>\n",
       "      <td>2020-11-24 17:40:38</td>\n",
       "      <td>2020-11-24 15:44:59</td>\n",
       "      <td>{'contractSymbol': 'AAPL201127P00099000', 'str...</td>\n",
       "    </tr>\n",
       "    <tr>\n",
       "      <th>2020-11-27</th>\n",
       "      <td>99.0</td>\n",
       "      <td>call</td>\n",
       "      <td>AAPL201127C00099000</td>\n",
       "      <td>...</td>\n",
       "      <td>2020-11-24 17:40:38</td>\n",
       "      <td>2020-11-24 14:36:13</td>\n",
       "      <td>{'contractSymbol': 'AAPL201127C00099000', 'str...</td>\n",
       "    </tr>\n",
       "    <tr>\n",
       "      <th>...</th>\n",
       "      <td>...</td>\n",
       "      <td>...</td>\n",
       "      <td>...</td>\n",
       "      <td>...</td>\n",
       "      <td>...</td>\n",
       "      <td>...</td>\n",
       "      <td>...</td>\n",
       "    </tr>\n",
       "    <tr>\n",
       "      <th>2023-01-20</th>\n",
       "      <td>30.0</td>\n",
       "      <td>put</td>\n",
       "      <td>AAPL230120P00030000</td>\n",
       "      <td>...</td>\n",
       "      <td>2020-11-24 17:40:40</td>\n",
       "      <td>2020-11-24 15:53:34</td>\n",
       "      <td>{'contractSymbol': 'AAPL230120P00030000', 'str...</td>\n",
       "    </tr>\n",
       "    <tr>\n",
       "      <th>2023-01-20</th>\n",
       "      <td>90.0</td>\n",
       "      <td>put</td>\n",
       "      <td>AAPL230120P00090000</td>\n",
       "      <td>...</td>\n",
       "      <td>2020-11-24 17:40:40</td>\n",
       "      <td>2020-11-24 17:01:50</td>\n",
       "      <td>{'contractSymbol': 'AAPL230120P00090000', 'str...</td>\n",
       "    </tr>\n",
       "    <tr>\n",
       "      <th>2023-01-20</th>\n",
       "      <td>90.0</td>\n",
       "      <td>call</td>\n",
       "      <td>AAPL230120C00090000</td>\n",
       "      <td>...</td>\n",
       "      <td>2020-11-24 17:40:40</td>\n",
       "      <td>2020-11-24 17:04:56</td>\n",
       "      <td>{'contractSymbol': 'AAPL230120C00090000', 'str...</td>\n",
       "    </tr>\n",
       "    <tr>\n",
       "      <th>2023-01-20</th>\n",
       "      <td>70.0</td>\n",
       "      <td>put</td>\n",
       "      <td>AAPL230120P00070000</td>\n",
       "      <td>...</td>\n",
       "      <td>2020-11-24 17:40:40</td>\n",
       "      <td>2020-11-23 16:11:00</td>\n",
       "      <td>{'contractSymbol': 'AAPL230120P00070000', 'str...</td>\n",
       "    </tr>\n",
       "    <tr>\n",
       "      <th>2023-01-20</th>\n",
       "      <td>170.0</td>\n",
       "      <td>call</td>\n",
       "      <td>AAPL230120C00170000</td>\n",
       "      <td>...</td>\n",
       "      <td>2020-11-24 17:40:40</td>\n",
       "      <td>2020-11-24 14:40:41</td>\n",
       "      <td>{'contractSymbol': 'AAPL230120C00170000', 'str...</td>\n",
       "    </tr>\n",
       "  </tbody>\n",
       "</table>\n",
       "<p>2919 rows × 18 columns</p>\n",
       "</div>"
      ],
      "text/plain": [
       "            Strike  Type               Symbol  ...          Quote_Time  \\\n",
       "Expiry                                         ...                       \n",
       "2020-11-27   118.0  call  AAPL201127C00118000  ... 2020-11-24 17:40:38   \n",
       "2020-11-27   100.0   put  AAPL201127P00100000  ... 2020-11-24 17:40:38   \n",
       "2020-11-27   100.0  call  AAPL201127C00100000  ... 2020-11-24 17:40:38   \n",
       "2020-11-27    99.0   put  AAPL201127P00099000  ... 2020-11-24 17:40:38   \n",
       "2020-11-27    99.0  call  AAPL201127C00099000  ... 2020-11-24 17:40:38   \n",
       "...            ...   ...                  ...  ...                 ...   \n",
       "2023-01-20    30.0   put  AAPL230120P00030000  ... 2020-11-24 17:40:40   \n",
       "2023-01-20    90.0   put  AAPL230120P00090000  ... 2020-11-24 17:40:40   \n",
       "2023-01-20    90.0  call  AAPL230120C00090000  ... 2020-11-24 17:40:40   \n",
       "2023-01-20    70.0   put  AAPL230120P00070000  ... 2020-11-24 17:40:40   \n",
       "2023-01-20   170.0  call  AAPL230120C00170000  ... 2020-11-24 17:40:40   \n",
       "\n",
       "               Last_Trade_Date  \\\n",
       "Expiry                           \n",
       "2020-11-27 2020-11-24 17:24:12   \n",
       "2020-11-27 2020-11-24 16:51:45   \n",
       "2020-11-27 2020-11-24 17:03:16   \n",
       "2020-11-27 2020-11-24 15:44:59   \n",
       "2020-11-27 2020-11-24 14:36:13   \n",
       "...                        ...   \n",
       "2023-01-20 2020-11-24 15:53:34   \n",
       "2023-01-20 2020-11-24 17:01:50   \n",
       "2023-01-20 2020-11-24 17:04:56   \n",
       "2023-01-20 2020-11-23 16:11:00   \n",
       "2023-01-20 2020-11-24 14:40:41   \n",
       "\n",
       "                                                         JSON  \n",
       "Expiry                                                         \n",
       "2020-11-27  {'contractSymbol': 'AAPL201127C00118000', 'str...  \n",
       "2020-11-27  {'contractSymbol': 'AAPL201127P00100000', 'str...  \n",
       "2020-11-27  {'contractSymbol': 'AAPL201127C00100000', 'str...  \n",
       "2020-11-27  {'contractSymbol': 'AAPL201127P00099000', 'str...  \n",
       "2020-11-27  {'contractSymbol': 'AAPL201127C00099000', 'str...  \n",
       "...                                                       ...  \n",
       "2023-01-20  {'contractSymbol': 'AAPL230120P00030000', 'str...  \n",
       "2023-01-20  {'contractSymbol': 'AAPL230120P00090000', 'str...  \n",
       "2023-01-20  {'contractSymbol': 'AAPL230120C00090000', 'str...  \n",
       "2023-01-20  {'contractSymbol': 'AAPL230120P00070000', 'str...  \n",
       "2023-01-20  {'contractSymbol': 'AAPL230120C00170000', 'str...  \n",
       "\n",
       "[2919 rows x 18 columns]"
      ]
     },
     "execution_count": 16,
     "metadata": {},
     "output_type": "execute_result"
    }
   ],
   "source": [
    "aapl = web.YahooOptions('AAPL')\n",
    "aapl_opt = aapl.get_all_data().reset_index()\n",
    "aapl_opt.set_index('Expiry').sort_index()"
   ]
  },
  {
   "cell_type": "code",
   "execution_count": 17,
   "metadata": {},
   "outputs": [
    {
     "data": {
      "text/html": [
       "<div>\n",
       "<style scoped>\n",
       "    .dataframe tbody tr th:only-of-type {\n",
       "        vertical-align: middle;\n",
       "    }\n",
       "\n",
       "    .dataframe tbody tr th {\n",
       "        vertical-align: top;\n",
       "    }\n",
       "\n",
       "    .dataframe thead th {\n",
       "        text-align: right;\n",
       "    }\n",
       "</style>\n",
       "<table border=\"1\" class=\"dataframe\">\n",
       "  <thead>\n",
       "    <tr style=\"text-align: right;\">\n",
       "      <th></th>\n",
       "      <th>Strike</th>\n",
       "      <th>Expiry</th>\n",
       "      <th>Type</th>\n",
       "      <th>...</th>\n",
       "      <th>Quote_Time</th>\n",
       "      <th>Last_Trade_Date</th>\n",
       "      <th>JSON</th>\n",
       "    </tr>\n",
       "  </thead>\n",
       "  <tbody>\n",
       "    <tr>\n",
       "      <th>1104</th>\n",
       "      <td>110.0</td>\n",
       "      <td>2021-01-15</td>\n",
       "      <td>call</td>\n",
       "      <td>...</td>\n",
       "      <td>2020-11-24 17:40:40</td>\n",
       "      <td>2020-11-24 17:24:10</td>\n",
       "      <td>{'contractSymbol': 'AAPL210115C00110000', 'str...</td>\n",
       "    </tr>\n",
       "  </tbody>\n",
       "</table>\n",
       "<p>1 rows × 19 columns</p>\n",
       "</div>"
      ],
      "text/plain": [
       "      Strike     Expiry  Type  ...          Quote_Time     Last_Trade_Date  \\\n",
       "1104   110.0 2021-01-15  call  ... 2020-11-24 17:40:40 2020-11-24 17:24:10   \n",
       "\n",
       "                                                   JSON  \n",
       "1104  {'contractSymbol': 'AAPL210115C00110000', 'str...  \n",
       "\n",
       "[1 rows x 19 columns]"
      ]
     },
     "execution_count": 17,
     "metadata": {},
     "output_type": "execute_result"
    }
   ],
   "source": [
    "K = 110 # strike price\n",
    "indice_opt = aapl_opt.loc[(aapl_opt.Type=='call') & (aapl_opt.Strike==K) & (aapl_opt.Expiry=='2021-01-15')]\n",
    "indice_opt"
   ]
  },
  {
   "cell_type": "code",
   "execution_count": 18,
   "metadata": {
    "scrolled": false
   },
   "outputs": [
    {
     "data": {
      "text/plain": [
       "{'contractSymbol': 'AAPL210115C00110000',\n",
       " 'strike': 110.0,\n",
       " 'currency': 'USD',\n",
       " 'lastPrice': 8.06,\n",
       " 'change': 0.21000051,\n",
       " 'percentChange': 2.675166,\n",
       " 'volume': 1954,\n",
       " 'openInterest': 72327,\n",
       " 'bid': 8.0,\n",
       " 'ask': 8.1,\n",
       " 'contractSize': 'REGULAR',\n",
       " 'expiration': 1610668800,\n",
       " 'lastTradeDate': 1606238650,\n",
       " 'impliedVolatility': 0.3064034204101562,\n",
       " 'inTheMoney': True}"
      ]
     },
     "execution_count": 18,
     "metadata": {},
     "output_type": "execute_result"
    }
   ],
   "source": [
    "i_opt= indice_opt.index\n",
    "opcion_valuar = aapl_opt.loc[i_opt[0]]\n",
    "opcion_valuar['JSON']"
   ]
  },
  {
   "cell_type": "code",
   "execution_count": 19,
   "metadata": {},
   "outputs": [
    {
     "name": "stdout",
     "output_type": "stream",
     "text": [
      "Precio del activo subyacente actual =  114.98\n"
     ]
    }
   ],
   "source": [
    "print('Precio del activo subyacente actual = ',opcion_valuar.Underlying_Price)"
   ]
  },
  {
   "cell_type": "markdown",
   "metadata": {},
   "source": [
    "# Simulación de precios usando rendimiento simple y logarítmico "
   ]
  },
  {
   "cell_type": "markdown",
   "metadata": {},
   "source": [
    "* Comenzaremos por suponer que los rendimientos son un p.e. estacionario que distribuyen $\\mathcal{N}(\\mu,\\sigma)$."
   ]
  },
  {
   "cell_type": "markdown",
   "metadata": {},
   "source": [
    "## Rendimiento Simple"
   ]
  },
  {
   "cell_type": "code",
   "execution_count": 20,
   "metadata": {
    "scrolled": false
   },
   "outputs": [
    {
     "data": {
      "text/html": [
       "<div>\n",
       "<style scoped>\n",
       "    .dataframe tbody tr th:only-of-type {\n",
       "        vertical-align: middle;\n",
       "    }\n",
       "\n",
       "    .dataframe tbody tr th {\n",
       "        vertical-align: top;\n",
       "    }\n",
       "\n",
       "    .dataframe thead th {\n",
       "        text-align: right;\n",
       "    }\n",
       "</style>\n",
       "<table border=\"1\" class=\"dataframe\">\n",
       "  <thead>\n",
       "    <tr style=\"text-align: right;\">\n",
       "      <th>Symbols</th>\n",
       "      <th>AAPL</th>\n",
       "    </tr>\n",
       "    <tr>\n",
       "      <th>Date</th>\n",
       "      <th></th>\n",
       "    </tr>\n",
       "  </thead>\n",
       "  <tbody>\n",
       "    <tr>\n",
       "      <th>2017-01-04</th>\n",
       "      <td>-0.001</td>\n",
       "    </tr>\n",
       "    <tr>\n",
       "      <th>2017-01-05</th>\n",
       "      <td>0.005</td>\n",
       "    </tr>\n",
       "    <tr>\n",
       "      <th>2017-01-06</th>\n",
       "      <td>0.011</td>\n",
       "    </tr>\n",
       "    <tr>\n",
       "      <th>2017-01-09</th>\n",
       "      <td>0.009</td>\n",
       "    </tr>\n",
       "    <tr>\n",
       "      <th>2017-01-10</th>\n",
       "      <td>0.001</td>\n",
       "    </tr>\n",
       "    <tr>\n",
       "      <th>...</th>\n",
       "      <td>...</td>\n",
       "    </tr>\n",
       "    <tr>\n",
       "      <th>2020-11-18</th>\n",
       "      <td>-0.011</td>\n",
       "    </tr>\n",
       "    <tr>\n",
       "      <th>2020-11-19</th>\n",
       "      <td>0.005</td>\n",
       "    </tr>\n",
       "    <tr>\n",
       "      <th>2020-11-20</th>\n",
       "      <td>-0.011</td>\n",
       "    </tr>\n",
       "    <tr>\n",
       "      <th>2020-11-23</th>\n",
       "      <td>-0.030</td>\n",
       "    </tr>\n",
       "    <tr>\n",
       "      <th>2020-11-24</th>\n",
       "      <td>0.010</td>\n",
       "    </tr>\n",
       "  </tbody>\n",
       "</table>\n",
       "<p>981 rows × 1 columns</p>\n",
       "</div>"
      ],
      "text/plain": [
       "Symbols      AAPL\n",
       "Date             \n",
       "2017-01-04 -0.001\n",
       "2017-01-05  0.005\n",
       "2017-01-06  0.011\n",
       "2017-01-09  0.009\n",
       "2017-01-10  0.001\n",
       "...           ...\n",
       "2020-11-18 -0.011\n",
       "2020-11-19  0.005\n",
       "2020-11-20 -0.011\n",
       "2020-11-23 -0.030\n",
       "2020-11-24  0.010\n",
       "\n",
       "[981 rows x 1 columns]"
      ]
     },
     "execution_count": 20,
     "metadata": {},
     "output_type": "execute_result"
    }
   ],
   "source": [
    "# Obtenemos el rendimiento simple\n",
    "Ri = closes_aapl.pct_change(1).iloc[1:]\n",
    "# Obtenemos su media y desviación estándar de los rendimientos\n",
    "mu_R = Ri.mean()[0]\n",
    "sigma_R = Ri.std()[0]\n",
    "Ri"
   ]
  },
  {
   "cell_type": "code",
   "execution_count": 22,
   "metadata": {},
   "outputs": [
    {
     "data": {
      "text/plain": [
       "DatetimeIndex(['2020-11-24', '2020-11-25', '2020-11-26', '2020-11-27',\n",
       "               '2020-11-30', '2020-12-01', '2020-12-02', '2020-12-03',\n",
       "               '2020-12-04', '2020-12-07', '2020-12-08', '2020-12-09',\n",
       "               '2020-12-10', '2020-12-11', '2020-12-14', '2020-12-15',\n",
       "               '2020-12-16', '2020-12-17', '2020-12-18', '2020-12-21',\n",
       "               '2020-12-22', '2020-12-23', '2020-12-24', '2020-12-25',\n",
       "               '2020-12-28', '2020-12-29', '2020-12-30', '2020-12-31',\n",
       "               '2021-01-01', '2021-01-04', '2021-01-05', '2021-01-06',\n",
       "               '2021-01-07', '2021-01-08', '2021-01-11', '2021-01-12',\n",
       "               '2021-01-13', '2021-01-14', '2021-01-15'],\n",
       "              dtype='datetime64[ns]', freq='B')"
      ]
     },
     "execution_count": 22,
     "metadata": {},
     "output_type": "execute_result"
    }
   ],
   "source": [
    "from datetime import date\n",
    "\n",
    "# Encontrar la fecha de hoy en fomato timestamp\n",
    "today = \n",
    "\n",
    "# Obtener fecha de cierre de la opción a valuar\n",
    "expiry = \n",
    "\n",
    "nscen = 10000\n",
    "\n",
    "# Generar rangos de fechas de días hábiles\n",
    "dates =\n",
    "ndays ="
   ]
  },
  {
   "cell_type": "markdown",
   "metadata": {},
   "source": [
    "## Mostrar como simular precios usando los rendimientos\n",
    "\n",
    "### 1. Usando rendimiento simple"
   ]
  },
  {
   "cell_type": "code",
   "execution_count": 23,
   "metadata": {},
   "outputs": [
    {
     "data": {
      "text/html": [
       "<div>\n",
       "<style scoped>\n",
       "    .dataframe tbody tr th:only-of-type {\n",
       "        vertical-align: middle;\n",
       "    }\n",
       "\n",
       "    .dataframe tbody tr th {\n",
       "        vertical-align: top;\n",
       "    }\n",
       "\n",
       "    .dataframe thead th {\n",
       "        text-align: right;\n",
       "    }\n",
       "</style>\n",
       "<table border=\"1\" class=\"dataframe\">\n",
       "  <thead>\n",
       "    <tr style=\"text-align: right;\">\n",
       "      <th></th>\n",
       "      <th>0</th>\n",
       "      <th>1</th>\n",
       "      <th>2</th>\n",
       "      <th>...</th>\n",
       "      <th>9997</th>\n",
       "      <th>9998</th>\n",
       "      <th>9999</th>\n",
       "    </tr>\n",
       "  </thead>\n",
       "  <tbody>\n",
       "    <tr>\n",
       "      <th>2020-11-24</th>\n",
       "      <td>1.025e-02</td>\n",
       "      <td>-7.811e-03</td>\n",
       "      <td>-1.218e-02</td>\n",
       "      <td>...</td>\n",
       "      <td>1.319e-02</td>\n",
       "      <td>1.520e-02</td>\n",
       "      <td>-2.207e-02</td>\n",
       "    </tr>\n",
       "    <tr>\n",
       "      <th>2020-11-25</th>\n",
       "      <td>2.972e-04</td>\n",
       "      <td>3.712e-06</td>\n",
       "      <td>1.711e-04</td>\n",
       "      <td>...</td>\n",
       "      <td>2.830e-04</td>\n",
       "      <td>-9.686e-05</td>\n",
       "      <td>3.448e-04</td>\n",
       "    </tr>\n",
       "    <tr>\n",
       "      <th>2020-11-26</th>\n",
       "      <td>7.489e-06</td>\n",
       "      <td>2.938e-08</td>\n",
       "      <td>-6.688e-06</td>\n",
       "      <td>...</td>\n",
       "      <td>-2.459e-06</td>\n",
       "      <td>7.583e-07</td>\n",
       "      <td>-1.692e-06</td>\n",
       "    </tr>\n",
       "    <tr>\n",
       "      <th>2020-11-27</th>\n",
       "      <td>1.294e-07</td>\n",
       "      <td>1.214e-10</td>\n",
       "      <td>1.868e-07</td>\n",
       "      <td>...</td>\n",
       "      <td>1.806e-09</td>\n",
       "      <td>2.609e-08</td>\n",
       "      <td>-8.830e-09</td>\n",
       "    </tr>\n",
       "    <tr>\n",
       "      <th>2020-11-30</th>\n",
       "      <td>-4.544e-09</td>\n",
       "      <td>1.636e-12</td>\n",
       "      <td>-9.962e-09</td>\n",
       "      <td>...</td>\n",
       "      <td>4.635e-11</td>\n",
       "      <td>-4.553e-10</td>\n",
       "      <td>-5.754e-11</td>\n",
       "    </tr>\n",
       "    <tr>\n",
       "      <th>...</th>\n",
       "      <td>...</td>\n",
       "      <td>...</td>\n",
       "      <td>...</td>\n",
       "      <td>...</td>\n",
       "      <td>...</td>\n",
       "      <td>...</td>\n",
       "      <td>...</td>\n",
       "    </tr>\n",
       "    <tr>\n",
       "      <th>2021-01-11</th>\n",
       "      <td>-7.276e-67</td>\n",
       "      <td>4.327e-72</td>\n",
       "      <td>2.278e-65</td>\n",
       "      <td>...</td>\n",
       "      <td>-2.117e-71</td>\n",
       "      <td>8.210e-69</td>\n",
       "      <td>1.061e-70</td>\n",
       "    </tr>\n",
       "    <tr>\n",
       "      <th>2021-01-12</th>\n",
       "      <td>-2.520e-68</td>\n",
       "      <td>1.518e-74</td>\n",
       "      <td>5.187e-68</td>\n",
       "      <td>...</td>\n",
       "      <td>1.749e-73</td>\n",
       "      <td>-4.248e-71</td>\n",
       "      <td>1.190e-72</td>\n",
       "    </tr>\n",
       "    <tr>\n",
       "      <th>2021-01-13</th>\n",
       "      <td>4.355e-70</td>\n",
       "      <td>1.626e-76</td>\n",
       "      <td>2.785e-70</td>\n",
       "      <td>...</td>\n",
       "      <td>3.515e-76</td>\n",
       "      <td>-2.703e-73</td>\n",
       "      <td>7.959e-75</td>\n",
       "    </tr>\n",
       "    <tr>\n",
       "      <th>2021-01-14</th>\n",
       "      <td>1.847e-72</td>\n",
       "      <td>3.506e-79</td>\n",
       "      <td>-4.750e-72</td>\n",
       "      <td>...</td>\n",
       "      <td>-5.331e-78</td>\n",
       "      <td>-3.576e-75</td>\n",
       "      <td>6.706e-77</td>\n",
       "    </tr>\n",
       "    <tr>\n",
       "      <th>2021-01-15</th>\n",
       "      <td>-3.816e-74</td>\n",
       "      <td>-2.783e-81</td>\n",
       "      <td>-4.603e-74</td>\n",
       "      <td>...</td>\n",
       "      <td>5.502e-80</td>\n",
       "      <td>6.715e-77</td>\n",
       "      <td>1.313e-78</td>\n",
       "    </tr>\n",
       "  </tbody>\n",
       "</table>\n",
       "<p>39 rows × 10000 columns</p>\n",
       "</div>"
      ],
      "text/plain": [
       "                 0          1          2     ...       9997       9998  \\\n",
       "2020-11-24  1.025e-02 -7.811e-03 -1.218e-02  ...  1.319e-02  1.520e-02   \n",
       "2020-11-25  2.972e-04  3.712e-06  1.711e-04  ...  2.830e-04 -9.686e-05   \n",
       "2020-11-26  7.489e-06  2.938e-08 -6.688e-06  ... -2.459e-06  7.583e-07   \n",
       "2020-11-27  1.294e-07  1.214e-10  1.868e-07  ...  1.806e-09  2.609e-08   \n",
       "2020-11-30 -4.544e-09  1.636e-12 -9.962e-09  ...  4.635e-11 -4.553e-10   \n",
       "...               ...        ...        ...  ...        ...        ...   \n",
       "2021-01-11 -7.276e-67  4.327e-72  2.278e-65  ... -2.117e-71  8.210e-69   \n",
       "2021-01-12 -2.520e-68  1.518e-74  5.187e-68  ...  1.749e-73 -4.248e-71   \n",
       "2021-01-13  4.355e-70  1.626e-76  2.785e-70  ...  3.515e-76 -2.703e-73   \n",
       "2021-01-14  1.847e-72  3.506e-79 -4.750e-72  ... -5.331e-78 -3.576e-75   \n",
       "2021-01-15 -3.816e-74 -2.783e-81 -4.603e-74  ...  5.502e-80  6.715e-77   \n",
       "\n",
       "                 9999  \n",
       "2020-11-24 -2.207e-02  \n",
       "2020-11-25  3.448e-04  \n",
       "2020-11-26 -1.692e-06  \n",
       "2020-11-27 -8.830e-09  \n",
       "2020-11-30 -5.754e-11  \n",
       "...               ...  \n",
       "2021-01-11  1.061e-70  \n",
       "2021-01-12  1.190e-72  \n",
       "2021-01-13  7.959e-75  \n",
       "2021-01-14  6.706e-77  \n",
       "2021-01-15  1.313e-78  \n",
       "\n",
       "[39 rows x 10000 columns]"
      ]
     },
     "execution_count": 23,
     "metadata": {},
     "output_type": "execute_result"
    }
   ],
   "source": [
    "# Simular los rendimientos\n",
    "\n",
    "# Rendimiento diario \n",
    "dt = 1\n",
    "# Z ~ N(0,1) normal estándar (ndays, nscen)\n",
    "Z = \n",
    "\n",
    "# Simulación normal de los rendimientos\n",
    "Ri_dt = "
   ]
  },
  {
   "cell_type": "code",
   "execution_count": 63,
   "metadata": {
    "scrolled": true
   },
   "outputs": [],
   "source": [
    "# Simulación del precio\n",
    "S_0 = closes_aapl.iloc[-1,0]\n",
    "S_T = S_0*(1+Ri_dt).cumprod()\n",
    "\n",
    "# Se muestran los precios simulados con los precios descargados\n",
    "# pd.concat([closes_aapl, S_T.iloc[:, :10]]).plot(figsize=(8,6));\n",
    "# plt.title('Simulación de precios usando rendimiento simple');"
   ]
  },
  {
   "cell_type": "markdown",
   "metadata": {},
   "source": [
    "### 2. Rendimiento Logarítmico"
   ]
  },
  {
   "cell_type": "code",
   "execution_count": 68,
   "metadata": {},
   "outputs": [
    {
     "data": {
      "text/plain": [
       "12.406036361277925"
      ]
     },
     "execution_count": 68,
     "metadata": {},
     "output_type": "execute_result"
    }
   ],
   "source": [
    "# Calcular rendimiento logarítmico\n",
    "ri = calc_daily_ret(closes_aapl)\n",
    "\n",
    "# Usando la media y desviación estándar de los rendimientos logarítmicos\n",
    "mu_r = ri.mean()[0]\n",
    "sigma_r = ri.std()[0]\n",
    "\n",
    "# Simulación del rendimiento\n",
    "Z = np.random.randn(ndays, nscen)\n",
    "sim_ret_ri = pd.DataFrame(mu_r * dt + Z * sigma_r * np.sqrt(dt), index=dates )\n",
    "\n",
    "# Simulación del precio\n",
    "S_0 = closes_aapl.iloc[-1,0]\n",
    "S_T2 = S_0*np.exp(sim_ret_ri.cumsum())\n",
    "\n",
    "# Se muestran los precios simulados con los precios descargados\n",
    "# pd.concat([closes_aapl,S_T2]).plot(figsize=(8,6));\n",
    "# plt.title('Simulación de precios usando rendimiento logarítmico');\n",
    "\n",
    "# from sklearn.metrics import mean_absolute_error\n",
    "e1 = np.abs(S_T-S_T2).mean().mean()\n",
    "e1"
   ]
  },
  {
   "cell_type": "code",
   "execution_count": 64,
   "metadata": {},
   "outputs": [
    {
     "name": "stdout",
     "output_type": "stream",
     "text": [
      "Las std usando rendimientos logarítmicos y simples son similares\n"
     ]
    },
    {
     "data": {
      "text/plain": [
       "(0.020018143695742747, 0.02004407070813071)"
      ]
     },
     "execution_count": 64,
     "metadata": {},
     "output_type": "execute_result"
    }
   ],
   "source": [
    "print('Las std usando rendimientos logarítmicos y simples son similares')\n",
    "sigma_R,sigma_r"
   ]
  },
  {
   "cell_type": "markdown",
   "metadata": {},
   "source": [
    "Con los precios simulados debemos de encontrar el valor de la opción según la función de pago correspondiente. Para este caso es:\n",
    "$$\n",
    "max(S_T - K,0)\n",
    "$$"
   ]
  },
  {
   "cell_type": "code",
   "execution_count": 27,
   "metadata": {},
   "outputs": [
    {
     "data": {
      "text/plain": [
       "{'contractSymbol': 'AAPL210115C00110000',\n",
       " 'strike': 110.0,\n",
       " 'currency': 'USD',\n",
       " 'lastPrice': 8.06,\n",
       " 'change': 0.21000051,\n",
       " 'percentChange': 2.675166,\n",
       " 'volume': 1954,\n",
       " 'openInterest': 72327,\n",
       " 'bid': 8.0,\n",
       " 'ask': 8.1,\n",
       " 'contractSize': 'REGULAR',\n",
       " 'expiration': 1610668800,\n",
       " 'lastTradeDate': 1606238650,\n",
       " 'impliedVolatility': 0.3064034204101562,\n",
       " 'inTheMoney': True}"
      ]
     },
     "execution_count": 27,
     "metadata": {},
     "output_type": "execute_result"
    }
   ],
   "source": [
    "opcion_valuar['JSON']"
   ]
  },
  {
   "cell_type": "markdown",
   "metadata": {},
   "source": [
    "## Valuación usando el modelo de Black and Scholes\n",
    "Los supuestos que hicieron Black y Scholes cuando dedujeron su fórmula para la valoración de opciones fueron los siguientes:\n",
    "1. El comportamiento del precio de la acción corresponde al modelo logarítmico normal, con $\\mu$ y $\\sigma$\n",
    "constantes.\n",
    "2. No hay costos de transición ni impuestos. Todos los títulos son perfectamente divisibles.\n",
    "3. No hay dividendos sobre la acción durante la vida de la opción.\n",
    "4. No hay oportunidades de arbitraje libres de riesgo.\n",
    "5. La negociación de valores es continua.\n",
    "6. Los inversionistas pueden adquirir u otorgar préstamos a la misma tasa de interés libre de riesgo.\n",
    "7. La tasa de interés libre de riesgo a corto plazo, r, es constante.\n",
    "\n",
    "Bajo los supuestos anteriores podemos presentar las **fórmulas de Black-Scholes** para calcular los precios de compra y de venta europeas sobre acciones que no pagan dividendos:\n",
    "$$\n",
    "\\text{Valor actual de la opción} = V(S_0, T) = S_0 N(d_1) - K e^{-r*T} N(d_2)\n",
    "$$\n",
    "\n",
    "donde:\n",
    "- $S_0$ = precio de la acción en el momento actual.\n",
    "- $K$ = precio \"de ejercicio\" de la opción.\n",
    "- $r$ = tasa de interés libre de riesgo.\n",
    "- $T$ = tiempo que le resta de vida a la opción.\n",
    "- $N(d)$ = función de distribución de la variable aleatoria normal con media nula y desviación típica unitaria\n",
    "(probabilidad de que dicha variable sea menor o igual que d). Función de distribución de probabilidad acumulada.\n",
    "- $\\sigma$ = varianza por período de la tasa o tipo de rendimiento de la opción.\n",
    "\n",
    "$$\n",
    "d_1 = \\frac{\\ln{\\frac{S_0}{K}} + (r + \\sigma^2 / 2) T}{\\sigma \\sqrt{T}}, \\quad d_2 = \\frac{\\ln{\\frac{S_0}{K}} + (r - \\sigma^2 / 2) T}{\\sigma \\sqrt{T}} \n",
    "$$\n",
    "\n",
    "**Nota**: observe que el __rendimiento esperado__ sobre la acción no se incluye en la ecuación de Black-Scholes. Hay un principio general conocido como valoración neutral al riesgo, el cual establece que cualquier título que depende de otros títulos negociados puede valorarse bajo el supuesto de que el mundo es neutral al riesgo. El resultado demuestra ser muy útil en la práctica. *En un mundo neutral al riesgo, el rendimiento esperado de todos los títulos es la tasa de interés libre de riesgo*, y la tasa de descuento correcta para los flujos de efectivo esperados también es la tasa de interés libre de riesgo.\n",
    "\n",
    "El equivalente a la función de Black-Scholes (valuación de la opción) se puede demostrar que es:\n",
    "$$\n",
    "\\text{Valor actual de la opción} = V(S_0, T) = E^*(e^{-rT} f(S_T)) = e^{-rT} E^*(f(S_T))\n",
    "$$\n",
    "\n",
    "donde \n",
    "$f(S_T)$ representa la función de pago de la opción, que para el caso de un call europeo sería $f(S_T) = \\max({S_T - K})$.\n",
    "\n",
    "> Referencia: http://diposit.ub.edu/dspace/bitstream/2445/32883/1/Benito_el_modelo_de_Black_Sholes.pdf (página 20)\n",
    "\n",
    "> Referencia 2: http://www.cmat.edu.uy/~mordecki/courses/upae/upae-curso.pdf (página 24)"
   ]
  },
  {
   "cell_type": "markdown",
   "metadata": {},
   "source": [
    "- Hallar media y desviación estándar muestral de los rendimientos logarítmicos"
   ]
  },
  {
   "cell_type": "code",
   "execution_count": 86,
   "metadata": {
    "scrolled": true
   },
   "outputs": [
    {
     "data": {
      "text/plain": [
       "(0.0014665545401242929, 0.02004407070813071)"
      ]
     },
     "execution_count": 86,
     "metadata": {},
     "output_type": "execute_result"
    }
   ],
   "source": [
    "mu = ret_aapl.mean()[0]\n",
    "sigma = ret_aapl.std()[0]\n",
    "mu, sigma"
   ]
  },
  {
   "cell_type": "markdown",
   "metadata": {},
   "source": [
    "No se toma la media sino la tasa libre de riesgo\n",
    "> Referencia: https://www.treasury.gov/resource-center/data-chart-center/interest-rates/Pages/TextView.aspx?data=yield"
   ]
  },
  {
   "cell_type": "code",
   "execution_count": 76,
   "metadata": {},
   "outputs": [],
   "source": [
    "# Tasa de bonos de 1 yr de fecha 11/23/20 -> 0.10%\n",
    "r = 0.0016/360 # Tasa diaria"
   ]
  },
  {
   "cell_type": "markdown",
   "metadata": {},
   "source": [
    "- Simularemos el tiempo de contrato desde `HOY` hasta la fecha de `Expiry`, 10 escenarios:\n",
    "    \n",
    "    - Generar fechas"
   ]
  },
  {
   "cell_type": "code",
   "execution_count": 80,
   "metadata": {},
   "outputs": [
    {
     "data": {
      "text/plain": [
       "DatetimeIndex(['2020-11-24', '2020-11-25', '2020-11-26', '2020-11-27',\n",
       "               '2020-11-28', '2020-11-29', '2020-11-30', '2020-12-01',\n",
       "               '2020-12-02', '2020-12-03', '2020-12-04', '2020-12-05',\n",
       "               '2020-12-06', '2020-12-07', '2020-12-08', '2020-12-09',\n",
       "               '2020-12-10', '2020-12-11', '2020-12-12', '2020-12-13',\n",
       "               '2020-12-14', '2020-12-15', '2020-12-16', '2020-12-17',\n",
       "               '2020-12-18', '2020-12-19', '2020-12-20', '2020-12-21',\n",
       "               '2020-12-22', '2020-12-23', '2020-12-24', '2020-12-25',\n",
       "               '2020-12-26', '2020-12-27', '2020-12-28', '2020-12-29',\n",
       "               '2020-12-30', '2020-12-31', '2021-01-01', '2021-01-02',\n",
       "               '2021-01-03', '2021-01-04', '2021-01-05', '2021-01-06',\n",
       "               '2021-01-07', '2021-01-08', '2021-01-09', '2021-01-10',\n",
       "               '2021-01-11', '2021-01-12', '2021-01-13', '2021-01-14'],\n",
       "              dtype='datetime64[ns]', freq='D')"
      ]
     },
     "execution_count": 80,
     "metadata": {},
     "output_type": "execute_result"
    }
   ],
   "source": [
    "from datetime import date\n",
    "\n",
    "today = pd.Timestamp(date.today())\n",
    "expiry = opcion_valuar.Expiry\n",
    "\n",
    "ndays = (expiry - today).days\n",
    "nscen = 10\n",
    "dates = pd.date_range(start=today, periods = ndays)\n",
    "dates"
   ]
  },
  {
   "cell_type": "markdown",
   "metadata": {},
   "source": [
    "- Generamos 10 escenarios de rendimientos simulados y guardamos en un dataframe"
   ]
  },
  {
   "cell_type": "code",
   "execution_count": 81,
   "metadata": {
    "scrolled": false
   },
   "outputs": [
    {
     "data": {
      "text/html": [
       "<div>\n",
       "<style scoped>\n",
       "    .dataframe tbody tr th:only-of-type {\n",
       "        vertical-align: middle;\n",
       "    }\n",
       "\n",
       "    .dataframe tbody tr th {\n",
       "        vertical-align: top;\n",
       "    }\n",
       "\n",
       "    .dataframe thead th {\n",
       "        text-align: right;\n",
       "    }\n",
       "</style>\n",
       "<table border=\"1\" class=\"dataframe\">\n",
       "  <thead>\n",
       "    <tr style=\"text-align: right;\">\n",
       "      <th></th>\n",
       "      <th>0</th>\n",
       "      <th>1</th>\n",
       "      <th>2</th>\n",
       "      <th>...</th>\n",
       "      <th>7</th>\n",
       "      <th>8</th>\n",
       "      <th>9</th>\n",
       "    </tr>\n",
       "  </thead>\n",
       "  <tbody>\n",
       "    <tr>\n",
       "      <th>2020-11-24</th>\n",
       "      <td>-0.043</td>\n",
       "      <td>0.021</td>\n",
       "      <td>0.004</td>\n",
       "      <td>...</td>\n",
       "      <td>-0.026</td>\n",
       "      <td>0.017</td>\n",
       "      <td>0.008</td>\n",
       "    </tr>\n",
       "    <tr>\n",
       "      <th>2020-11-25</th>\n",
       "      <td>-0.023</td>\n",
       "      <td>0.025</td>\n",
       "      <td>0.011</td>\n",
       "      <td>...</td>\n",
       "      <td>-0.005</td>\n",
       "      <td>-0.004</td>\n",
       "      <td>0.019</td>\n",
       "    </tr>\n",
       "    <tr>\n",
       "      <th>2020-11-26</th>\n",
       "      <td>-0.015</td>\n",
       "      <td>0.016</td>\n",
       "      <td>0.034</td>\n",
       "      <td>...</td>\n",
       "      <td>0.023</td>\n",
       "      <td>0.011</td>\n",
       "      <td>0.034</td>\n",
       "    </tr>\n",
       "    <tr>\n",
       "      <th>2020-11-27</th>\n",
       "      <td>-0.009</td>\n",
       "      <td>-0.032</td>\n",
       "      <td>0.051</td>\n",
       "      <td>...</td>\n",
       "      <td>0.014</td>\n",
       "      <td>0.030</td>\n",
       "      <td>0.026</td>\n",
       "    </tr>\n",
       "    <tr>\n",
       "      <th>2020-11-28</th>\n",
       "      <td>-0.013</td>\n",
       "      <td>-0.035</td>\n",
       "      <td>0.064</td>\n",
       "      <td>...</td>\n",
       "      <td>0.015</td>\n",
       "      <td>0.013</td>\n",
       "      <td>0.052</td>\n",
       "    </tr>\n",
       "    <tr>\n",
       "      <th>...</th>\n",
       "      <td>...</td>\n",
       "      <td>...</td>\n",
       "      <td>...</td>\n",
       "      <td>...</td>\n",
       "      <td>...</td>\n",
       "      <td>...</td>\n",
       "      <td>...</td>\n",
       "    </tr>\n",
       "    <tr>\n",
       "      <th>2021-01-10</th>\n",
       "      <td>-0.057</td>\n",
       "      <td>0.037</td>\n",
       "      <td>-0.100</td>\n",
       "      <td>...</td>\n",
       "      <td>0.186</td>\n",
       "      <td>-0.043</td>\n",
       "      <td>0.255</td>\n",
       "    </tr>\n",
       "    <tr>\n",
       "      <th>2021-01-11</th>\n",
       "      <td>-0.057</td>\n",
       "      <td>0.010</td>\n",
       "      <td>-0.111</td>\n",
       "      <td>...</td>\n",
       "      <td>0.194</td>\n",
       "      <td>-0.029</td>\n",
       "      <td>0.239</td>\n",
       "    </tr>\n",
       "    <tr>\n",
       "      <th>2021-01-12</th>\n",
       "      <td>-0.094</td>\n",
       "      <td>0.005</td>\n",
       "      <td>-0.133</td>\n",
       "      <td>...</td>\n",
       "      <td>0.214</td>\n",
       "      <td>-0.004</td>\n",
       "      <td>0.232</td>\n",
       "    </tr>\n",
       "    <tr>\n",
       "      <th>2021-01-13</th>\n",
       "      <td>-0.124</td>\n",
       "      <td>-0.001</td>\n",
       "      <td>-0.125</td>\n",
       "      <td>...</td>\n",
       "      <td>0.220</td>\n",
       "      <td>-0.022</td>\n",
       "      <td>0.247</td>\n",
       "    </tr>\n",
       "    <tr>\n",
       "      <th>2021-01-14</th>\n",
       "      <td>-0.119</td>\n",
       "      <td>-0.001</td>\n",
       "      <td>-0.140</td>\n",
       "      <td>...</td>\n",
       "      <td>0.225</td>\n",
       "      <td>-0.053</td>\n",
       "      <td>0.248</td>\n",
       "    </tr>\n",
       "  </tbody>\n",
       "</table>\n",
       "<p>52 rows × 10 columns</p>\n",
       "</div>"
      ],
      "text/plain": [
       "                0      1      2  ...      7      8      9\n",
       "2020-11-24 -0.043  0.021  0.004  ... -0.026  0.017  0.008\n",
       "2020-11-25 -0.023  0.025  0.011  ... -0.005 -0.004  0.019\n",
       "2020-11-26 -0.015  0.016  0.034  ...  0.023  0.011  0.034\n",
       "2020-11-27 -0.009 -0.032  0.051  ...  0.014  0.030  0.026\n",
       "2020-11-28 -0.013 -0.035  0.064  ...  0.015  0.013  0.052\n",
       "...           ...    ...    ...  ...    ...    ...    ...\n",
       "2021-01-10 -0.057  0.037 -0.100  ...  0.186 -0.043  0.255\n",
       "2021-01-11 -0.057  0.010 -0.111  ...  0.194 -0.029  0.239\n",
       "2021-01-12 -0.094  0.005 -0.133  ...  0.214 -0.004  0.232\n",
       "2021-01-13 -0.124 -0.001 -0.125  ...  0.220 -0.022  0.247\n",
       "2021-01-14 -0.119 -0.001 -0.140  ...  0.225 -0.053  0.248\n",
       "\n",
       "[52 rows x 10 columns]"
      ]
     },
     "execution_count": 81,
     "metadata": {},
     "output_type": "execute_result"
    }
   ],
   "source": [
    "sim_ret = pd.DataFrame(sigma*np.random.randn(ndays,nscen)+r, index=dates)\n",
    "sim_ret.cumsum()\n",
    "# Las columnas son los escenarios y las filas son las días de contrato"
   ]
  },
  {
   "cell_type": "markdown",
   "metadata": {},
   "source": [
    "- Con los rendimientos simulados, calcular los escenarios de precios respectivos:"
   ]
  },
  {
   "cell_type": "code",
   "execution_count": 82,
   "metadata": {},
   "outputs": [
    {
     "data": {
      "text/html": [
       "<div>\n",
       "<style scoped>\n",
       "    .dataframe tbody tr th:only-of-type {\n",
       "        vertical-align: middle;\n",
       "    }\n",
       "\n",
       "    .dataframe tbody tr th {\n",
       "        vertical-align: top;\n",
       "    }\n",
       "\n",
       "    .dataframe thead th {\n",
       "        text-align: right;\n",
       "    }\n",
       "</style>\n",
       "<table border=\"1\" class=\"dataframe\">\n",
       "  <thead>\n",
       "    <tr style=\"text-align: right;\">\n",
       "      <th></th>\n",
       "      <th>0</th>\n",
       "      <th>1</th>\n",
       "      <th>2</th>\n",
       "      <th>...</th>\n",
       "      <th>7</th>\n",
       "      <th>8</th>\n",
       "      <th>9</th>\n",
       "    </tr>\n",
       "  </thead>\n",
       "  <tbody>\n",
       "    <tr>\n",
       "      <th>2020-11-24</th>\n",
       "      <td>110.106</td>\n",
       "      <td>117.407</td>\n",
       "      <td>115.421</td>\n",
       "      <td>...</td>\n",
       "      <td>112.063</td>\n",
       "      <td>116.904</td>\n",
       "      <td>115.893</td>\n",
       "    </tr>\n",
       "    <tr>\n",
       "      <th>2020-11-25</th>\n",
       "      <td>112.361</td>\n",
       "      <td>117.858</td>\n",
       "      <td>116.264</td>\n",
       "      <td>...</td>\n",
       "      <td>114.387</td>\n",
       "      <td>114.552</td>\n",
       "      <td>117.243</td>\n",
       "    </tr>\n",
       "    <tr>\n",
       "      <th>2020-11-26</th>\n",
       "      <td>113.274</td>\n",
       "      <td>116.795</td>\n",
       "      <td>118.923</td>\n",
       "      <td>...</td>\n",
       "      <td>117.655</td>\n",
       "      <td>116.239</td>\n",
       "      <td>118.988</td>\n",
       "    </tr>\n",
       "    <tr>\n",
       "      <th>2020-11-27</th>\n",
       "      <td>113.982</td>\n",
       "      <td>111.359</td>\n",
       "      <td>120.948</td>\n",
       "      <td>...</td>\n",
       "      <td>116.551</td>\n",
       "      <td>118.482</td>\n",
       "      <td>117.969</td>\n",
       "    </tr>\n",
       "    <tr>\n",
       "      <th>2020-11-28</th>\n",
       "      <td>113.526</td>\n",
       "      <td>111.010</td>\n",
       "      <td>122.523</td>\n",
       "      <td>...</td>\n",
       "      <td>116.731</td>\n",
       "      <td>116.440</td>\n",
       "      <td>121.139</td>\n",
       "    </tr>\n",
       "    <tr>\n",
       "      <th>...</th>\n",
       "      <td>...</td>\n",
       "      <td>...</td>\n",
       "      <td>...</td>\n",
       "      <td>...</td>\n",
       "      <td>...</td>\n",
       "      <td>...</td>\n",
       "      <td>...</td>\n",
       "    </tr>\n",
       "    <tr>\n",
       "      <th>2021-01-10</th>\n",
       "      <td>108.592</td>\n",
       "      <td>119.362</td>\n",
       "      <td>104.022</td>\n",
       "      <td>...</td>\n",
       "      <td>138.492</td>\n",
       "      <td>110.131</td>\n",
       "      <td>148.347</td>\n",
       "    </tr>\n",
       "    <tr>\n",
       "      <th>2021-01-11</th>\n",
       "      <td>108.581</td>\n",
       "      <td>116.179</td>\n",
       "      <td>102.865</td>\n",
       "      <td>...</td>\n",
       "      <td>139.540</td>\n",
       "      <td>111.748</td>\n",
       "      <td>145.989</td>\n",
       "    </tr>\n",
       "    <tr>\n",
       "      <th>2021-01-12</th>\n",
       "      <td>104.698</td>\n",
       "      <td>115.534</td>\n",
       "      <td>100.629</td>\n",
       "      <td>...</td>\n",
       "      <td>142.440</td>\n",
       "      <td>114.519</td>\n",
       "      <td>145.051</td>\n",
       "    </tr>\n",
       "    <tr>\n",
       "      <th>2021-01-13</th>\n",
       "      <td>101.568</td>\n",
       "      <td>114.818</td>\n",
       "      <td>101.439</td>\n",
       "      <td>...</td>\n",
       "      <td>143.267</td>\n",
       "      <td>112.447</td>\n",
       "      <td>147.237</td>\n",
       "    </tr>\n",
       "    <tr>\n",
       "      <th>2021-01-14</th>\n",
       "      <td>102.111</td>\n",
       "      <td>114.818</td>\n",
       "      <td>99.972</td>\n",
       "      <td>...</td>\n",
       "      <td>144.007</td>\n",
       "      <td>109.033</td>\n",
       "      <td>147.329</td>\n",
       "    </tr>\n",
       "  </tbody>\n",
       "</table>\n",
       "<p>52 rows × 10 columns</p>\n",
       "</div>"
      ],
      "text/plain": [
       "                  0        1        2  ...        7        8        9\n",
       "2020-11-24  110.106  117.407  115.421  ...  112.063  116.904  115.893\n",
       "2020-11-25  112.361  117.858  116.264  ...  114.387  114.552  117.243\n",
       "2020-11-26  113.274  116.795  118.923  ...  117.655  116.239  118.988\n",
       "2020-11-27  113.982  111.359  120.948  ...  116.551  118.482  117.969\n",
       "2020-11-28  113.526  111.010  122.523  ...  116.731  116.440  121.139\n",
       "...             ...      ...      ...  ...      ...      ...      ...\n",
       "2021-01-10  108.592  119.362  104.022  ...  138.492  110.131  148.347\n",
       "2021-01-11  108.581  116.179  102.865  ...  139.540  111.748  145.989\n",
       "2021-01-12  104.698  115.534  100.629  ...  142.440  114.519  145.051\n",
       "2021-01-13  101.568  114.818  101.439  ...  143.267  112.447  147.237\n",
       "2021-01-14  102.111  114.818   99.972  ...  144.007  109.033  147.329\n",
       "\n",
       "[52 rows x 10 columns]"
      ]
     },
     "execution_count": 82,
     "metadata": {},
     "output_type": "execute_result"
    }
   ],
   "source": [
    "S0 = closes_aapl.iloc[-1,0]  # Condición inicial del precio a simular\n",
    "sim_closes = S0*np.exp(sim_ret.cumsum())\n",
    "sim_closes"
   ]
  },
  {
   "cell_type": "markdown",
   "metadata": {},
   "source": [
    "- Graficar:"
   ]
  },
  {
   "cell_type": "code",
   "execution_count": 34,
   "metadata": {},
   "outputs": [],
   "source": [
    "# sim_closes.plot(figsize=(8,6));"
   ]
  },
  {
   "cell_type": "code",
   "execution_count": 83,
   "metadata": {
    "scrolled": false
   },
   "outputs": [
    {
     "data": {
      "image/png": "[encoded data removed]",
      "text/plain": [
       "<Figure size 576x432 with 1 Axes>"
      ]
     },
     "metadata": {
      "needs_background": "light"
     },
     "output_type": "display_data"
    }
   ],
   "source": [
    "# Se muestran los precios simulados con los precios descargados\n",
    "pd.concat([closes_aapl,sim_closes]).plot(figsize=(8,6));"
   ]
  },
  {
   "cell_type": "code",
   "execution_count": 84,
   "metadata": {
    "scrolled": false
   },
   "outputs": [
    {
     "data": {
      "text/plain": [
       "{'contractSymbol': 'AAPL210115C00110000',\n",
       " 'strike': 110.0,\n",
       " 'currency': 'USD',\n",
       " 'lastPrice': 8.06,\n",
       " 'change': 0.21000051,\n",
       " 'percentChange': 2.675166,\n",
       " 'volume': 1954,\n",
       " 'openInterest': 72327,\n",
       " 'bid': 8.0,\n",
       " 'ask': 8.1,\n",
       " 'contractSize': 'REGULAR',\n",
       " 'expiration': 1610668800,\n",
       " 'lastTradeDate': 1606238650,\n",
       " 'impliedVolatility': 0.3064034204101562,\n",
       " 'inTheMoney': True}"
      ]
     },
     "execution_count": 84,
     "metadata": {},
     "output_type": "execute_result"
    }
   ],
   "source": [
    "opcion_valuar['JSON']"
   ]
  },
  {
   "cell_type": "code",
   "execution_count": 85,
   "metadata": {},
   "outputs": [
    {
     "data": {
      "text/plain": [
       "0.019301601220591564"
      ]
     },
     "execution_count": 85,
     "metadata": {},
     "output_type": "execute_result"
    }
   ],
   "source": [
    "# sigma =  0.3064034204101562/np.sqrt(252)\n",
    "# sigma"
   ]
  },
  {
   "cell_type": "code",
   "execution_count": 87,
   "metadata": {},
   "outputs": [],
   "source": [
    "from datetime import date\n",
    "Hoy = date.today()\n",
    "\n",
    "# strike price\n",
    "K = opcion_valuar['JSON']['strike']  \n",
    "\n",
    "# Fechas a simular\n",
    "dates = pd.date_range(start= Hoy, periods = ndays, freq='B')\n",
    "\n",
    "# Escenarios y número de días\n",
    "ndays = len(dates)\n",
    "nscen = 100000\n",
    "\n",
    "# Condición inicial del precio a simular\n",
    "S0 = closes_aapl.iloc[-1,0]  \n",
    "\n",
    "# simular rendimientos\n",
    "sim_ret = pd.DataFrame(sigma*np.random.randn(ndays,nscen)+r,index=dates)\n",
    "\n",
    "# Simular precios\n",
    "sim_closes = S0*np.exp(sim_ret.cumsum())\n"
   ]
  },
  {
   "cell_type": "code",
   "execution_count": 88,
   "metadata": {},
   "outputs": [
    {
     "data": {
      "image/png": "[encoded data removed]",
      "text/plain": [
       "<Figure size 432x288 with 1 Axes>"
      ]
     },
     "metadata": {
      "needs_background": "light"
     },
     "output_type": "display_data"
    }
   ],
   "source": [
    "# Frame con el valor del strike\n",
    "strike = pd.DataFrame(K*np.ones([ndays,nscen]), index=dates)\n",
    "\n",
    "# Valor del call europeo\n",
    "call = pd.DataFrame({'Prima':np.exp(-r*ndays) \\\n",
    "              *np.fmax(sim_closes-strike,np.zeros([ndays,nscen])).mean(axis=1)}, index=dates)\n",
    "call.plot();\n"
   ]
  },
  {
   "cell_type": "markdown",
   "metadata": {},
   "source": [
    "La valuación de la opción es:"
   ]
  },
  {
   "cell_type": "code",
   "execution_count": 89,
   "metadata": {},
   "outputs": [
    {
     "data": {
      "text/plain": [
       "Prima    10.151\n",
       "Name: 2021-02-03 00:00:00, dtype: float64"
      ]
     },
     "execution_count": 89,
     "metadata": {},
     "output_type": "execute_result"
    }
   ],
   "source": [
    "call.iloc[-1]"
   ]
  },
  {
   "cell_type": "markdown",
   "metadata": {},
   "source": [
    "Intervalo de confianza del 99%"
   ]
  },
  {
   "cell_type": "code",
   "execution_count": 91,
   "metadata": {
    "scrolled": true
   },
   "outputs": [
    {
     "name": "stdout",
     "output_type": "stream",
     "text": [
      "(10.01356361350177, 10.288335123581408)\n"
     ]
    }
   ],
   "source": [
    "confianza = 0.99\n",
    "sigma_est = sim_closes.iloc[-1].sem()\n",
    "mean_est = call.iloc[-1].Prima\n",
    "i2 = st.norm.interval(confianza, loc=mean_est, scale=sigma_est)\n",
    "print(i2)\n"
   ]
  },
  {
   "cell_type": "code",
   "execution_count": 93,
   "metadata": {},
   "outputs": [
    {
     "data": {
      "text/plain": [
       "{'contractSymbol': 'AAPL210115C00110000',\n",
       " 'strike': 110.0,\n",
       " 'currency': 'USD',\n",
       " 'lastPrice': 8.06,\n",
       " 'change': 0.21000051,\n",
       " 'percentChange': 2.675166,\n",
       " 'volume': 1954,\n",
       " 'openInterest': 72327,\n",
       " 'bid': 8.0,\n",
       " 'ask': 8.1,\n",
       " 'contractSize': 'REGULAR',\n",
       " 'expiration': 1610668800,\n",
       " 'lastTradeDate': 1606238650,\n",
       " 'impliedVolatility': 0.3064034204101562,\n",
       " 'inTheMoney': True}"
      ]
     },
     "execution_count": 93,
     "metadata": {},
     "output_type": "execute_result"
    }
   ],
   "source": [
    "opcion_valuar['JSON']"
   ]
  },
  {
   "cell_type": "markdown",
   "metadata": {},
   "source": [
    "## Precios simulados usando técnicas de reducción de varianza"
   ]
  },
  {
   "cell_type": "code",
   "execution_count": 97,
   "metadata": {},
   "outputs": [
    {
     "data": {
      "image/png": "[encoded data removed]",
      "text/plain": [
       "<Figure size 432x288 with 1 Axes>"
      ]
     },
     "metadata": {
      "needs_background": "light"
     },
     "output_type": "display_data"
    }
   ],
   "source": [
    "# Usando muestreo estratificado----> #estratros = nscen\n",
    "U = (np.arange(0,nscen)+np.random.rand(ndays,nscen))/nscen\n",
    "Z = st.norm.ppf(U)\n",
    "\n",
    "sim_ret2 = pd.DataFrame(sigma*Z+r,index=dates)\n",
    "sim_closes2 = S0*np.exp(sim_ret.cumsum())\n",
    "\n",
    "# Función de pago\n",
    "strike = pd.DataFrame(K*np.ones([ndays,nscen]), index=dates)\n",
    "call = pd.DataFrame({'Prima':np.exp(-r*ndays) \\\n",
    "              *np.fmax(sim_closes2-strike,np.zeros([ndays,nscen])).T.mean()}, index=dates)\n",
    "call.plot();"
   ]
  },
  {
   "cell_type": "markdown",
   "metadata": {},
   "source": [
    "La valuación de la opción es:"
   ]
  },
  {
   "cell_type": "code",
   "execution_count": 98,
   "metadata": {},
   "outputs": [
    {
     "data": {
      "text/plain": [
       "Prima    10.151\n",
       "Name: 2021-02-03 00:00:00, dtype: float64"
      ]
     },
     "execution_count": 98,
     "metadata": {},
     "output_type": "execute_result"
    }
   ],
   "source": [
    "call.iloc[-1]"
   ]
  },
  {
   "cell_type": "markdown",
   "metadata": {},
   "source": [
    "Intervalo de confianza del 99%"
   ]
  },
  {
   "cell_type": "code",
   "execution_count": 101,
   "metadata": {
    "scrolled": true
   },
   "outputs": [
    {
     "name": "stdout",
     "output_type": "stream",
     "text": [
      "(10.01356361350177, 10.288335123581408)\n"
     ]
    }
   ],
   "source": [
    "confianza = 0.99\n",
    "sigma_est = sim_closes2.iloc[-1].sem()\n",
    "mean_est = call.iloc[-1].Prima\n",
    "i2 = st.norm.interval(confianza, loc=mean_est, scale=sigma_est)\n",
    "print(i2)"
   ]
  },
  {
   "cell_type": "markdown",
   "metadata": {},
   "source": [
    "### Análisis de la distribución de los rendimientos"
   ]
  },
  {
   "cell_type": "markdown",
   "metadata": {},
   "source": [
    "### Ajustando norm"
   ]
  },
  {
   "cell_type": "code",
   "execution_count": 45,
   "metadata": {
    "scrolled": true
   },
   "outputs": [
    {
     "data": {
      "image/png": "[encoded data removed]",
      "text/plain": [
       "<Figure size 432x288 with 1 Axes>"
      ]
     },
     "metadata": {
      "needs_background": "light"
     },
     "output_type": "display_data"
    }
   ],
   "source": [
    "ren = calc_daily_ret(closes_aapl) # rendimientos \n",
    "y,x,des = plt.hist(ren['AAPL'],bins=50,density=True,label='Histograma rendimientos')\n",
    "\n",
    "mu_fit,sd_fit = st.norm.fit(ren) # Se ajustan los parámetros de una normal\n",
    "# Valores máximo y mínimo de los rendiemientos a generar\n",
    "ren_max = max(x);ren_min = min(x)\n",
    "# Vector de rendimientos generados\n",
    "ren_gen = np.arange(ren_min,ren_max,0.001)\n",
    "# Generación de la normal ajustado con los parámetros encontrados\n",
    "curve_fit = st.norm.pdf(ren_gen,loc=mu_fit,scale=sd_fit)\n",
    "plt.plot(ren_gen,curve_fit,label='Distribución ajustada')\n",
    "plt.legend()\n",
    "plt.show()\n"
   ]
  },
  {
   "cell_type": "markdown",
   "metadata": {},
   "source": [
    "### Ajustando t"
   ]
  },
  {
   "cell_type": "code",
   "execution_count": 111,
   "metadata": {},
   "outputs": [
    {
     "data": {
      "image/png": "[encoded data removed]",
      "text/plain": [
       "<Figure size 432x288 with 1 Axes>"
      ]
     },
     "metadata": {
      "needs_background": "light"
     },
     "output_type": "display_data"
    },
    {
     "data": {
      "image/png": "[encoded data removed]",
      "text/plain": [
       "<Figure size 432x288 with 1 Axes>"
      ]
     },
     "metadata": {
      "needs_background": "light"
     },
     "output_type": "display_data"
    }
   ],
   "source": [
    "# rendimientos \n",
    "ren = calc_daily_ret(closes_aapl) \n",
    "\n",
    "# Histograma de los rendimientos\n",
    "y, x, _ = plt.hist(ren['AAPL'], bins=50, density=True, label='Histograma rendimientos')\n",
    "\n",
    "# Se ajustan los parámetros de una distribución\n",
    "dist = 't'\n",
    "params = getattr(st, dist).fit(ren.values) \n",
    "\n",
    "# Generación de la pdf de la distribución ajustado con los parámetros encontrados\n",
    "curve_fit = getattr(st, dist).pdf(x, *params)\n",
    "plt.plot(x, curve_fit, label='Distribución ajustada')\n",
    "plt.legend()\n",
    "plt.show()\n",
    "\n",
    "# Q-Q\n",
    "st.probplot(ren['AAPL'], sparams=params[:-2], dist=dist, plot=plt);\n"
   ]
  },
  {
   "cell_type": "markdown",
   "metadata": {},
   "source": [
    "## 3. Valuación usando simulación: uso del histograma de rendimientos\n",
    "\n",
    "Todo el análisis anterior se mantiene. Solo cambia la forma de generar los números aleatorios para la simulación montecarlo.\n",
    "\n",
    "Ahora, generemos un histograma de los rendimientos diarios para generar valores aleatorios de los rendimientos simulados."
   ]
  },
  {
   "cell_type": "markdown",
   "metadata": {},
   "source": [
    "- Primero, cantidad de días y número de escenarios de simulación"
   ]
  },
  {
   "cell_type": "code",
   "execution_count": 112,
   "metadata": {},
   "outputs": [],
   "source": [
    "ndays = 109 \n",
    "nscen = 10"
   ]
  },
  {
   "cell_type": "markdown",
   "metadata": {},
   "source": [
    "- Del histograma anterior, ya conocemos las probabilidades de ocurrencia, lo que se llamó como variable `y`"
   ]
  },
  {
   "cell_type": "code",
   "execution_count": 116,
   "metadata": {},
   "outputs": [
    {
     "data": {
      "text/plain": [
       "1.0"
      ]
     },
     "execution_count": 116,
     "metadata": {},
     "output_type": "execute_result"
    }
   ],
   "source": [
    "prob = y/np.sum(y)\n",
    "values = x[1:]\n",
    "prob.sum()"
   ]
  },
  {
   "cell_type": "markdown",
   "metadata": {},
   "source": [
    "- Con esto, generamos los números aleatorios correspondientes a los rendimientos (tantos como días por número de escenarios)."
   ]
  },
  {
   "cell_type": "code",
   "execution_count": 117,
   "metadata": {},
   "outputs": [
    {
     "data": {
      "text/html": [
       "<div>\n",
       "<style scoped>\n",
       "    .dataframe tbody tr th:only-of-type {\n",
       "        vertical-align: middle;\n",
       "    }\n",
       "\n",
       "    .dataframe tbody tr th {\n",
       "        vertical-align: top;\n",
       "    }\n",
       "\n",
       "    .dataframe thead th {\n",
       "        text-align: right;\n",
       "    }\n",
       "</style>\n",
       "<table border=\"1\" class=\"dataframe\">\n",
       "  <thead>\n",
       "    <tr style=\"text-align: right;\">\n",
       "      <th></th>\n",
       "      <th>0</th>\n",
       "      <th>1</th>\n",
       "      <th>2</th>\n",
       "      <th>...</th>\n",
       "      <th>7</th>\n",
       "      <th>8</th>\n",
       "      <th>9</th>\n",
       "    </tr>\n",
       "  </thead>\n",
       "  <tbody>\n",
       "    <tr>\n",
       "      <th>2020-11-24</th>\n",
       "      <td>0.003</td>\n",
       "      <td>0.053</td>\n",
       "      <td>0.103</td>\n",
       "      <td>...</td>\n",
       "      <td>0.038</td>\n",
       "      <td>0.033</td>\n",
       "      <td>0.003</td>\n",
       "    </tr>\n",
       "    <tr>\n",
       "      <th>2020-11-25</th>\n",
       "      <td>-0.022</td>\n",
       "      <td>0.008</td>\n",
       "      <td>-0.022</td>\n",
       "      <td>...</td>\n",
       "      <td>0.018</td>\n",
       "      <td>0.008</td>\n",
       "      <td>-0.002</td>\n",
       "    </tr>\n",
       "    <tr>\n",
       "      <th>2020-11-26</th>\n",
       "      <td>0.008</td>\n",
       "      <td>-0.002</td>\n",
       "      <td>0.013</td>\n",
       "      <td>...</td>\n",
       "      <td>-0.002</td>\n",
       "      <td>0.013</td>\n",
       "      <td>-0.007</td>\n",
       "    </tr>\n",
       "    <tr>\n",
       "      <th>2020-11-27</th>\n",
       "      <td>0.028</td>\n",
       "      <td>0.018</td>\n",
       "      <td>-0.012</td>\n",
       "      <td>...</td>\n",
       "      <td>0.023</td>\n",
       "      <td>0.003</td>\n",
       "      <td>0.003</td>\n",
       "    </tr>\n",
       "    <tr>\n",
       "      <th>2020-11-28</th>\n",
       "      <td>0.008</td>\n",
       "      <td>-0.007</td>\n",
       "      <td>-0.002</td>\n",
       "      <td>...</td>\n",
       "      <td>-0.002</td>\n",
       "      <td>-0.002</td>\n",
       "      <td>0.068</td>\n",
       "    </tr>\n",
       "    <tr>\n",
       "      <th>...</th>\n",
       "      <td>...</td>\n",
       "      <td>...</td>\n",
       "      <td>...</td>\n",
       "      <td>...</td>\n",
       "      <td>...</td>\n",
       "      <td>...</td>\n",
       "      <td>...</td>\n",
       "    </tr>\n",
       "    <tr>\n",
       "      <th>2021-03-08</th>\n",
       "      <td>0.033</td>\n",
       "      <td>0.003</td>\n",
       "      <td>-0.022</td>\n",
       "      <td>...</td>\n",
       "      <td>0.013</td>\n",
       "      <td>0.058</td>\n",
       "      <td>0.038</td>\n",
       "    </tr>\n",
       "    <tr>\n",
       "      <th>2021-03-09</th>\n",
       "      <td>0.023</td>\n",
       "      <td>-0.017</td>\n",
       "      <td>0.038</td>\n",
       "      <td>...</td>\n",
       "      <td>0.008</td>\n",
       "      <td>0.013</td>\n",
       "      <td>0.008</td>\n",
       "    </tr>\n",
       "    <tr>\n",
       "      <th>2021-03-10</th>\n",
       "      <td>0.003</td>\n",
       "      <td>-0.037</td>\n",
       "      <td>-0.032</td>\n",
       "      <td>...</td>\n",
       "      <td>0.003</td>\n",
       "      <td>0.013</td>\n",
       "      <td>-0.007</td>\n",
       "    </tr>\n",
       "    <tr>\n",
       "      <th>2021-03-11</th>\n",
       "      <td>0.003</td>\n",
       "      <td>0.013</td>\n",
       "      <td>0.013</td>\n",
       "      <td>...</td>\n",
       "      <td>0.008</td>\n",
       "      <td>0.018</td>\n",
       "      <td>-0.002</td>\n",
       "    </tr>\n",
       "    <tr>\n",
       "      <th>2021-03-12</th>\n",
       "      <td>0.018</td>\n",
       "      <td>0.038</td>\n",
       "      <td>0.018</td>\n",
       "      <td>...</td>\n",
       "      <td>-0.002</td>\n",
       "      <td>-0.042</td>\n",
       "      <td>0.018</td>\n",
       "    </tr>\n",
       "  </tbody>\n",
       "</table>\n",
       "<p>109 rows × 10 columns</p>\n",
       "</div>"
      ],
      "text/plain": [
       "                0      1      2  ...      7      8      9\n",
       "2020-11-24  0.003  0.053  0.103  ...  0.038  0.033  0.003\n",
       "2020-11-25 -0.022  0.008 -0.022  ...  0.018  0.008 -0.002\n",
       "2020-11-26  0.008 -0.002  0.013  ... -0.002  0.013 -0.007\n",
       "2020-11-27  0.028  0.018 -0.012  ...  0.023  0.003  0.003\n",
       "2020-11-28  0.008 -0.007 -0.002  ... -0.002 -0.002  0.068\n",
       "...           ...    ...    ...  ...    ...    ...    ...\n",
       "2021-03-08  0.033  0.003 -0.022  ...  0.013  0.058  0.038\n",
       "2021-03-09  0.023 -0.017  0.038  ...  0.008  0.013  0.008\n",
       "2021-03-10  0.003 -0.037 -0.032  ...  0.003  0.013 -0.007\n",
       "2021-03-11  0.003  0.013  0.013  ...  0.008  0.018 -0.002\n",
       "2021-03-12  0.018  0.038  0.018  ... -0.002 -0.042  0.018\n",
       "\n",
       "[109 rows x 10 columns]"
      ]
     },
     "execution_count": 117,
     "metadata": {},
     "output_type": "execute_result"
    }
   ],
   "source": [
    "ret = np.random.choice(values, ndays*nscen, p=prob)\n",
    "dates = pd.date_range(start=Hoy,periods=ndays)\n",
    "sim_ret_hist = pd.DataFrame(ret.reshape((ndays,nscen)),index=dates)\n",
    "sim_ret_hist"
   ]
  },
  {
   "cell_type": "code",
   "execution_count": 118,
   "metadata": {
    "scrolled": false
   },
   "outputs": [
    {
     "data": {
      "text/html": [
       "<div>\n",
       "<style scoped>\n",
       "    .dataframe tbody tr th:only-of-type {\n",
       "        vertical-align: middle;\n",
       "    }\n",
       "\n",
       "    .dataframe tbody tr th {\n",
       "        vertical-align: top;\n",
       "    }\n",
       "\n",
       "    .dataframe thead th {\n",
       "        text-align: right;\n",
       "    }\n",
       "</style>\n",
       "<table border=\"1\" class=\"dataframe\">\n",
       "  <thead>\n",
       "    <tr style=\"text-align: right;\">\n",
       "      <th></th>\n",
       "      <th>0</th>\n",
       "      <th>1</th>\n",
       "      <th>2</th>\n",
       "      <th>...</th>\n",
       "      <th>7</th>\n",
       "      <th>8</th>\n",
       "      <th>9</th>\n",
       "    </tr>\n",
       "  </thead>\n",
       "  <tbody>\n",
       "    <tr>\n",
       "      <th>2020-11-24</th>\n",
       "      <td>115.300</td>\n",
       "      <td>121.232</td>\n",
       "      <td>127.470</td>\n",
       "      <td>...</td>\n",
       "      <td>119.421</td>\n",
       "      <td>118.823</td>\n",
       "      <td>115.300</td>\n",
       "    </tr>\n",
       "    <tr>\n",
       "      <th>2020-11-25</th>\n",
       "      <td>112.756</td>\n",
       "      <td>122.181</td>\n",
       "      <td>124.658</td>\n",
       "      <td>...</td>\n",
       "      <td>121.569</td>\n",
       "      <td>119.753</td>\n",
       "      <td>115.042</td>\n",
       "    </tr>\n",
       "    <tr>\n",
       "      <th>2020-11-26</th>\n",
       "      <td>113.638</td>\n",
       "      <td>121.907</td>\n",
       "      <td>126.265</td>\n",
       "      <td>...</td>\n",
       "      <td>121.297</td>\n",
       "      <td>121.297</td>\n",
       "      <td>114.210</td>\n",
       "    </tr>\n",
       "    <tr>\n",
       "      <th>2020-11-27</th>\n",
       "      <td>116.849</td>\n",
       "      <td>124.100</td>\n",
       "      <td>124.724</td>\n",
       "      <td>...</td>\n",
       "      <td>124.100</td>\n",
       "      <td>121.634</td>\n",
       "      <td>114.527</td>\n",
       "    </tr>\n",
       "    <tr>\n",
       "      <th>2020-11-28</th>\n",
       "      <td>117.763</td>\n",
       "      <td>123.203</td>\n",
       "      <td>124.445</td>\n",
       "      <td>...</td>\n",
       "      <td>123.822</td>\n",
       "      <td>121.362</td>\n",
       "      <td>122.586</td>\n",
       "    </tr>\n",
       "    <tr>\n",
       "      <th>...</th>\n",
       "      <td>...</td>\n",
       "      <td>...</td>\n",
       "      <td>...</td>\n",
       "      <td>...</td>\n",
       "      <td>...</td>\n",
       "      <td>...</td>\n",
       "      <td>...</td>\n",
       "    </tr>\n",
       "    <tr>\n",
       "      <th>2021-03-08</th>\n",
       "      <td>225.342</td>\n",
       "      <td>194.828</td>\n",
       "      <td>185.294</td>\n",
       "      <td>...</td>\n",
       "      <td>196.793</td>\n",
       "      <td>167.603</td>\n",
       "      <td>173.594</td>\n",
       "    </tr>\n",
       "    <tr>\n",
       "      <th>2021-03-09</th>\n",
       "      <td>230.549</td>\n",
       "      <td>191.488</td>\n",
       "      <td>192.451</td>\n",
       "      <td>...</td>\n",
       "      <td>198.333</td>\n",
       "      <td>169.764</td>\n",
       "      <td>174.952</td>\n",
       "    </tr>\n",
       "    <tr>\n",
       "      <th>2021-03-10</th>\n",
       "      <td>231.190</td>\n",
       "      <td>184.466</td>\n",
       "      <td>186.326</td>\n",
       "      <td>...</td>\n",
       "      <td>198.884</td>\n",
       "      <td>171.953</td>\n",
       "      <td>173.687</td>\n",
       "    </tr>\n",
       "    <tr>\n",
       "      <th>2021-03-11</th>\n",
       "      <td>231.833</td>\n",
       "      <td>186.844</td>\n",
       "      <td>188.728</td>\n",
       "      <td>...</td>\n",
       "      <td>200.440</td>\n",
       "      <td>175.046</td>\n",
       "      <td>173.298</td>\n",
       "    </tr>\n",
       "    <tr>\n",
       "      <th>2021-03-12</th>\n",
       "      <td>236.004</td>\n",
       "      <td>194.061</td>\n",
       "      <td>192.123</td>\n",
       "      <td>...</td>\n",
       "      <td>199.992</td>\n",
       "      <td>167.783</td>\n",
       "      <td>176.416</td>\n",
       "    </tr>\n",
       "  </tbody>\n",
       "</table>\n",
       "<p>109 rows × 10 columns</p>\n",
       "</div>"
      ],
      "text/plain": [
       "                  0        1        2  ...        7        8        9\n",
       "2020-11-24  115.300  121.232  127.470  ...  119.421  118.823  115.300\n",
       "2020-11-25  112.756  122.181  124.658  ...  121.569  119.753  115.042\n",
       "2020-11-26  113.638  121.907  126.265  ...  121.297  121.297  114.210\n",
       "2020-11-27  116.849  124.100  124.724  ...  124.100  121.634  114.527\n",
       "2020-11-28  117.763  123.203  124.445  ...  123.822  121.362  122.586\n",
       "...             ...      ...      ...  ...      ...      ...      ...\n",
       "2021-03-08  225.342  194.828  185.294  ...  196.793  167.603  173.594\n",
       "2021-03-09  230.549  191.488  192.451  ...  198.333  169.764  174.952\n",
       "2021-03-10  231.190  184.466  186.326  ...  198.884  171.953  173.687\n",
       "2021-03-11  231.833  186.844  188.728  ...  200.440  175.046  173.298\n",
       "2021-03-12  236.004  194.061  192.123  ...  199.992  167.783  176.416\n",
       "\n",
       "[109 rows x 10 columns]"
      ]
     },
     "execution_count": 118,
     "metadata": {},
     "output_type": "execute_result"
    }
   ],
   "source": [
    "sim_closes_hist = (closes_aapl.iloc[-1,0])*np.exp(sim_ret_hist.cumsum())\n",
    "sim_closes_hist"
   ]
  },
  {
   "cell_type": "code",
   "execution_count": 120,
   "metadata": {},
   "outputs": [
    {
     "data": {
      "image/png": "[encoded data removed]",
      "text/plain": [
       "<Figure size 576x432 with 1 Axes>"
      ]
     },
     "metadata": {
      "needs_background": "light"
     },
     "output_type": "display_data"
    }
   ],
   "source": [
    "sim_closes_hist.plot(figsize=(8,6),legend=False);"
   ]
  },
  {
   "cell_type": "code",
   "execution_count": 122,
   "metadata": {
    "scrolled": false
   },
   "outputs": [
    {
     "data": {
      "text/plain": [
       "Text(0.5, 1.0, 'Simulación usando el histograma de los rendimientos')"
      ]
     },
     "execution_count": 122,
     "metadata": {},
     "output_type": "execute_result"
    },
    {
     "data": {
      "image/png": "[encoded data removed]",
      "text/plain": [
       "<Figure size 576x432 with 1 Axes>"
      ]
     },
     "metadata": {
      "needs_background": "light"
     },
     "output_type": "display_data"
    }
   ],
   "source": [
    "pd.concat([closes_aapl,sim_closes_hist]).plot(figsize=(8,6),legend=False);\n",
    "plt.title('Simulación usando el histograma de los rendimientos')"
   ]
  },
  {
   "cell_type": "code",
   "execution_count": 127,
   "metadata": {},
   "outputs": [
    {
     "ename": "AttributeError",
     "evalue": "'DatetimeIndex' object has no attribute 'lenght'",
     "output_type": "error",
     "traceback": [
      "\u001b[0;31m---------------------------------------------------------------------------\u001b[0m",
      "\u001b[0;31mAttributeError\u001b[0m                            Traceback (most recent call last)",
      "\u001b[0;32m<ipython-input-127-93b8f8a5ea09>\u001b[0m in \u001b[0;36m<module>\u001b[0;34m\u001b[0m\n\u001b[0;32m----> 1\u001b[0;31m \u001b[0mdates\u001b[0m\u001b[0;34m.\u001b[0m\u001b[0mlenght\u001b[0m\u001b[0;34m\u001b[0m\u001b[0;34m\u001b[0m\u001b[0m\n\u001b[0m",
      "\u001b[0;31mAttributeError\u001b[0m: 'DatetimeIndex' object has no attribute 'lenght'"
     ]
    }
   ],
   "source": []
  },
  {
   "cell_type": "code",
   "execution_count": 128,
   "metadata": {},
   "outputs": [],
   "source": [
    "K = opcion_valuar['JSON']['strike']\n",
    "ndays = len(dates)\n",
    "nscen = 10000\n",
    "\n",
    "# Histograma tomando la tasa libre de riesgo\n",
    "freq, values = np.histogram(ret_aapl+r-mu, bins=2000)\n",
    "prob = freq/np.sum(freq)\n",
    "\n",
    "# Simulación de los rendimientos\n",
    "ret = np.random.choice(values[1:], ndays*nscen, p=prob)\n",
    "\n",
    "# Simulación de precios\n",
    "sim_ret_hist = pd.DataFrame(ret.reshape((ndays,nscen)),index=dates)\n",
    "sim_closes_hist = (closes_aapl.iloc[-1,0]) * np.exp(sim_ret_hist.cumsum())"
   ]
  },
  {
   "cell_type": "code",
   "execution_count": 129,
   "metadata": {},
   "outputs": [
    {
     "data": {
      "image/png": "[encoded data removed]",
      "text/plain": [
       "<Figure size 432x288 with 1 Axes>"
      ]
     },
     "metadata": {
      "needs_background": "light"
     },
     "output_type": "display_data"
    }
   ],
   "source": [
    "strike = pd.DataFrame(K*np.ones(ndays*nscen).reshape((ndays,nscen)), index=dates)\n",
    "call_hist = pd.DataFrame({'Prima':np.exp(-r*ndays) \\\n",
    "                          *np.fmax(sim_closes_hist-strike,np.zeros(ndays*nscen).reshape((ndays,nscen))).T.mean()}, index=dates)\n",
    "call_hist.plot();"
   ]
  },
  {
   "cell_type": "code",
   "execution_count": 130,
   "metadata": {
    "scrolled": true
   },
   "outputs": [
    {
     "data": {
      "text/plain": [
       "Prima    14.163\n",
       "Name: 2021-03-12 00:00:00, dtype: float64"
      ]
     },
     "execution_count": 130,
     "metadata": {},
     "output_type": "execute_result"
    }
   ],
   "source": [
    "call_hist.iloc[-1]"
   ]
  },
  {
   "cell_type": "code",
   "execution_count": 131,
   "metadata": {},
   "outputs": [
    {
     "data": {
      "text/plain": [
       "{'contractSymbol': 'AAPL210115C00110000',\n",
       " 'strike': 110.0,\n",
       " 'currency': 'USD',\n",
       " 'lastPrice': 8.06,\n",
       " 'change': 0.21000051,\n",
       " 'percentChange': 2.675166,\n",
       " 'volume': 1954,\n",
       " 'openInterest': 72327,\n",
       " 'bid': 8.0,\n",
       " 'ask': 8.1,\n",
       " 'contractSize': 'REGULAR',\n",
       " 'expiration': 1610668800,\n",
       " 'lastTradeDate': 1606238650,\n",
       " 'impliedVolatility': 0.3064034204101562,\n",
       " 'inTheMoney': True}"
      ]
     },
     "execution_count": 131,
     "metadata": {},
     "output_type": "execute_result"
    }
   ],
   "source": [
    "opcion_valuar['JSON']"
   ]
  },
  {
   "cell_type": "markdown",
   "metadata": {},
   "source": [
    "Intervalo de confianza del 95%"
   ]
  },
  {
   "cell_type": "code",
   "execution_count": 132,
   "metadata": {
    "scrolled": true
   },
   "outputs": [
    {
     "name": "stdout",
     "output_type": "stream",
     "text": [
      "(13.677718882349486, 14.649205393335874)\n",
      "(13.677718882349486, 14.649205393335874)\n"
     ]
    }
   ],
   "source": [
    "confianza = 0.95\n",
    "sigma_est = sim_closes_hist.iloc[-1].sem()\n",
    "mean_est = call_hist.iloc[-1].Prima\n",
    "i1 = st.t.interval(confianza,nscen-1, loc=mean_est, scale=sigma_est)\n",
    "i2 = st.norm.interval(confianza, loc=mean_est, scale=sigma_est)\n",
    "print(i1)\n",
    "print(i1)\n"
   ]
  },
  {
   "cell_type": "markdown",
   "metadata": {},
   "source": [
    "# <font color = 'red'> Tarea: </font>\n",
    "\n",
    "Replicar el procedimiento anterior para valoración de opciones 'call', pero en este caso para opciones tipo 'put'."
   ]
  },
  {
   "cell_type": "markdown",
   "metadata": {},
   "source": [
    "<script>\n",
    "  $(document).ready(function(){\n",
    "    $('div.prompt').hide();\n",
    "    $('div.back-to-top').hide();\n",
    "    $('nav#menubar').hide();\n",
    "    $('.breadcrumb').hide();\n",
    "    $('.hidden-print').hide();\n",
    "  });\n",
    "</script>\n",
    "\n",
    "<footer id=\"attribution\" style=\"float:right; color:#808080; background:#fff;\">\n",
    "Created with Jupyter by Esteban Jiménez Rodríguez and modified by Oscar Jaramillo Z.\n",
    "</footer>"
   ]
  }
 ],
 "metadata": {
  "kernelspec": {
   "display_name": "Python 3",
   "language": "python",
   "name": "python3"
  },
  "language_info": {
   "codemirror_mode": {
    "name": "ipython",
    "version": 3
   },
   "file_extension": ".py",
   "mimetype": "text/x-python",
   "name": "python",
   "nbconvert_exporter": "python",
   "pygments_lexer": "ipython3",
   "version": "3.8.3"
  }
 },
 "nbformat": 4,
 "nbformat_minor": 2
}
