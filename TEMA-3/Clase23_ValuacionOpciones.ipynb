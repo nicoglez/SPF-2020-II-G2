{
 "cells": [
  {
   "cell_type": "markdown",
   "metadata": {},
   "source": [
    "<img style=\"float: right; margin: 0px 0px 15px 15px;\" src=\"https://encrypted-tbn0.gstatic.com/images?q=tbn:ANd9GcSQt6eQo8JPYzYO4p6WmxLtccdtJ4X8WR6GzVVKbsMjyGvUDEn1mg\" width=\"300px\" height=\"100px\" />\n",
    "\n",
    "# Trabajando con opciones"
   ]
  },
  {
   "cell_type": "markdown",
   "metadata": {},
   "source": [
    "Una opción puede negociarse en el mercado secundario por lo que es importante determinar su valor $V_t$ para cada tiempo $t\\in [0, T]$. La ganancia que obtiene quién adquiere la opción se llama función de pago o \"payoff\" y claramente depende del valor del subyacente. \n",
    "\n",
    "Hay una gran variedad de opciones en el mercado y éstas se clasiflcan según su función de pago y la forma en que pueden ejercerse.  Las opciones que tienen como función de pago a\n",
    "$$ P(S(t),t)=max\\{S(T)-K,0\\} \\rightarrow \\text{En el caso de Call}$$ \n",
    "$$ P(S(t),t)=max\\{K-S(T),0\\} \\rightarrow \\text{En el caso de Put}$$ \n",
    "se llaman opciones **Vainilla**, con $h:[0,\\infty) \\to [0,\\infty)$.\n",
    "\n",
    "La opción se llama **europea** si puede ejercerse sólo en la fecha de vencimiento.\n",
    "\n",
    "Se dice que una opción es **americana** si puede ejercerse en cualquier momento antes o en la fecha de vencimiento.\n",
    "\n",
    "Una opción compleja popular son las llamadas **opciones asiáticas** cuyos pagos dependen de todas las trayectorias del precio de los activos subyacentes. Las opciones cuyos pagos dependen de las trayectorias de los precios de los activos subyacentes se denominan opciones dependientes de la ruta.\n",
    "\n",
    "Principalmente, se puede resumir que las dos razones con más peso de importancia para utilizar opciones son el **aseguramiento** y la **especulación**.\n",
    "\n",
    "## Opciones Plan Vainilla: opción de compra y opción de venta europea\n",
    "\n",
    "Una opción vainilla o estándar es una opción normal de compra o venta que no tiene características especiales o inusuales. Puede ser para tamaños y vencimientos estandarizados, y negociarse en un intercambio.\n",
    "En comparación con otras estructuras de opciones, las opciones de vanilla no son sofisticadas o complicadas.\n"
   ]
  },
  {
   "cell_type": "markdown",
   "metadata": {},
   "source": [
    "## 1. ¿Cómo descargar datos de opciones?"
   ]
  },
  {
   "cell_type": "code",
   "execution_count": 1,
   "metadata": {},
   "outputs": [],
   "source": [
    "#importar los paquetes que se van a usar\n",
    "import pandas as pd\n",
    "import pandas_datareader.data as web\n",
    "import numpy as np\n",
    "import datetime\n",
    "import matplotlib.pyplot as plt\n",
    "import scipy.stats as st\n",
    "import seaborn as sns\n",
    "%matplotlib inline\n",
    "#algunas opciones para Pandas\n",
    "pd.set_option('display.notebook_repr_html', True)\n",
    "pd.set_option('display.max_columns', 6)\n",
    "pd.set_option('display.max_rows', 10)\n",
    "pd.set_option('display.width', 78)\n",
    "pd.set_option('precision', 3)"
   ]
  },
  {
   "cell_type": "markdown",
   "metadata": {},
   "source": [
    "Usando el paquete `pandas_datareader` también podemos descargar datos de opciones. Por ejemplo, descarguemos los datos de las opciones cuyo activo subyacente son las acciones de Apple"
   ]
  },
  {
   "cell_type": "code",
   "execution_count": 2,
   "metadata": {
    "scrolled": false
   },
   "outputs": [
    {
     "data": {
      "text/html": [
       "<div>\n",
       "<style scoped>\n",
       "    .dataframe tbody tr th:only-of-type {\n",
       "        vertical-align: middle;\n",
       "    }\n",
       "\n",
       "    .dataframe tbody tr th {\n",
       "        vertical-align: top;\n",
       "    }\n",
       "\n",
       "    .dataframe thead th {\n",
       "        text-align: right;\n",
       "    }\n",
       "</style>\n",
       "<table border=\"1\" class=\"dataframe\">\n",
       "  <thead>\n",
       "    <tr style=\"text-align: right;\">\n",
       "      <th></th>\n",
       "      <th>Strike</th>\n",
       "      <th>Type</th>\n",
       "      <th>Symbol</th>\n",
       "      <th>...</th>\n",
       "      <th>Quote_Time</th>\n",
       "      <th>Last_Trade_Date</th>\n",
       "      <th>JSON</th>\n",
       "    </tr>\n",
       "    <tr>\n",
       "      <th>Expiry</th>\n",
       "      <th></th>\n",
       "      <th></th>\n",
       "      <th></th>\n",
       "      <th></th>\n",
       "      <th></th>\n",
       "      <th></th>\n",
       "      <th></th>\n",
       "    </tr>\n",
       "  </thead>\n",
       "  <tbody>\n",
       "    <tr>\n",
       "      <th>2021-01-15</th>\n",
       "      <td>18.75</td>\n",
       "      <td>call</td>\n",
       "      <td>AAPL210115C00018750</td>\n",
       "      <td>...</td>\n",
       "      <td>2020-11-19 21:00:01</td>\n",
       "      <td>2020-11-17 18:56:15</td>\n",
       "      <td>{'contractSymbol': 'AAPL210115C00018750', 'str...</td>\n",
       "    </tr>\n",
       "    <tr>\n",
       "      <th>2021-01-15</th>\n",
       "      <td>18.75</td>\n",
       "      <td>put</td>\n",
       "      <td>AAPL210115P00018750</td>\n",
       "      <td>...</td>\n",
       "      <td>2020-11-19 21:00:01</td>\n",
       "      <td>2020-11-16 14:30:01</td>\n",
       "      <td>{'contractSymbol': 'AAPL210115P00018750', 'str...</td>\n",
       "    </tr>\n",
       "    <tr>\n",
       "      <th>2021-06-18</th>\n",
       "      <td>18.75</td>\n",
       "      <td>call</td>\n",
       "      <td>AAPL210618C00018750</td>\n",
       "      <td>...</td>\n",
       "      <td>2020-11-19 21:00:01</td>\n",
       "      <td>2020-11-17 14:36:29</td>\n",
       "      <td>{'contractSymbol': 'AAPL210618C00018750', 'str...</td>\n",
       "    </tr>\n",
       "    <tr>\n",
       "      <th>2021-06-18</th>\n",
       "      <td>18.75</td>\n",
       "      <td>put</td>\n",
       "      <td>AAPL210618P00018750</td>\n",
       "      <td>...</td>\n",
       "      <td>2020-11-19 21:00:01</td>\n",
       "      <td>2020-11-18 17:07:44</td>\n",
       "      <td>{'contractSymbol': 'AAPL210618P00018750', 'str...</td>\n",
       "    </tr>\n",
       "    <tr>\n",
       "      <th>2020-11-20</th>\n",
       "      <td>20.00</td>\n",
       "      <td>call</td>\n",
       "      <td>AAPL201120C00020000</td>\n",
       "      <td>...</td>\n",
       "      <td>2020-11-19 21:00:01</td>\n",
       "      <td>2020-11-18 18:21:12</td>\n",
       "      <td>{'contractSymbol': 'AAPL201120C00020000', 'str...</td>\n",
       "    </tr>\n",
       "    <tr>\n",
       "      <th>...</th>\n",
       "      <td>...</td>\n",
       "      <td>...</td>\n",
       "      <td>...</td>\n",
       "      <td>...</td>\n",
       "      <td>...</td>\n",
       "      <td>...</td>\n",
       "      <td>...</td>\n",
       "    </tr>\n",
       "    <tr>\n",
       "      <th>2021-09-17</th>\n",
       "      <td>1000.00</td>\n",
       "      <td>call</td>\n",
       "      <td>AAPL210917C01000000</td>\n",
       "      <td>...</td>\n",
       "      <td>2020-11-19 21:00:01</td>\n",
       "      <td>2020-08-28 19:58:31</td>\n",
       "      <td>{'contractSymbol': 'AAPL210917C01000000', 'str...</td>\n",
       "    </tr>\n",
       "    <tr>\n",
       "      <th>2022-01-21</th>\n",
       "      <td>1000.00</td>\n",
       "      <td>call</td>\n",
       "      <td>AAPL220121C01000000</td>\n",
       "      <td>...</td>\n",
       "      <td>2020-11-19 21:00:01</td>\n",
       "      <td>2020-08-28 19:59:43</td>\n",
       "      <td>{'contractSymbol': 'AAPL220121C01000000', 'str...</td>\n",
       "    </tr>\n",
       "    <tr>\n",
       "      <th>2022-06-17</th>\n",
       "      <td>1000.00</td>\n",
       "      <td>call</td>\n",
       "      <td>AAPL220617C01000000</td>\n",
       "      <td>...</td>\n",
       "      <td>2020-11-19 21:00:01</td>\n",
       "      <td>2020-08-28 19:48:09</td>\n",
       "      <td>{'contractSymbol': 'AAPL220617C01000000', 'str...</td>\n",
       "    </tr>\n",
       "    <tr>\n",
       "      <th>2022-09-16</th>\n",
       "      <td>1000.00</td>\n",
       "      <td>call</td>\n",
       "      <td>AAPL220916C01000000</td>\n",
       "      <td>...</td>\n",
       "      <td>2020-11-19 21:00:01</td>\n",
       "      <td>2020-08-28 19:59:03</td>\n",
       "      <td>{'contractSymbol': 'AAPL220916C01000000', 'str...</td>\n",
       "    </tr>\n",
       "    <tr>\n",
       "      <th>2022-09-16</th>\n",
       "      <td>1000.00</td>\n",
       "      <td>put</td>\n",
       "      <td>AAPL220916P01000000</td>\n",
       "      <td>...</td>\n",
       "      <td>2020-11-19 21:00:01</td>\n",
       "      <td>2020-08-28 17:27:35</td>\n",
       "      <td>{'contractSymbol': 'AAPL220916P01000000', 'str...</td>\n",
       "    </tr>\n",
       "  </tbody>\n",
       "</table>\n",
       "<p>3358 rows × 18 columns</p>\n",
       "</div>"
      ],
      "text/plain": [
       "             Strike  Type               Symbol  ...          Quote_Time  \\\n",
       "Expiry                                          ...                       \n",
       "2021-01-15    18.75  call  AAPL210115C00018750  ... 2020-11-19 21:00:01   \n",
       "2021-01-15    18.75   put  AAPL210115P00018750  ... 2020-11-19 21:00:01   \n",
       "2021-06-18    18.75  call  AAPL210618C00018750  ... 2020-11-19 21:00:01   \n",
       "2021-06-18    18.75   put  AAPL210618P00018750  ... 2020-11-19 21:00:01   \n",
       "2020-11-20    20.00  call  AAPL201120C00020000  ... 2020-11-19 21:00:01   \n",
       "...             ...   ...                  ...  ...                 ...   \n",
       "2021-09-17  1000.00  call  AAPL210917C01000000  ... 2020-11-19 21:00:01   \n",
       "2022-01-21  1000.00  call  AAPL220121C01000000  ... 2020-11-19 21:00:01   \n",
       "2022-06-17  1000.00  call  AAPL220617C01000000  ... 2020-11-19 21:00:01   \n",
       "2022-09-16  1000.00  call  AAPL220916C01000000  ... 2020-11-19 21:00:01   \n",
       "2022-09-16  1000.00   put  AAPL220916P01000000  ... 2020-11-19 21:00:01   \n",
       "\n",
       "               Last_Trade_Date  \\\n",
       "Expiry                           \n",
       "2021-01-15 2020-11-17 18:56:15   \n",
       "2021-01-15 2020-11-16 14:30:01   \n",
       "2021-06-18 2020-11-17 14:36:29   \n",
       "2021-06-18 2020-11-18 17:07:44   \n",
       "2020-11-20 2020-11-18 18:21:12   \n",
       "...                        ...   \n",
       "2021-09-17 2020-08-28 19:58:31   \n",
       "2022-01-21 2020-08-28 19:59:43   \n",
       "2022-06-17 2020-08-28 19:48:09   \n",
       "2022-09-16 2020-08-28 19:59:03   \n",
       "2022-09-16 2020-08-28 17:27:35   \n",
       "\n",
       "                                                         JSON  \n",
       "Expiry                                                         \n",
       "2021-01-15  {'contractSymbol': 'AAPL210115C00018750', 'str...  \n",
       "2021-01-15  {'contractSymbol': 'AAPL210115P00018750', 'str...  \n",
       "2021-06-18  {'contractSymbol': 'AAPL210618C00018750', 'str...  \n",
       "2021-06-18  {'contractSymbol': 'AAPL210618P00018750', 'str...  \n",
       "2020-11-20  {'contractSymbol': 'AAPL201120C00020000', 'str...  \n",
       "...                                                       ...  \n",
       "2021-09-17  {'contractSymbol': 'AAPL210917C01000000', 'str...  \n",
       "2022-01-21  {'contractSymbol': 'AAPL220121C01000000', 'str...  \n",
       "2022-06-17  {'contractSymbol': 'AAPL220617C01000000', 'str...  \n",
       "2022-09-16  {'contractSymbol': 'AAPL220916C01000000', 'str...  \n",
       "2022-09-16  {'contractSymbol': 'AAPL220916P01000000', 'str...  \n",
       "\n",
       "[3358 rows x 18 columns]"
      ]
     },
     "execution_count": 2,
     "metadata": {},
     "output_type": "execute_result"
    }
   ],
   "source": [
    "aapl = web.YahooOptions('AAPL')\n",
    "aapl_opt = aapl.get_all_data().reset_index()\n",
    "aapl_opt.set_index('Expiry')\n",
    "# aapl"
   ]
  },
  {
   "cell_type": "markdown",
   "metadata": {},
   "source": [
    "Precio del activo subyacente"
   ]
  },
  {
   "cell_type": "code",
   "execution_count": 3,
   "metadata": {
    "scrolled": true
   },
   "outputs": [
    {
     "data": {
      "text/plain": [
       "118.64"
      ]
     },
     "execution_count": 3,
     "metadata": {},
     "output_type": "execute_result"
    }
   ],
   "source": [
    "aapl_opt.Underlying_Price[0]"
   ]
  },
  {
   "cell_type": "markdown",
   "metadata": {},
   "source": [
    "Datos de la opción "
   ]
  },
  {
   "cell_type": "code",
   "execution_count": 21,
   "metadata": {
    "scrolled": true
   },
   "outputs": [
    {
     "data": {
      "text/plain": [
       "{'contractSymbol': 'AAPL210115C00018750',\n",
       " 'strike': 18.75,\n",
       " 'currency': 'USD',\n",
       " 'lastPrice': 101.65,\n",
       " 'change': 0.0,\n",
       " 'percentChange': 0.0,\n",
       " 'volume': 1,\n",
       " 'openInterest': 258,\n",
       " 'bid': 99.6,\n",
       " 'ask': 100.25,\n",
       " 'contractSize': 'REGULAR',\n",
       " 'expiration': 1610668800,\n",
       " 'lastTradeDate': 1605639375,\n",
       " 'impliedVolatility': 1.7265638671875,\n",
       " 'inTheMoney': True}"
      ]
     },
     "execution_count": 21,
     "metadata": {},
     "output_type": "execute_result"
    }
   ],
   "source": [
    "aapl_opt.loc[0, 'JSON']"
   ]
  },
  {
   "cell_type": "markdown",
   "metadata": {},
   "source": [
    "### Conceptos claves\n",
    "- El precio de la oferta ('bid') se refiere al precio más alto que un comprador pagará por un activo.\n",
    "- El precio de venta ('ask') se refiere al precio más bajo que un vendedor aceptará por un activo.\n",
    "- La diferencia entre estos dos precios se conoce como 'spread'; cuanto menor es el spread, mayor es la liquidez de la garantía dada.\n",
    "- Liquidez: facilidad de convertir cierta opción en efectivo.\n",
    "- La volatilidad implícita es el pronóstico del mercado de un probable movimiento en el precio de un valor.\n",
    "- La volatilidad implícita aumenta en los mercados bajistas y disminuye cuando el mercado es alcista.\n",
    "- El último precio ('lastprice') representa el precio al que ocurrió la última operación, de una opción dada."
   ]
  },
  {
   "cell_type": "markdown",
   "metadata": {},
   "source": [
    "Una vez tenemos la información, podemos consultar de qué tipo son las opciones"
   ]
  },
  {
   "cell_type": "code",
   "execution_count": 5,
   "metadata": {},
   "outputs": [
    {
     "data": {
      "text/plain": [
       "0       call\n",
       "1        put\n",
       "2       call\n",
       "3        put\n",
       "4       call\n",
       "        ... \n",
       "3353    call\n",
       "3354    call\n",
       "3355    call\n",
       "3356    call\n",
       "3357     put\n",
       "Name: Type, Length: 3358, dtype: object"
      ]
     },
     "execution_count": 5,
     "metadata": {},
     "output_type": "execute_result"
    }
   ],
   "source": [
    "aapl_opt.loc[:, 'Type']"
   ]
  },
  {
   "cell_type": "markdown",
   "metadata": {},
   "source": [
    "o en que fecha expiran"
   ]
  },
  {
   "cell_type": "code",
   "execution_count": 6,
   "metadata": {
    "scrolled": true
   },
   "outputs": [
    {
     "data": {
      "text/plain": [
       "0      2021-01-15\n",
       "1      2021-01-15\n",
       "2      2021-06-18\n",
       "3      2021-06-18\n",
       "4      2020-11-20\n",
       "          ...    \n",
       "3353   2021-09-17\n",
       "3354   2022-01-21\n",
       "3355   2022-06-17\n",
       "3356   2022-09-16\n",
       "3357   2022-09-16\n",
       "Name: Expiry, Length: 3358, dtype: datetime64[ns]"
      ]
     },
     "execution_count": 6,
     "metadata": {},
     "output_type": "execute_result"
    }
   ],
   "source": [
    "pd.set_option('display.max_rows', 10)\n",
    "aapl_opt.loc[:, 'Expiry']"
   ]
  },
  {
   "cell_type": "markdown",
   "metadata": {},
   "source": [
    "Por otra parte, podríamos querer consultar todas las opciones de compra (call) que expiran en cierta fecha (2020-06-19)"
   ]
  },
  {
   "cell_type": "code",
   "execution_count": 19,
   "metadata": {
    "scrolled": false
   },
   "outputs": [
    {
     "data": {
      "text/html": [
       "<div>\n",
       "<style scoped>\n",
       "    .dataframe tbody tr th:only-of-type {\n",
       "        vertical-align: middle;\n",
       "    }\n",
       "\n",
       "    .dataframe tbody tr th {\n",
       "        vertical-align: top;\n",
       "    }\n",
       "\n",
       "    .dataframe thead th {\n",
       "        text-align: right;\n",
       "    }\n",
       "</style>\n",
       "<table border=\"1\" class=\"dataframe\">\n",
       "  <thead>\n",
       "    <tr style=\"text-align: right;\">\n",
       "      <th></th>\n",
       "      <th>Strike</th>\n",
       "      <th>Expiry</th>\n",
       "      <th>Type</th>\n",
       "      <th>...</th>\n",
       "      <th>Quote_Time</th>\n",
       "      <th>Last_Trade_Date</th>\n",
       "      <th>JSON</th>\n",
       "    </tr>\n",
       "  </thead>\n",
       "  <tbody>\n",
       "    <tr>\n",
       "      <th>2</th>\n",
       "      <td>18.75</td>\n",
       "      <td>2021-06-18</td>\n",
       "      <td>call</td>\n",
       "      <td>...</td>\n",
       "      <td>2020-11-19 21:00:01</td>\n",
       "      <td>2020-11-17 14:36:29</td>\n",
       "      <td>{'contractSymbol': 'AAPL210618C00018750', 'str...</td>\n",
       "    </tr>\n",
       "    <tr>\n",
       "      <th>8</th>\n",
       "      <td>20.00</td>\n",
       "      <td>2021-06-18</td>\n",
       "      <td>call</td>\n",
       "      <td>...</td>\n",
       "      <td>2020-11-19 21:00:01</td>\n",
       "      <td>2020-11-02 15:18:07</td>\n",
       "      <td>{'contractSymbol': 'AAPL210618C00020000', 'str...</td>\n",
       "    </tr>\n",
       "    <tr>\n",
       "      <th>19</th>\n",
       "      <td>22.50</td>\n",
       "      <td>2021-06-18</td>\n",
       "      <td>call</td>\n",
       "      <td>...</td>\n",
       "      <td>2020-11-19 21:00:01</td>\n",
       "      <td>2020-09-03 18:47:06</td>\n",
       "      <td>{'contractSymbol': 'AAPL210618C00022500', 'str...</td>\n",
       "    </tr>\n",
       "    <tr>\n",
       "      <th>30</th>\n",
       "      <td>25.00</td>\n",
       "      <td>2021-06-18</td>\n",
       "      <td>call</td>\n",
       "      <td>...</td>\n",
       "      <td>2020-11-19 21:00:01</td>\n",
       "      <td>2020-11-05 20:47:36</td>\n",
       "      <td>{'contractSymbol': 'AAPL210618C00025000', 'str...</td>\n",
       "    </tr>\n",
       "    <tr>\n",
       "      <th>37</th>\n",
       "      <td>27.50</td>\n",
       "      <td>2021-06-18</td>\n",
       "      <td>call</td>\n",
       "      <td>...</td>\n",
       "      <td>2020-11-19 21:00:01</td>\n",
       "      <td>2020-11-05 19:56:17</td>\n",
       "      <td>{'contractSymbol': 'AAPL210618C00027500', 'str...</td>\n",
       "    </tr>\n",
       "    <tr>\n",
       "      <th>...</th>\n",
       "      <td>...</td>\n",
       "      <td>...</td>\n",
       "      <td>...</td>\n",
       "      <td>...</td>\n",
       "      <td>...</td>\n",
       "      <td>...</td>\n",
       "      <td>...</td>\n",
       "    </tr>\n",
       "    <tr>\n",
       "      <th>3301</th>\n",
       "      <td>720.00</td>\n",
       "      <td>2021-06-18</td>\n",
       "      <td>call</td>\n",
       "      <td>...</td>\n",
       "      <td>2020-11-19 21:00:01</td>\n",
       "      <td>2020-08-28 19:40:17</td>\n",
       "      <td>{'contractSymbol': 'AAPL210618C00720000', 'str...</td>\n",
       "    </tr>\n",
       "    <tr>\n",
       "      <th>3316</th>\n",
       "      <td>740.00</td>\n",
       "      <td>2021-06-18</td>\n",
       "      <td>call</td>\n",
       "      <td>...</td>\n",
       "      <td>2020-11-19 21:00:01</td>\n",
       "      <td>2020-08-28 19:01:26</td>\n",
       "      <td>{'contractSymbol': 'AAPL210618C00740000', 'str...</td>\n",
       "    </tr>\n",
       "    <tr>\n",
       "      <th>3329</th>\n",
       "      <td>800.00</td>\n",
       "      <td>2021-06-18</td>\n",
       "      <td>call</td>\n",
       "      <td>...</td>\n",
       "      <td>2020-11-19 21:00:01</td>\n",
       "      <td>2020-08-28 17:55:20</td>\n",
       "      <td>{'contractSymbol': 'AAPL210618C00800000', 'str...</td>\n",
       "    </tr>\n",
       "    <tr>\n",
       "      <th>3339</th>\n",
       "      <td>900.00</td>\n",
       "      <td>2021-06-18</td>\n",
       "      <td>call</td>\n",
       "      <td>...</td>\n",
       "      <td>2020-11-19 21:00:01</td>\n",
       "      <td>2020-08-28 16:08:44</td>\n",
       "      <td>{'contractSymbol': 'AAPL210618C00900000', 'str...</td>\n",
       "    </tr>\n",
       "    <tr>\n",
       "      <th>3351</th>\n",
       "      <td>1000.00</td>\n",
       "      <td>2021-06-18</td>\n",
       "      <td>call</td>\n",
       "      <td>...</td>\n",
       "      <td>2020-11-19 21:00:01</td>\n",
       "      <td>2020-08-28 19:59:05</td>\n",
       "      <td>{'contractSymbol': 'AAPL210618C01000000', 'str...</td>\n",
       "    </tr>\n",
       "  </tbody>\n",
       "</table>\n",
       "<p>130 rows × 19 columns</p>\n",
       "</div>"
      ],
      "text/plain": [
       "       Strike     Expiry  Type  ...          Quote_Time     Last_Trade_Date  \\\n",
       "2       18.75 2021-06-18  call  ... 2020-11-19 21:00:01 2020-11-17 14:36:29   \n",
       "8       20.00 2021-06-18  call  ... 2020-11-19 21:00:01 2020-11-02 15:18:07   \n",
       "19      22.50 2021-06-18  call  ... 2020-11-19 21:00:01 2020-09-03 18:47:06   \n",
       "30      25.00 2021-06-18  call  ... 2020-11-19 21:00:01 2020-11-05 20:47:36   \n",
       "37      27.50 2021-06-18  call  ... 2020-11-19 21:00:01 2020-11-05 19:56:17   \n",
       "...       ...        ...   ...  ...                 ...                 ...   \n",
       "3301   720.00 2021-06-18  call  ... 2020-11-19 21:00:01 2020-08-28 19:40:17   \n",
       "3316   740.00 2021-06-18  call  ... 2020-11-19 21:00:01 2020-08-28 19:01:26   \n",
       "3329   800.00 2021-06-18  call  ... 2020-11-19 21:00:01 2020-08-28 17:55:20   \n",
       "3339   900.00 2021-06-18  call  ... 2020-11-19 21:00:01 2020-08-28 16:08:44   \n",
       "3351  1000.00 2021-06-18  call  ... 2020-11-19 21:00:01 2020-08-28 19:59:05   \n",
       "\n",
       "                                                   JSON  \n",
       "2     {'contractSymbol': 'AAPL210618C00018750', 'str...  \n",
       "8     {'contractSymbol': 'AAPL210618C00020000', 'str...  \n",
       "19    {'contractSymbol': 'AAPL210618C00022500', 'str...  \n",
       "30    {'contractSymbol': 'AAPL210618C00025000', 'str...  \n",
       "37    {'contractSymbol': 'AAPL210618C00027500', 'str...  \n",
       "...                                                 ...  \n",
       "3301  {'contractSymbol': 'AAPL210618C00720000', 'str...  \n",
       "3316  {'contractSymbol': 'AAPL210618C00740000', 'str...  \n",
       "3329  {'contractSymbol': 'AAPL210618C00800000', 'str...  \n",
       "3339  {'contractSymbol': 'AAPL210618C00900000', 'str...  \n",
       "3351  {'contractSymbol': 'AAPL210618C01000000', 'str...  \n",
       "\n",
       "[130 rows x 19 columns]"
      ]
     },
     "execution_count": 19,
     "metadata": {},
     "output_type": "execute_result"
    }
   ],
   "source": [
    "fecha1 = '2021-06-18'\n",
    "fecha2 = '2022-09-16'\n",
    "call06_f1 = aapl_opt.loc[(aapl_opt.Expiry== fecha1) & (aapl_opt.Type=='call')]\n",
    "call06_f2 = aapl_opt.loc[(aapl_opt.Expiry== fecha2) & (aapl_opt.Type=='call')]\n",
    "call06_f1\n"
   ]
  },
  {
   "cell_type": "markdown",
   "metadata": {},
   "source": [
    "## 2. ¿Qué es la volatilidad implícita?"
   ]
  },
  {
   "cell_type": "markdown",
   "metadata": {},
   "source": [
    "**Volatilidad:** desviación estándar de los rendimientos.\n",
    "- ¿Cómo se calcula?\n",
    "- ¿Para qué calcular la volatilidad?"
   ]
  },
  {
   "attachments": {
    "imagen.png": {
     "image/png": "[encoded data removed]"
    }
   },
   "cell_type": "markdown",
   "metadata": {},
   "source": [
    "- **Para valuar derivados**, por ejemplo **opciones**.\n",
    "- Método de valuación de riesgo neutral (se supone que el precio del activo $S_t$ no se ve afectado por el riesgo de mercado).\n",
    "\n",
    "Recorderis de cuantitativas:\n",
    "1. Ecuación de Black-Scholes\n",
    "$$ dS(t) = \\mu S(t) + \\sigma S(t)dW_t$$\n",
    "2. Solución de la ecuación\n",
    "\n",
    "El valor de una opción Europea de vainilla $V_t$ puede obtenerse por:\n",
    "$$V_t = F(t,S_t)$$ donde\n",
    "![imagen.png](attachment:imagen.png)\n",
    "3. Opción de compra europea, suponiendo que los precios del activo son lognormales\n",
    "4. Opción de venta europea, suponiendo que los precios del activo son lognormales"
   ]
  },
  {
   "cell_type": "markdown",
   "metadata": {},
   "source": [
    "Entonces, ¿qué es la **volatilidad implícita**?\n",
    "\n",
    "La volatilidad es una medida de la incertidumbre sobre el comportamiento futuro de un activo, que se mide habitualmente como la desviación típica de la rentabilidad de dicho activo. "
   ]
  },
  {
   "attachments": {
    "imagen.png": {
     "image/png": "[encoded data removed]"
    }
   },
   "cell_type": "markdown",
   "metadata": {},
   "source": [
    "## Volatility smile \n",
    "-  Cuando las opciones con la misma fecha de vencimiento y el mismo activo subyacente, pero diferentes precios de ejercicio, se grafican por la volatilidad implícita, la tendencia es que ese gráfico muestre una sonrisa.\n",
    "-  La sonrisa muestra que las opciones más alejadas 'in- or out-of-the-money' tienen la mayor volatilidad implícita.\n",
    "- No todas las opciones tendrán una sonrisa de volatilidad implícita. Las opciones de acciones a corto plazo y las opciones relacionadas con la moneda tienen más probabilidades de tener una sonrisa de volatilidad\n",
    "\n",
    "![imagen.png](attachment:imagen.png)\n",
    "\n",
    "> Fuente: https://www.investopedia.com/terms/v/volatilitysmile.asp"
   ]
  },
  {
   "cell_type": "markdown",
   "metadata": {},
   "source": [
    "> ### Validar para la `fecha = 2020-06-19` y para la fecha `fecha = '2021-01-15'`"
   ]
  },
  {
   "cell_type": "code",
   "execution_count": 20,
   "metadata": {
    "scrolled": false
   },
   "outputs": [
    {
     "data": {
      "image/png": "[encoded data removed]",
      "text/plain": [
       "<Figure size 576x432 with 1 Axes>"
      ]
     },
     "metadata": {
      "needs_background": "light"
     },
     "output_type": "display_data"
    }
   ],
   "source": [
    "# para los call de la fecha 1\n",
    "ax = call06_f1.set_index('Strike').loc[:, 'IV'].plot(figsize=(8,6))\n",
    "ax.axvline(call06_f1.Underlying_Price.iloc[0], color='g');"
   ]
  },
  {
   "cell_type": "code",
   "execution_count": 22,
   "metadata": {},
   "outputs": [
    {
     "data": {
      "image/png": "[encoded data removed]",
      "text/plain": [
       "<Figure size 576x432 with 1 Axes>"
      ]
     },
     "metadata": {
      "needs_background": "light"
     },
     "output_type": "display_data"
    }
   ],
   "source": [
    "# para los call de la fecha 2\n",
    "ax = call06_f2.set_index('Strike').loc[:, 'IV'].plot(figsize=(8,6))\n",
    "ax.axvline(call06_f2.Underlying_Price.iloc[0], color='g');"
   ]
  },
  {
   "cell_type": "markdown",
   "metadata": {},
   "source": [
    "Analicemos ahora datos de los `put`"
   ]
  },
  {
   "cell_type": "code",
   "execution_count": 23,
   "metadata": {},
   "outputs": [
    {
     "data": {
      "text/html": [
       "<div>\n",
       "<style scoped>\n",
       "    .dataframe tbody tr th:only-of-type {\n",
       "        vertical-align: middle;\n",
       "    }\n",
       "\n",
       "    .dataframe tbody tr th {\n",
       "        vertical-align: top;\n",
       "    }\n",
       "\n",
       "    .dataframe thead th {\n",
       "        text-align: right;\n",
       "    }\n",
       "</style>\n",
       "<table border=\"1\" class=\"dataframe\">\n",
       "  <thead>\n",
       "    <tr style=\"text-align: right;\">\n",
       "      <th></th>\n",
       "      <th>Strike</th>\n",
       "      <th>Expiry</th>\n",
       "      <th>Type</th>\n",
       "      <th>...</th>\n",
       "      <th>Quote_Time</th>\n",
       "      <th>Last_Trade_Date</th>\n",
       "      <th>JSON</th>\n",
       "    </tr>\n",
       "  </thead>\n",
       "  <tbody>\n",
       "    <tr>\n",
       "      <th>3</th>\n",
       "      <td>18.75</td>\n",
       "      <td>2021-06-18</td>\n",
       "      <td>put</td>\n",
       "      <td>...</td>\n",
       "      <td>2020-11-19 21:00:01</td>\n",
       "      <td>2020-11-18 17:07:44</td>\n",
       "      <td>{'contractSymbol': 'AAPL210618P00018750', 'str...</td>\n",
       "    </tr>\n",
       "    <tr>\n",
       "      <th>9</th>\n",
       "      <td>20.00</td>\n",
       "      <td>2021-06-18</td>\n",
       "      <td>put</td>\n",
       "      <td>...</td>\n",
       "      <td>2020-11-19 21:00:01</td>\n",
       "      <td>2020-11-02 15:02:10</td>\n",
       "      <td>{'contractSymbol': 'AAPL210618P00020000', 'str...</td>\n",
       "    </tr>\n",
       "    <tr>\n",
       "      <th>12</th>\n",
       "      <td>21.25</td>\n",
       "      <td>2021-06-18</td>\n",
       "      <td>put</td>\n",
       "      <td>...</td>\n",
       "      <td>2020-11-19 21:00:01</td>\n",
       "      <td>2020-11-13 15:34:51</td>\n",
       "      <td>{'contractSymbol': 'AAPL210618P00021250', 'str...</td>\n",
       "    </tr>\n",
       "    <tr>\n",
       "      <th>20</th>\n",
       "      <td>22.50</td>\n",
       "      <td>2021-06-18</td>\n",
       "      <td>put</td>\n",
       "      <td>...</td>\n",
       "      <td>2020-11-19 21:00:01</td>\n",
       "      <td>2020-11-09 20:14:50</td>\n",
       "      <td>{'contractSymbol': 'AAPL210618P00022500', 'str...</td>\n",
       "    </tr>\n",
       "    <tr>\n",
       "      <th>23</th>\n",
       "      <td>23.75</td>\n",
       "      <td>2021-06-18</td>\n",
       "      <td>put</td>\n",
       "      <td>...</td>\n",
       "      <td>2020-11-19 21:00:01</td>\n",
       "      <td>2020-11-16 15:25:19</td>\n",
       "      <td>{'contractSymbol': 'AAPL210618P00023750', 'str...</td>\n",
       "    </tr>\n",
       "    <tr>\n",
       "      <th>...</th>\n",
       "      <td>...</td>\n",
       "      <td>...</td>\n",
       "      <td>...</td>\n",
       "      <td>...</td>\n",
       "      <td>...</td>\n",
       "      <td>...</td>\n",
       "      <td>...</td>\n",
       "    </tr>\n",
       "    <tr>\n",
       "      <th>3225</th>\n",
       "      <td>640.00</td>\n",
       "      <td>2021-06-18</td>\n",
       "      <td>put</td>\n",
       "      <td>...</td>\n",
       "      <td>2020-11-19 21:00:01</td>\n",
       "      <td>2020-08-25 16:08:58</td>\n",
       "      <td>{'contractSymbol': 'AAPL210618P00640000', 'str...</td>\n",
       "    </tr>\n",
       "    <tr>\n",
       "      <th>3247</th>\n",
       "      <td>660.00</td>\n",
       "      <td>2021-06-18</td>\n",
       "      <td>put</td>\n",
       "      <td>...</td>\n",
       "      <td>2020-11-19 21:00:01</td>\n",
       "      <td>2020-08-27 16:29:02</td>\n",
       "      <td>{'contractSymbol': 'AAPL210618P00660000', 'str...</td>\n",
       "    </tr>\n",
       "    <tr>\n",
       "      <th>3264</th>\n",
       "      <td>680.00</td>\n",
       "      <td>2021-06-18</td>\n",
       "      <td>put</td>\n",
       "      <td>...</td>\n",
       "      <td>2020-11-19 21:00:01</td>\n",
       "      <td>2020-08-25 14:59:07</td>\n",
       "      <td>{'contractSymbol': 'AAPL210618P00680000', 'str...</td>\n",
       "    </tr>\n",
       "    <tr>\n",
       "      <th>3282</th>\n",
       "      <td>700.00</td>\n",
       "      <td>2021-06-18</td>\n",
       "      <td>put</td>\n",
       "      <td>...</td>\n",
       "      <td>2020-11-19 21:00:01</td>\n",
       "      <td>2020-08-27 19:58:45</td>\n",
       "      <td>{'contractSymbol': 'AAPL210618P00700000', 'str...</td>\n",
       "    </tr>\n",
       "    <tr>\n",
       "      <th>3352</th>\n",
       "      <td>1000.00</td>\n",
       "      <td>2021-06-18</td>\n",
       "      <td>put</td>\n",
       "      <td>...</td>\n",
       "      <td>2020-11-19 21:00:01</td>\n",
       "      <td>2020-08-27 13:30:07</td>\n",
       "      <td>{'contractSymbol': 'AAPL210618P01000000', 'str...</td>\n",
       "    </tr>\n",
       "  </tbody>\n",
       "</table>\n",
       "<p>130 rows × 19 columns</p>\n",
       "</div>"
      ],
      "text/plain": [
       "       Strike     Expiry Type  ...          Quote_Time     Last_Trade_Date  \\\n",
       "3       18.75 2021-06-18  put  ... 2020-11-19 21:00:01 2020-11-18 17:07:44   \n",
       "9       20.00 2021-06-18  put  ... 2020-11-19 21:00:01 2020-11-02 15:02:10   \n",
       "12      21.25 2021-06-18  put  ... 2020-11-19 21:00:01 2020-11-13 15:34:51   \n",
       "20      22.50 2021-06-18  put  ... 2020-11-19 21:00:01 2020-11-09 20:14:50   \n",
       "23      23.75 2021-06-18  put  ... 2020-11-19 21:00:01 2020-11-16 15:25:19   \n",
       "...       ...        ...  ...  ...                 ...                 ...   \n",
       "3225   640.00 2021-06-18  put  ... 2020-11-19 21:00:01 2020-08-25 16:08:58   \n",
       "3247   660.00 2021-06-18  put  ... 2020-11-19 21:00:01 2020-08-27 16:29:02   \n",
       "3264   680.00 2021-06-18  put  ... 2020-11-19 21:00:01 2020-08-25 14:59:07   \n",
       "3282   700.00 2021-06-18  put  ... 2020-11-19 21:00:01 2020-08-27 19:58:45   \n",
       "3352  1000.00 2021-06-18  put  ... 2020-11-19 21:00:01 2020-08-27 13:30:07   \n",
       "\n",
       "                                                   JSON  \n",
       "3     {'contractSymbol': 'AAPL210618P00018750', 'str...  \n",
       "9     {'contractSymbol': 'AAPL210618P00020000', 'str...  \n",
       "12    {'contractSymbol': 'AAPL210618P00021250', 'str...  \n",
       "20    {'contractSymbol': 'AAPL210618P00022500', 'str...  \n",
       "23    {'contractSymbol': 'AAPL210618P00023750', 'str...  \n",
       "...                                                 ...  \n",
       "3225  {'contractSymbol': 'AAPL210618P00640000', 'str...  \n",
       "3247  {'contractSymbol': 'AAPL210618P00660000', 'str...  \n",
       "3264  {'contractSymbol': 'AAPL210618P00680000', 'str...  \n",
       "3282  {'contractSymbol': 'AAPL210618P00700000', 'str...  \n",
       "3352  {'contractSymbol': 'AAPL210618P01000000', 'str...  \n",
       "\n",
       "[130 rows x 19 columns]"
      ]
     },
     "execution_count": 23,
     "metadata": {},
     "output_type": "execute_result"
    }
   ],
   "source": [
    "put06_f1 = aapl_opt.loc[(aapl_opt.Expiry==fecha1) & (aapl_opt.Type=='put')]\n",
    "put06_f1"
   ]
  },
  {
   "cell_type": "markdown",
   "metadata": {},
   "source": [
    "Para los `put` de la `fecha 1`"
   ]
  },
  {
   "cell_type": "code",
   "execution_count": 24,
   "metadata": {},
   "outputs": [
    {
     "data": {
      "text/plain": [
       "<matplotlib.lines.Line2D at 0x7faa5081ac40>"
      ]
     },
     "execution_count": 24,
     "metadata": {},
     "output_type": "execute_result"
    },
    {
     "data": {
      "image/png": "[encoded data removed]",
      "text/plain": [
       "<Figure size 576x432 with 1 Axes>"
      ]
     },
     "metadata": {
      "needs_background": "light"
     },
     "output_type": "display_data"
    }
   ],
   "source": [
    "ax = put06_f1.set_index('Strike').loc[:, 'IV'].plot(figsize=(8,6))\n",
    "ax.axvline(put06_f1.Underlying_Price.iloc[0], color='g')"
   ]
  },
  {
   "cell_type": "markdown",
   "metadata": {},
   "source": [
    "Con lo que hemos aprendido, deberíamos ser capaces de crear una función que nos devuelva un `DataFrame` de `pandas` con los precios de cierre ajustados de ciertas compañías en ciertas fechas:\n",
    "- Escribir la función a continuación"
   ]
  },
  {
   "cell_type": "code",
   "execution_count": 25,
   "metadata": {},
   "outputs": [],
   "source": [
    "# Función para descargar precios de cierre ajustados:\n",
    "def get_adj_closes(tickers, start_date=None, end_date=None):\n",
    "    # Fecha inicio por defecto (start_date='2010-01-01') y fecha fin por defecto (end_date=today)\n",
    "    # Descargamos DataFrame con todos los datos\n",
    "    closes = web.DataReader(name=tickers, data_source='yahoo', start=start_date, end=end_date)\n",
    "    # Solo necesitamos los precios ajustados en el cierre\n",
    "    closes = closes['Adj Close']\n",
    "    # Se ordenan los índices de manera ascendente\n",
    "    closes.sort_index(inplace=True)\n",
    "    return closes"
   ]
  },
  {
   "cell_type": "markdown",
   "metadata": {},
   "source": [
    "- Obtener como ejemplo los precios de cierre de Apple del año pasado hasta la fecha. Graficar..."
   ]
  },
  {
   "cell_type": "code",
   "execution_count": 26,
   "metadata": {},
   "outputs": [
    {
     "data": {
      "image/png": "[encoded data removed]",
      "text/plain": [
       "<Figure size 576x360 with 1 Axes>"
      ]
     },
     "metadata": {
      "needs_background": "light"
     },
     "output_type": "display_data"
    }
   ],
   "source": [
    "ticker = ['AAPL']\n",
    "start_date = '2017-01-01'\n",
    "\n",
    "closes_aapl = get_adj_closes(ticker, start_date)\n",
    "closes_aapl.plot(figsize=(8,5));\n",
    "plt.legend(ticker);"
   ]
  },
  {
   "cell_type": "markdown",
   "metadata": {},
   "source": [
    "- Escribir una función que pasándole el histórico de precios devuelva los rendimientos logarítmicos:"
   ]
  },
  {
   "cell_type": "code",
   "execution_count": 27,
   "metadata": {},
   "outputs": [],
   "source": [
    "def calc_daily_ret(closes):\n",
    "    return np.log(closes/closes.shift(1)).iloc[1:]"
   ]
  },
  {
   "cell_type": "markdown",
   "metadata": {},
   "source": [
    "- Graficar..."
   ]
  },
  {
   "cell_type": "code",
   "execution_count": 28,
   "metadata": {},
   "outputs": [
    {
     "data": {
      "image/png": "[encoded data removed]",
      "text/plain": [
       "<Figure size 576x432 with 1 Axes>"
      ]
     },
     "metadata": {
      "needs_background": "light"
     },
     "output_type": "display_data"
    }
   ],
   "source": [
    "ret_aapl = calc_daily_ret(closes_aapl)\n",
    "ret_aapl.plot(figsize=(8,6));"
   ]
  },
  {
   "cell_type": "markdown",
   "metadata": {},
   "source": [
    "También, descargar datos de opciones de Apple:"
   ]
  },
  {
   "cell_type": "code",
   "execution_count": 29,
   "metadata": {
    "scrolled": false
   },
   "outputs": [
    {
     "data": {
      "text/html": [
       "<div>\n",
       "<style scoped>\n",
       "    .dataframe tbody tr th:only-of-type {\n",
       "        vertical-align: middle;\n",
       "    }\n",
       "\n",
       "    .dataframe tbody tr th {\n",
       "        vertical-align: top;\n",
       "    }\n",
       "\n",
       "    .dataframe thead th {\n",
       "        text-align: right;\n",
       "    }\n",
       "</style>\n",
       "<table border=\"1\" class=\"dataframe\">\n",
       "  <thead>\n",
       "    <tr style=\"text-align: right;\">\n",
       "      <th></th>\n",
       "      <th>Strike</th>\n",
       "      <th>Type</th>\n",
       "      <th>Symbol</th>\n",
       "      <th>...</th>\n",
       "      <th>Quote_Time</th>\n",
       "      <th>Last_Trade_Date</th>\n",
       "      <th>JSON</th>\n",
       "    </tr>\n",
       "    <tr>\n",
       "      <th>Expiry</th>\n",
       "      <th></th>\n",
       "      <th></th>\n",
       "      <th></th>\n",
       "      <th></th>\n",
       "      <th></th>\n",
       "      <th></th>\n",
       "      <th></th>\n",
       "    </tr>\n",
       "  </thead>\n",
       "  <tbody>\n",
       "    <tr>\n",
       "      <th>2020-11-20</th>\n",
       "      <td>230.00</td>\n",
       "      <td>call</td>\n",
       "      <td>AAPL201120C00230000</td>\n",
       "      <td>...</td>\n",
       "      <td>2020-11-19 21:00:01</td>\n",
       "      <td>2020-08-04 17:22:07</td>\n",
       "      <td>{'contractSymbol': 'AAPL201120C00230000', 'str...</td>\n",
       "    </tr>\n",
       "    <tr>\n",
       "      <th>2020-11-20</th>\n",
       "      <td>60.00</td>\n",
       "      <td>put</td>\n",
       "      <td>AAPL201120P00060000</td>\n",
       "      <td>...</td>\n",
       "      <td>2020-11-19 21:00:01</td>\n",
       "      <td>2020-11-18 16:38:58</td>\n",
       "      <td>{'contractSymbol': 'AAPL201120P00060000', 'str...</td>\n",
       "    </tr>\n",
       "    <tr>\n",
       "      <th>2020-11-20</th>\n",
       "      <td>60.00</td>\n",
       "      <td>call</td>\n",
       "      <td>AAPL201120C00060000</td>\n",
       "      <td>...</td>\n",
       "      <td>2020-11-19 21:00:01</td>\n",
       "      <td>2020-11-19 15:26:59</td>\n",
       "      <td>{'contractSymbol': 'AAPL201120C00060000', 'str...</td>\n",
       "    </tr>\n",
       "    <tr>\n",
       "      <th>2020-11-20</th>\n",
       "      <td>183.75</td>\n",
       "      <td>put</td>\n",
       "      <td>AAPL201120P00183750</td>\n",
       "      <td>...</td>\n",
       "      <td>2020-11-19 21:00:01</td>\n",
       "      <td>2020-11-09 16:28:55</td>\n",
       "      <td>{'contractSymbol': 'AAPL201120P00183750', 'str...</td>\n",
       "    </tr>\n",
       "    <tr>\n",
       "      <th>2020-11-20</th>\n",
       "      <td>415.00</td>\n",
       "      <td>call</td>\n",
       "      <td>AAPL201120C00415000</td>\n",
       "      <td>...</td>\n",
       "      <td>2020-11-19 21:00:01</td>\n",
       "      <td>2020-08-28 15:36:26</td>\n",
       "      <td>{'contractSymbol': 'AAPL201120C00415000', 'str...</td>\n",
       "    </tr>\n",
       "    <tr>\n",
       "      <th>...</th>\n",
       "      <td>...</td>\n",
       "      <td>...</td>\n",
       "      <td>...</td>\n",
       "      <td>...</td>\n",
       "      <td>...</td>\n",
       "      <td>...</td>\n",
       "      <td>...</td>\n",
       "    </tr>\n",
       "    <tr>\n",
       "      <th>2023-01-20</th>\n",
       "      <td>95.00</td>\n",
       "      <td>call</td>\n",
       "      <td>AAPL230120C00095000</td>\n",
       "      <td>...</td>\n",
       "      <td>2020-11-19 21:00:01</td>\n",
       "      <td>2020-11-19 20:30:03</td>\n",
       "      <td>{'contractSymbol': 'AAPL230120C00095000', 'str...</td>\n",
       "    </tr>\n",
       "    <tr>\n",
       "      <th>2023-01-20</th>\n",
       "      <td>145.00</td>\n",
       "      <td>call</td>\n",
       "      <td>AAPL230120C00145000</td>\n",
       "      <td>...</td>\n",
       "      <td>2020-11-19 21:00:01</td>\n",
       "      <td>2020-11-19 20:19:32</td>\n",
       "      <td>{'contractSymbol': 'AAPL230120C00145000', 'str...</td>\n",
       "    </tr>\n",
       "    <tr>\n",
       "      <th>2023-01-20</th>\n",
       "      <td>65.00</td>\n",
       "      <td>put</td>\n",
       "      <td>AAPL230120P00065000</td>\n",
       "      <td>...</td>\n",
       "      <td>2020-11-19 21:00:01</td>\n",
       "      <td>2020-11-18 19:49:34</td>\n",
       "      <td>{'contractSymbol': 'AAPL230120P00065000', 'str...</td>\n",
       "    </tr>\n",
       "    <tr>\n",
       "      <th>2023-01-20</th>\n",
       "      <td>50.00</td>\n",
       "      <td>put</td>\n",
       "      <td>AAPL230120P00050000</td>\n",
       "      <td>...</td>\n",
       "      <td>2020-11-19 21:00:01</td>\n",
       "      <td>2020-11-19 17:58:42</td>\n",
       "      <td>{'contractSymbol': 'AAPL230120P00050000', 'str...</td>\n",
       "    </tr>\n",
       "    <tr>\n",
       "      <th>2023-01-20</th>\n",
       "      <td>120.00</td>\n",
       "      <td>put</td>\n",
       "      <td>AAPL230120P00120000</td>\n",
       "      <td>...</td>\n",
       "      <td>2020-11-19 21:00:01</td>\n",
       "      <td>2020-11-19 20:48:45</td>\n",
       "      <td>{'contractSymbol': 'AAPL230120P00120000', 'str...</td>\n",
       "    </tr>\n",
       "  </tbody>\n",
       "</table>\n",
       "<p>3358 rows × 18 columns</p>\n",
       "</div>"
      ],
      "text/plain": [
       "            Strike  Type               Symbol  ...          Quote_Time  \\\n",
       "Expiry                                         ...                       \n",
       "2020-11-20  230.00  call  AAPL201120C00230000  ... 2020-11-19 21:00:01   \n",
       "2020-11-20   60.00   put  AAPL201120P00060000  ... 2020-11-19 21:00:01   \n",
       "2020-11-20   60.00  call  AAPL201120C00060000  ... 2020-11-19 21:00:01   \n",
       "2020-11-20  183.75   put  AAPL201120P00183750  ... 2020-11-19 21:00:01   \n",
       "2020-11-20  415.00  call  AAPL201120C00415000  ... 2020-11-19 21:00:01   \n",
       "...            ...   ...                  ...  ...                 ...   \n",
       "2023-01-20   95.00  call  AAPL230120C00095000  ... 2020-11-19 21:00:01   \n",
       "2023-01-20  145.00  call  AAPL230120C00145000  ... 2020-11-19 21:00:01   \n",
       "2023-01-20   65.00   put  AAPL230120P00065000  ... 2020-11-19 21:00:01   \n",
       "2023-01-20   50.00   put  AAPL230120P00050000  ... 2020-11-19 21:00:01   \n",
       "2023-01-20  120.00   put  AAPL230120P00120000  ... 2020-11-19 21:00:01   \n",
       "\n",
       "               Last_Trade_Date  \\\n",
       "Expiry                           \n",
       "2020-11-20 2020-08-04 17:22:07   \n",
       "2020-11-20 2020-11-18 16:38:58   \n",
       "2020-11-20 2020-11-19 15:26:59   \n",
       "2020-11-20 2020-11-09 16:28:55   \n",
       "2020-11-20 2020-08-28 15:36:26   \n",
       "...                        ...   \n",
       "2023-01-20 2020-11-19 20:30:03   \n",
       "2023-01-20 2020-11-19 20:19:32   \n",
       "2023-01-20 2020-11-18 19:49:34   \n",
       "2023-01-20 2020-11-19 17:58:42   \n",
       "2023-01-20 2020-11-19 20:48:45   \n",
       "\n",
       "                                                         JSON  \n",
       "Expiry                                                         \n",
       "2020-11-20  {'contractSymbol': 'AAPL201120C00230000', 'str...  \n",
       "2020-11-20  {'contractSymbol': 'AAPL201120P00060000', 'str...  \n",
       "2020-11-20  {'contractSymbol': 'AAPL201120C00060000', 'str...  \n",
       "2020-11-20  {'contractSymbol': 'AAPL201120P00183750', 'str...  \n",
       "2020-11-20  {'contractSymbol': 'AAPL201120C00415000', 'str...  \n",
       "...                                                       ...  \n",
       "2023-01-20  {'contractSymbol': 'AAPL230120C00095000', 'str...  \n",
       "2023-01-20  {'contractSymbol': 'AAPL230120C00145000', 'str...  \n",
       "2023-01-20  {'contractSymbol': 'AAPL230120P00065000', 'str...  \n",
       "2023-01-20  {'contractSymbol': 'AAPL230120P00050000', 'str...  \n",
       "2023-01-20  {'contractSymbol': 'AAPL230120P00120000', 'str...  \n",
       "\n",
       "[3358 rows x 18 columns]"
      ]
     },
     "execution_count": 29,
     "metadata": {},
     "output_type": "execute_result"
    }
   ],
   "source": [
    "aapl = web.YahooOptions('AAPL')\n",
    "aapl_opt = aapl.get_all_data().reset_index()\n",
    "aapl_opt.set_index('Expiry').sort_index()"
   ]
  },
  {
   "cell_type": "code",
   "execution_count": 30,
   "metadata": {},
   "outputs": [
    {
     "data": {
      "text/html": [
       "<div>\n",
       "<style scoped>\n",
       "    .dataframe tbody tr th:only-of-type {\n",
       "        vertical-align: middle;\n",
       "    }\n",
       "\n",
       "    .dataframe tbody tr th {\n",
       "        vertical-align: top;\n",
       "    }\n",
       "\n",
       "    .dataframe thead th {\n",
       "        text-align: right;\n",
       "    }\n",
       "</style>\n",
       "<table border=\"1\" class=\"dataframe\">\n",
       "  <thead>\n",
       "    <tr style=\"text-align: right;\">\n",
       "      <th></th>\n",
       "      <th>Strike</th>\n",
       "      <th>Expiry</th>\n",
       "      <th>Type</th>\n",
       "      <th>...</th>\n",
       "      <th>Quote_Time</th>\n",
       "      <th>Last_Trade_Date</th>\n",
       "      <th>JSON</th>\n",
       "    </tr>\n",
       "  </thead>\n",
       "  <tbody>\n",
       "    <tr>\n",
       "      <th>1224</th>\n",
       "      <td>110.0</td>\n",
       "      <td>2021-01-15</td>\n",
       "      <td>call</td>\n",
       "      <td>...</td>\n",
       "      <td>2020-11-19 21:00:01</td>\n",
       "      <td>2020-11-19 20:59:48</td>\n",
       "      <td>{'contractSymbol': 'AAPL210115C00110000', 'str...</td>\n",
       "    </tr>\n",
       "  </tbody>\n",
       "</table>\n",
       "<p>1 rows × 19 columns</p>\n",
       "</div>"
      ],
      "text/plain": [
       "      Strike     Expiry  Type  ...          Quote_Time     Last_Trade_Date  \\\n",
       "1224   110.0 2021-01-15  call  ... 2020-11-19 21:00:01 2020-11-19 20:59:48   \n",
       "\n",
       "                                                   JSON  \n",
       "1224  {'contractSymbol': 'AAPL210115C00110000', 'str...  \n",
       "\n",
       "[1 rows x 19 columns]"
      ]
     },
     "execution_count": 30,
     "metadata": {},
     "output_type": "execute_result"
    }
   ],
   "source": [
    "K = 110 # strike price\n",
    "indice_opt = aapl_opt.loc[(aapl_opt.Type=='call') & (aapl_opt.Strike==K) & (aapl_opt.Expiry=='2021-01-15')]\n",
    "indice_opt"
   ]
  },
  {
   "cell_type": "code",
   "execution_count": 31,
   "metadata": {
    "scrolled": false
   },
   "outputs": [
    {
     "data": {
      "text/plain": [
       "{'contractSymbol': 'AAPL210115C00110000',\n",
       " 'strike': 110.0,\n",
       " 'currency': 'USD',\n",
       " 'lastPrice': 11.35,\n",
       " 'change': 0.3000002,\n",
       " 'percentChange': 2.7149339,\n",
       " 'volume': 557,\n",
       " 'openInterest': 60705,\n",
       " 'bid': 11.2,\n",
       " 'ask': 11.35,\n",
       " 'contractSize': 'REGULAR',\n",
       " 'expiration': 1610668800,\n",
       " 'lastTradeDate': 1605819588,\n",
       " 'impliedVolatility': 0.33460138061523437,\n",
       " 'inTheMoney': True}"
      ]
     },
     "execution_count": 31,
     "metadata": {},
     "output_type": "execute_result"
    }
   ],
   "source": [
    "i_opt= indice_opt.index\n",
    "opcion_valuar = aapl_opt.loc[i_opt[0]]\n",
    "opcion_valuar['JSON']"
   ]
  },
  {
   "cell_type": "code",
   "execution_count": 32,
   "metadata": {},
   "outputs": [
    {
     "name": "stdout",
     "output_type": "stream",
     "text": [
      "Precio del activo subyacente actual =  118.64\n"
     ]
    }
   ],
   "source": [
    "print('Precio del activo subyacente actual = ',opcion_valuar.Underlying_Price)"
   ]
  },
  {
   "cell_type": "markdown",
   "metadata": {},
   "source": [
    "# Simulación de precios usando rendimiento simple y logarítmico "
   ]
  },
  {
   "cell_type": "markdown",
   "metadata": {},
   "source": [
    "* Comenzaremos por suponer que los rendimientos son un p.e. estacionario que distribuyen $\\mathcal{N}(\\mu,\\sigma)$."
   ]
  },
  {
   "cell_type": "markdown",
   "metadata": {},
   "source": [
    "## Rendimiento Simple"
   ]
  },
  {
   "cell_type": "code",
   "execution_count": 33,
   "metadata": {
    "scrolled": false
   },
   "outputs": [
    {
     "data": {
      "text/html": [
       "<div>\n",
       "<style scoped>\n",
       "    .dataframe tbody tr th:only-of-type {\n",
       "        vertical-align: middle;\n",
       "    }\n",
       "\n",
       "    .dataframe tbody tr th {\n",
       "        vertical-align: top;\n",
       "    }\n",
       "\n",
       "    .dataframe thead th {\n",
       "        text-align: right;\n",
       "    }\n",
       "</style>\n",
       "<table border=\"1\" class=\"dataframe\">\n",
       "  <thead>\n",
       "    <tr style=\"text-align: right;\">\n",
       "      <th>Symbols</th>\n",
       "      <th>AAPL</th>\n",
       "    </tr>\n",
       "    <tr>\n",
       "      <th>Date</th>\n",
       "      <th></th>\n",
       "    </tr>\n",
       "  </thead>\n",
       "  <tbody>\n",
       "    <tr>\n",
       "      <th>2017-01-04</th>\n",
       "      <td>-1.119e-03</td>\n",
       "    </tr>\n",
       "    <tr>\n",
       "      <th>2017-01-05</th>\n",
       "      <td>5.085e-03</td>\n",
       "    </tr>\n",
       "    <tr>\n",
       "      <th>2017-01-06</th>\n",
       "      <td>1.115e-02</td>\n",
       "    </tr>\n",
       "    <tr>\n",
       "      <th>2017-01-09</th>\n",
       "      <td>9.159e-03</td>\n",
       "    </tr>\n",
       "    <tr>\n",
       "      <th>2017-01-10</th>\n",
       "      <td>1.009e-03</td>\n",
       "    </tr>\n",
       "    <tr>\n",
       "      <th>...</th>\n",
       "      <td>...</td>\n",
       "    </tr>\n",
       "    <tr>\n",
       "      <th>2020-11-13</th>\n",
       "      <td>4.195e-04</td>\n",
       "    </tr>\n",
       "    <tr>\n",
       "      <th>2020-11-16</th>\n",
       "      <td>8.720e-03</td>\n",
       "    </tr>\n",
       "    <tr>\n",
       "      <th>2020-11-17</th>\n",
       "      <td>-7.564e-03</td>\n",
       "    </tr>\n",
       "    <tr>\n",
       "      <th>2020-11-18</th>\n",
       "      <td>-1.139e-02</td>\n",
       "    </tr>\n",
       "    <tr>\n",
       "      <th>2020-11-19</th>\n",
       "      <td>5.168e-03</td>\n",
       "    </tr>\n",
       "  </tbody>\n",
       "</table>\n",
       "<p>978 rows × 1 columns</p>\n",
       "</div>"
      ],
      "text/plain": [
       "Symbols          AAPL\n",
       "Date                 \n",
       "2017-01-04 -1.119e-03\n",
       "2017-01-05  5.085e-03\n",
       "2017-01-06  1.115e-02\n",
       "2017-01-09  9.159e-03\n",
       "2017-01-10  1.009e-03\n",
       "...               ...\n",
       "2020-11-13  4.195e-04\n",
       "2020-11-16  8.720e-03\n",
       "2020-11-17 -7.564e-03\n",
       "2020-11-18 -1.139e-02\n",
       "2020-11-19  5.168e-03\n",
       "\n",
       "[978 rows x 1 columns]"
      ]
     },
     "execution_count": 33,
     "metadata": {},
     "output_type": "execute_result"
    }
   ],
   "source": [
    "# Obtenemos el rendimiento simple\n",
    "Ri = closes_aapl.pct_change(1).iloc[1:]\n",
    "# Obtenemos su media y desviación estándar de los rendimientos\n",
    "mu_R = Ri.mean()[0]\n",
    "sigma_R = Ri.std()[0]\n",
    "Ri"
   ]
  },
  {
   "cell_type": "code",
   "execution_count": 34,
   "metadata": {},
   "outputs": [
    {
     "data": {
      "text/plain": [
       "DatetimeIndex(['2020-11-19', '2020-11-20', '2020-11-23', '2020-11-24',\n",
       "               '2020-11-25', '2020-11-26', '2020-11-27', '2020-11-30',\n",
       "               '2020-12-01', '2020-12-02', '2020-12-03', '2020-12-04',\n",
       "               '2020-12-07', '2020-12-08', '2020-12-09', '2020-12-10',\n",
       "               '2020-12-11', '2020-12-14', '2020-12-15', '2020-12-16',\n",
       "               '2020-12-17', '2020-12-18', '2020-12-21', '2020-12-22',\n",
       "               '2020-12-23', '2020-12-24', '2020-12-25', '2020-12-28',\n",
       "               '2020-12-29', '2020-12-30', '2020-12-31', '2021-01-01',\n",
       "               '2021-01-04', '2021-01-05', '2021-01-06', '2021-01-07',\n",
       "               '2021-01-08', '2021-01-11', '2021-01-12', '2021-01-13',\n",
       "               '2021-01-14', '2021-01-15'],\n",
       "              dtype='datetime64[ns]', freq='B')"
      ]
     },
     "execution_count": 34,
     "metadata": {},
     "output_type": "execute_result"
    }
   ],
   "source": [
    "from datetime import date\n",
    "\n",
    "today = pd.Timestamp(date.today())\n",
    "expiry = opcion_valuar.Expiry\n",
    "\n",
    "nscen = 10000\n",
    "dates = pd.date_range(start=today, end=expiry, freq='B')\n",
    "ndays = len(dates)\n",
    "dates"
   ]
  },
  {
   "cell_type": "markdown",
   "metadata": {},
   "source": [
    "### Mostrar como simular precios usando los rendimientos"
   ]
  },
  {
   "cell_type": "code",
   "execution_count": 35,
   "metadata": {},
   "outputs": [
    {
     "data": {
      "text/html": [
       "<div>\n",
       "<style scoped>\n",
       "    .dataframe tbody tr th:only-of-type {\n",
       "        vertical-align: middle;\n",
       "    }\n",
       "\n",
       "    .dataframe tbody tr th {\n",
       "        vertical-align: top;\n",
       "    }\n",
       "\n",
       "    .dataframe thead th {\n",
       "        text-align: right;\n",
       "    }\n",
       "</style>\n",
       "<table border=\"1\" class=\"dataframe\">\n",
       "  <thead>\n",
       "    <tr style=\"text-align: right;\">\n",
       "      <th></th>\n",
       "      <th>0</th>\n",
       "      <th>1</th>\n",
       "      <th>2</th>\n",
       "      <th>...</th>\n",
       "      <th>9997</th>\n",
       "      <th>9998</th>\n",
       "      <th>9999</th>\n",
       "    </tr>\n",
       "  </thead>\n",
       "  <tbody>\n",
       "    <tr>\n",
       "      <th>2020-11-19</th>\n",
       "      <td>-2.957e-02</td>\n",
       "      <td>1.770e-02</td>\n",
       "      <td>-4.964e-03</td>\n",
       "      <td>...</td>\n",
       "      <td>-1.553e-02</td>\n",
       "      <td>8.048e-04</td>\n",
       "      <td>-1.530e-02</td>\n",
       "    </tr>\n",
       "    <tr>\n",
       "      <th>2020-11-20</th>\n",
       "      <td>4.009e-04</td>\n",
       "      <td>6.244e-05</td>\n",
       "      <td>-4.070e-05</td>\n",
       "      <td>...</td>\n",
       "      <td>2.032e-04</td>\n",
       "      <td>7.951e-06</td>\n",
       "      <td>1.071e-04</td>\n",
       "    </tr>\n",
       "    <tr>\n",
       "      <th>2020-11-23</th>\n",
       "      <td>1.273e-05</td>\n",
       "      <td>-9.770e-07</td>\n",
       "      <td>-3.294e-07</td>\n",
       "      <td>...</td>\n",
       "      <td>5.589e-06</td>\n",
       "      <td>3.688e-08</td>\n",
       "      <td>2.260e-06</td>\n",
       "    </tr>\n",
       "    <tr>\n",
       "      <th>2020-11-24</th>\n",
       "      <td>7.446e-08</td>\n",
       "      <td>-1.790e-08</td>\n",
       "      <td>1.769e-09</td>\n",
       "      <td>...</td>\n",
       "      <td>-5.318e-08</td>\n",
       "      <td>6.531e-10</td>\n",
       "      <td>-3.641e-08</td>\n",
       "    </tr>\n",
       "    <tr>\n",
       "      <th>2020-11-25</th>\n",
       "      <td>-1.155e-09</td>\n",
       "      <td>-2.489e-10</td>\n",
       "      <td>4.707e-11</td>\n",
       "      <td>...</td>\n",
       "      <td>1.555e-09</td>\n",
       "      <td>-1.552e-11</td>\n",
       "      <td>1.942e-09</td>\n",
       "    </tr>\n",
       "    <tr>\n",
       "      <th>...</th>\n",
       "      <td>...</td>\n",
       "      <td>...</td>\n",
       "      <td>...</td>\n",
       "      <td>...</td>\n",
       "      <td>...</td>\n",
       "      <td>...</td>\n",
       "      <td>...</td>\n",
       "    </tr>\n",
       "    <tr>\n",
       "      <th>2021-01-11</th>\n",
       "      <td>-1.687e-76</td>\n",
       "      <td>9.808e-73</td>\n",
       "      <td>9.485e-74</td>\n",
       "      <td>...</td>\n",
       "      <td>1.885e-74</td>\n",
       "      <td>9.936e-79</td>\n",
       "      <td>-2.487e-75</td>\n",
       "    </tr>\n",
       "    <tr>\n",
       "      <th>2021-01-12</th>\n",
       "      <td>1.520e-79</td>\n",
       "      <td>2.239e-74</td>\n",
       "      <td>2.827e-75</td>\n",
       "      <td>...</td>\n",
       "      <td>8.648e-77</td>\n",
       "      <td>2.122e-80</td>\n",
       "      <td>8.643e-77</td>\n",
       "    </tr>\n",
       "    <tr>\n",
       "      <th>2021-01-13</th>\n",
       "      <td>4.836e-81</td>\n",
       "      <td>-1.352e-76</td>\n",
       "      <td>-3.698e-77</td>\n",
       "      <td>...</td>\n",
       "      <td>-4.902e-79</td>\n",
       "      <td>7.282e-82</td>\n",
       "      <td>4.456e-79</td>\n",
       "    </tr>\n",
       "    <tr>\n",
       "      <th>2021-01-14</th>\n",
       "      <td>-1.894e-84</td>\n",
       "      <td>4.609e-78</td>\n",
       "      <td>-5.562e-79</td>\n",
       "      <td>...</td>\n",
       "      <td>-3.937e-81</td>\n",
       "      <td>9.997e-84</td>\n",
       "      <td>-5.328e-81</td>\n",
       "    </tr>\n",
       "    <tr>\n",
       "      <th>2021-01-15</th>\n",
       "      <td>5.510e-86</td>\n",
       "      <td>-1.004e-79</td>\n",
       "      <td>-2.210e-81</td>\n",
       "      <td>...</td>\n",
       "      <td>1.354e-82</td>\n",
       "      <td>1.453e-85</td>\n",
       "      <td>1.130e-82</td>\n",
       "    </tr>\n",
       "  </tbody>\n",
       "</table>\n",
       "<p>42 rows × 10000 columns</p>\n",
       "</div>"
      ],
      "text/plain": [
       "                 0          1          2     ...       9997       9998  \\\n",
       "2020-11-19 -2.957e-02  1.770e-02 -4.964e-03  ... -1.553e-02  8.048e-04   \n",
       "2020-11-20  4.009e-04  6.244e-05 -4.070e-05  ...  2.032e-04  7.951e-06   \n",
       "2020-11-23  1.273e-05 -9.770e-07 -3.294e-07  ...  5.589e-06  3.688e-08   \n",
       "2020-11-24  7.446e-08 -1.790e-08  1.769e-09  ... -5.318e-08  6.531e-10   \n",
       "2020-11-25 -1.155e-09 -2.489e-10  4.707e-11  ...  1.555e-09 -1.552e-11   \n",
       "...               ...        ...        ...  ...        ...        ...   \n",
       "2021-01-11 -1.687e-76  9.808e-73  9.485e-74  ...  1.885e-74  9.936e-79   \n",
       "2021-01-12  1.520e-79  2.239e-74  2.827e-75  ...  8.648e-77  2.122e-80   \n",
       "2021-01-13  4.836e-81 -1.352e-76 -3.698e-77  ... -4.902e-79  7.282e-82   \n",
       "2021-01-14 -1.894e-84  4.609e-78 -5.562e-79  ... -3.937e-81  9.997e-84   \n",
       "2021-01-15  5.510e-86 -1.004e-79 -2.210e-81  ...  1.354e-82  1.453e-85   \n",
       "\n",
       "                 9999  \n",
       "2020-11-19 -1.530e-02  \n",
       "2020-11-20  1.071e-04  \n",
       "2020-11-23  2.260e-06  \n",
       "2020-11-24 -3.641e-08  \n",
       "2020-11-25  1.942e-09  \n",
       "...               ...  \n",
       "2021-01-11 -2.487e-75  \n",
       "2021-01-12  8.643e-77  \n",
       "2021-01-13  4.456e-79  \n",
       "2021-01-14 -5.328e-81  \n",
       "2021-01-15  1.130e-82  \n",
       "\n",
       "[42 rows x 10000 columns]"
      ]
     },
     "execution_count": 35,
     "metadata": {},
     "output_type": "execute_result"
    }
   ],
   "source": [
    "dt = 1; # Rendimiento diario \n",
    "Z = np.random.randn(ndays,nscen)  # Z ~ N(0,1)\n",
    "# Simulación normal de los rendimientos\n",
    "Ri_dt = pd.DataFrame(mu_R*dt+Z*sigma_R*np.sqrt(dt),index=dates)\n",
    "Ri_dt.cumprod()"
   ]
  },
  {
   "cell_type": "code",
   "execution_count": null,
   "metadata": {},
   "outputs": [],
   "source": [
    "# Simulación del precio\n",
    "S_0 = closes_aapl.iloc[-1,0]\n",
    "S_T = S_0*(1+Ri_dt).cumprod()\n",
    "\n",
    "# Se muestran los precios simulados con los precios descargados\n",
    "# pd.concat([closes_aapl,S_T]).plot(figsize=(8,6));\n",
    "# plt.title('Simulación de precios usando rendimiento simple');"
   ]
  },
  {
   "cell_type": "markdown",
   "metadata": {},
   "source": [
    "## Rendimiento Logarítmico"
   ]
  },
  {
   "cell_type": "code",
   "execution_count": null,
   "metadata": {},
   "outputs": [],
   "source": [
    "ri = calc_daily_ret(closes_aapl)\n",
    "# Usando la media y desviación estándar de los rendimientos logarítmicos\n",
    "mu_r = ri.mean()[0]\n",
    "sigma_r = ri.std()[0]\n",
    "\n",
    "# # Usando la equivalencia teórica\n",
    "# mu_r2 = mu_R - (sigma_R**2)/2\n",
    "\n",
    "sim_ret_ri = pd.DataFrame(mu_r*dt+Z*sigma_r*np.sqrt(dt), index=dates)\n",
    "\n",
    "# Simulación del precio\n",
    "S_0 = closes_aapl.iloc[-1,0]\n",
    "S_T2 = S_0*np.exp(sim_ret_ri.cumsum())\n",
    "\n",
    "# Se muestran los precios simulados con los precios descargados\n",
    "# pd.concat([closes_aapl,S_T2]).plot(figsize=(8,6));\n",
    "# plt.title('Simulación de precios usando rendimiento logarítmico');\n",
    "\n",
    "# from sklearn.metrics import mean_absolute_error\n",
    "e1 = np.abs(S_T-S_T2).mean().mean()\n",
    "e1"
   ]
  },
  {
   "cell_type": "code",
   "execution_count": null,
   "metadata": {},
   "outputs": [],
   "source": [
    "print('Las std usando rendimientos logarítmicos y simples son similares')\n",
    "sigma_R,sigma_r"
   ]
  },
  {
   "cell_type": "markdown",
   "metadata": {},
   "source": [
    "Con los precios simulados debemos de encontrar el valor de la opción según la función de pago correspondiente. Para este caso es:\n",
    "$$\n",
    "max(S_T - K,0)\n",
    "$$"
   ]
  },
  {
   "cell_type": "code",
   "execution_count": null,
   "metadata": {},
   "outputs": [],
   "source": [
    "opcion_valuar['JSON']"
   ]
  },
  {
   "cell_type": "code",
   "execution_count": null,
   "metadata": {},
   "outputs": [],
   "source": [
    "strike = pd.DataFrame(opcion_valuar['JSON']['strike']*np.ones([ndays,nscen]), index=dates)\n",
    "call = pd.DataFrame({'Prima':np.exp(-mu_r*ndays) \\\n",
    "              *np.fmax(S_T2-strike,np.zeros([ndays,nscen])).mean(axis=1)}, index=dates)\n",
    "call.plot();\n",
    "call.iloc[-1]"
   ]
  },
  {
   "cell_type": "markdown",
   "metadata": {},
   "source": [
    "## 2. Valuación usando simulación: modelo normal para los rendimientos"
   ]
  },
  {
   "cell_type": "markdown",
   "metadata": {},
   "source": [
    "- Hallar media y desviación estándar muestral de los rendimientos logarítmicos"
   ]
  },
  {
   "cell_type": "code",
   "execution_count": null,
   "metadata": {
    "scrolled": true
   },
   "outputs": [],
   "source": [
    "mu = ret_aapl.mean()[0]\n",
    "sigma = ret_aapl.std()[0]\n",
    "mu, sigma"
   ]
  },
  {
   "cell_type": "markdown",
   "metadata": {},
   "source": [
    "No se toma la media sino la tasa libre de riesgo\n",
    "> Referencia: https://www.treasury.gov/resource-center/data-chart-center/interest-rates/Pages/TextView.aspx?data=yield"
   ]
  },
  {
   "cell_type": "code",
   "execution_count": null,
   "metadata": {},
   "outputs": [],
   "source": [
    "# Tasa de bonos de 1 yr de fecha 30/04/20 -> 0.16%\n",
    "r = 0.0016/360 # Tasa diaria"
   ]
  },
  {
   "cell_type": "markdown",
   "metadata": {},
   "source": [
    "- Simularemos el tiempo de contrato desde `HOY` hasta la fecha de `Expiry`, 10 escenarios:\n",
    "    \n",
    "    - Generar fechas"
   ]
  },
  {
   "cell_type": "code",
   "execution_count": null,
   "metadata": {},
   "outputs": [],
   "source": [
    "from datetime import date\n",
    "\n",
    "today = pd.Timestamp(date.today())\n",
    "expiry = opcion_valuar.Expiry\n",
    "\n",
    "ndays = (expiry - today).days\n",
    "nscen = 10\n",
    "dates = pd.date_range(start='2019-11-14', periods = ndays)\n",
    "dates"
   ]
  },
  {
   "cell_type": "markdown",
   "metadata": {},
   "source": [
    "- Generamos 10 escenarios de rendimientos simulados y guardamos en un dataframe"
   ]
  },
  {
   "cell_type": "code",
   "execution_count": null,
   "metadata": {
    "scrolled": false
   },
   "outputs": [],
   "source": [
    "sim_ret = pd.DataFrame(sigma*np.random.randn(ndays,nscen)+r, index=dates)\n",
    "sim_ret.cumsum()\n",
    "# Las columnas son los escenarios y las filas son las días de contrato"
   ]
  },
  {
   "cell_type": "markdown",
   "metadata": {},
   "source": [
    "- Con los rendimientos simulados, calcular los escenarios de precios respectivos:"
   ]
  },
  {
   "cell_type": "code",
   "execution_count": null,
   "metadata": {},
   "outputs": [],
   "source": [
    "S0 = closes_aapl.iloc[-1,0]  # Condición inicial del precio a simular\n",
    "sim_closes = S0*np.exp(sim_ret.cumsum())\n",
    "sim_closes"
   ]
  },
  {
   "cell_type": "markdown",
   "metadata": {},
   "source": [
    "- Graficar:"
   ]
  },
  {
   "cell_type": "code",
   "execution_count": null,
   "metadata": {},
   "outputs": [],
   "source": [
    "# sim_closes.plot(figsize=(8,6));"
   ]
  },
  {
   "cell_type": "code",
   "execution_count": null,
   "metadata": {
    "scrolled": false
   },
   "outputs": [],
   "source": [
    "# Se muestran los precios simulados con los precios descargados\n",
    "pd.concat([closes_aapl,sim_closes]).plot(figsize=(8,6));"
   ]
  },
  {
   "cell_type": "code",
   "execution_count": null,
   "metadata": {
    "scrolled": false
   },
   "outputs": [],
   "source": [
    "opcion_valuar['JSON']"
   ]
  },
  {
   "cell_type": "code",
   "execution_count": null,
   "metadata": {},
   "outputs": [],
   "source": [
    "sigma = 0.27719839019775383/np.sqrt(252)\n",
    "sigma"
   ]
  },
  {
   "cell_type": "code",
   "execution_count": null,
   "metadata": {},
   "outputs": [],
   "source": [
    "from datetime import date\n",
    "Hoy = date.today()\n",
    "K = opcion_valuar['JSON']['strike']  # strike price\n",
    "ndays = (opcion_valuar.Expiry - today).days\n",
    "nscen = 100000\n",
    "dates = pd.date_range(start= Hoy, periods = ndays)\n",
    "S0 = closes_aapl.iloc[-1,0]  # Condición inicial del precio a simular\n",
    "\n",
    "sim_ret = pd.DataFrame(sigma*np.random.randn(ndays,nscen)+r,index=dates)\n",
    "sim_closes = S0*np.exp(sim_ret.cumsum())\n",
    "#strike = pd.DataFrame({'Strike':K*np.ones(ndays)}, index=dates)\n",
    "#simul = pd.concat([closes_aapl.T,strike.T,sim_closes.T]).T\n",
    "#simul.plot(figsize=(8,6),legend=False);"
   ]
  },
  {
   "cell_type": "code",
   "execution_count": null,
   "metadata": {},
   "outputs": [],
   "source": [
    "strike = pd.DataFrame(K*np.ones([ndays,nscen]), index=dates)\n",
    "call = pd.DataFrame({'Prima':np.exp(-r*ndays) \\\n",
    "              *np.fmax(sim_closes-strike,np.zeros([ndays,nscen])).mean(axis=1)}, index=dates)\n",
    "call.plot();\n"
   ]
  },
  {
   "cell_type": "markdown",
   "metadata": {},
   "source": [
    "La valuación de la opción es:"
   ]
  },
  {
   "cell_type": "code",
   "execution_count": null,
   "metadata": {},
   "outputs": [],
   "source": [
    "call.iloc[-1]"
   ]
  },
  {
   "cell_type": "markdown",
   "metadata": {},
   "source": [
    "Intervalo de confianza del 99%"
   ]
  },
  {
   "cell_type": "code",
   "execution_count": null,
   "metadata": {
    "scrolled": true
   },
   "outputs": [],
   "source": [
    "confianza = 0.99\n",
    "sigma_est = sim_closes.iloc[-1].sem()\n",
    "mean_est = call.iloc[-1].Prima\n",
    "i1 = st.t.interval(confianza,nscen-1, loc=mean_est, scale=sigma_est)\n",
    "i2 = st.norm.interval(confianza, loc=mean_est, scale=sigma_est)\n",
    "print(i1)\n",
    "print(i1)\n"
   ]
  },
  {
   "cell_type": "markdown",
   "metadata": {},
   "source": [
    "## Precios simulados usando técnicas de reducción de varianza"
   ]
  },
  {
   "cell_type": "code",
   "execution_count": null,
   "metadata": {},
   "outputs": [],
   "source": [
    "# Usando muestreo estratificado----> #estratros = nscen\n",
    "U = (np.arange(0,nscen)+np.random.rand(ndays,nscen))/nscen\n",
    "Z = st.norm.ppf(U)\n",
    "\n",
    "sim_ret2 = pd.DataFrame(sigma*Z+r,index=dates)\n",
    "sim_closes2 = S0*np.exp(sim_ret.cumsum())\n",
    "\n",
    "# Función de pago\n",
    "strike = pd.DataFrame(K*np.ones([ndays,nscen]), index=dates)\n",
    "call = pd.DataFrame({'Prima':np.exp(-r*ndays) \\\n",
    "              *np.fmax(sim_closes2-strike,np.zeros([ndays,nscen])).T.mean()}, index=dates)\n",
    "call.plot();"
   ]
  },
  {
   "cell_type": "markdown",
   "metadata": {},
   "source": [
    "La valuación de la opción es:"
   ]
  },
  {
   "cell_type": "code",
   "execution_count": null,
   "metadata": {},
   "outputs": [],
   "source": [
    "call.iloc[-1]"
   ]
  },
  {
   "cell_type": "markdown",
   "metadata": {},
   "source": [
    "Intervalo de confianza del 99%"
   ]
  },
  {
   "cell_type": "code",
   "execution_count": null,
   "metadata": {
    "scrolled": true
   },
   "outputs": [],
   "source": [
    "confianza = 0.99\n",
    "sigma_est = sim_closes2.iloc[-1].sem()\n",
    "mean_est = call.iloc[-1].Prima\n",
    "i1 = st.t.interval(confianza,nscen-1, loc=mean_est, scale=sigma_est)\n",
    "i2 = st.norm.interval(confianza, loc=mean_est, scale=sigma_est)\n",
    "print(i1)\n",
    "print(i1)\n"
   ]
  },
  {
   "cell_type": "markdown",
   "metadata": {},
   "source": [
    "### Análisis de la distribución de los rendimientos"
   ]
  },
  {
   "cell_type": "markdown",
   "metadata": {},
   "source": [
    "### Ajustando norm"
   ]
  },
  {
   "cell_type": "code",
   "execution_count": null,
   "metadata": {},
   "outputs": [],
   "source": [
    "ren = calc_daily_ret(closes_aapl) # rendimientos \n",
    "y,x,des = plt.hist(ren['AAPL'],bins=50,density=True,label='Histograma rendimientos')\n",
    "\n",
    "mu_fit,sd_fit = st.norm.fit(ren) # Se ajustan los parámetros de una normal\n",
    "# Valores máximo y mínimo de los rendiemientos a generar\n",
    "ren_max = max(x);ren_min = min(x)\n",
    "# Vector de rendimientos generados\n",
    "ren_gen = np.arange(ren_min,ren_max,0.001)\n",
    "# Generación de la normal ajustado con los parámetros encontrados\n",
    "curve_fit = st.norm.pdf(ren_gen,loc=mu_fit,scale=sd_fit)\n",
    "plt.plot(ren_gen,curve_fit,label='Distribución ajustada')\n",
    "plt.legend()\n",
    "plt.show()\n"
   ]
  },
  {
   "cell_type": "markdown",
   "metadata": {},
   "source": [
    "### Ajustando t"
   ]
  },
  {
   "cell_type": "code",
   "execution_count": null,
   "metadata": {},
   "outputs": [],
   "source": [
    "ren = calc_daily_ret(closes_aapl) # rendimientos \n",
    "y,x,des = plt.hist(ren['AAPL'],bins=50,density=True,label='Histograma rendimientos')\n",
    "\n",
    "dof,mu_fit,sd_fit = st.t.fit(ren) # Se ajustan los parámetros de una normal\n",
    "# Valores máximo y mínimo de los rendiemientos a generar\n",
    "# ren_max = max(x);ren_min = min(x)\n",
    "# Vector de rendimientos generados\n",
    "ren_gen = np.arange(ren_min,ren_max,0.001)\n",
    "# Generación de la normal ajustado con los parámetros encontrados\n",
    "curve_fit = st.t.pdf(ren_gen,df=dof,loc=mu_fit,scale=sd_fit)\n",
    "plt.plot(ren_gen,curve_fit,label='Distribución ajustada')\n",
    "plt.legend()\n",
    "plt.show()"
   ]
  },
  {
   "cell_type": "code",
   "execution_count": null,
   "metadata": {},
   "outputs": [],
   "source": [
    "st.probplot(ren['AAPL'],sparams= dof, dist='t', plot=plt);"
   ]
  },
  {
   "cell_type": "markdown",
   "metadata": {},
   "source": [
    "## 3. Valuación usando simulación: uso del histograma de rendimientos\n",
    "\n",
    "Todo el análisis anterior se mantiene. Solo cambia la forma de generar los números aleatorios para la simulación montecarlo.\n",
    "\n",
    "Ahora, generemos un histograma de los rendimientos diarios para generar valores aleatorios de los rendimientos simulados."
   ]
  },
  {
   "cell_type": "markdown",
   "metadata": {},
   "source": [
    "- Primero, cantidad de días y número de escenarios de simulación"
   ]
  },
  {
   "cell_type": "code",
   "execution_count": null,
   "metadata": {},
   "outputs": [],
   "source": [
    "ndays = 109 \n",
    "nscen = 10"
   ]
  },
  {
   "cell_type": "markdown",
   "metadata": {},
   "source": [
    "- Del histograma anterior, ya conocemos las probabilidades de ocurrencia, lo que se llamó como variable `y`"
   ]
  },
  {
   "cell_type": "code",
   "execution_count": null,
   "metadata": {},
   "outputs": [],
   "source": [
    "prob = y/np.sum(y)\n",
    "values = x[1:]"
   ]
  },
  {
   "cell_type": "markdown",
   "metadata": {},
   "source": [
    "- Con esto, generamos los números aleatorios correspondientes a los rendimientos (tantos como días por número de escenarios)."
   ]
  },
  {
   "cell_type": "code",
   "execution_count": null,
   "metadata": {},
   "outputs": [],
   "source": [
    "ret = np.random.choice(values, ndays*nscen, p=prob)\n",
    "dates = pd.date_range(start=Hoy,periods=ndays)\n",
    "sim_ret_hist = pd.DataFrame(ret.reshape((ndays,nscen)),index=dates)\n",
    "sim_ret_hist"
   ]
  },
  {
   "cell_type": "code",
   "execution_count": null,
   "metadata": {
    "scrolled": false
   },
   "outputs": [],
   "source": [
    "sim_closes_hist = (closes_aapl.iloc[-1,0])*np.exp(sim_ret_hist.cumsum())\n",
    "sim_closes_hist"
   ]
  },
  {
   "cell_type": "code",
   "execution_count": null,
   "metadata": {},
   "outputs": [],
   "source": [
    "sim_closes_hist.plot(figsize=(8,6),legend=False);"
   ]
  },
  {
   "cell_type": "code",
   "execution_count": null,
   "metadata": {},
   "outputs": [],
   "source": [
    "pd.concat([closes_aapl,sim_closes_hist]).plot(figsize=(8,6),legend=False);\n",
    "plt.title('Simulación usando el histograma de los rendimientos')"
   ]
  },
  {
   "cell_type": "code",
   "execution_count": null,
   "metadata": {},
   "outputs": [],
   "source": [
    "K=240\n",
    "ndays = 109\n",
    "nscen = 10000\n",
    "freq, values = np.histogram(ret_aapl+r-mu, bins=2000)\n",
    "prob = freq/np.sum(freq)\n",
    "ret=np.random.choice(values[1:],ndays*nscen,p=prob)\n",
    "dates=pd.date_range('2018-10-29',periods=ndays)\n",
    "sim_ret_hist = pd.DataFrame(ret.reshape((ndays,nscen)),index=dates)\n",
    "sim_closes_hist = (closes_aapl.iloc[-1,0])*np.exp(sim_ret_hist.cumsum())"
   ]
  },
  {
   "cell_type": "code",
   "execution_count": null,
   "metadata": {},
   "outputs": [],
   "source": [
    "strike = pd.DataFrame(K*np.ones(ndays*nscen).reshape((ndays,nscen)), index=dates)\n",
    "call_hist = pd.DataFrame({'Prima':np.exp(-r*ndays)*np.fmax(sim_closes_hist-strike,np.zeros(ndays*nscen).reshape((ndays,nscen))).T.mean()}, index=dates)\n",
    "call_hist.plot();"
   ]
  },
  {
   "cell_type": "code",
   "execution_count": null,
   "metadata": {
    "scrolled": true
   },
   "outputs": [],
   "source": [
    "call_hist.iloc[-1]"
   ]
  },
  {
   "cell_type": "code",
   "execution_count": null,
   "metadata": {},
   "outputs": [],
   "source": [
    "opcion_valuar['JSON']"
   ]
  },
  {
   "cell_type": "markdown",
   "metadata": {},
   "source": [
    "Intervalo de confianza del 95%"
   ]
  },
  {
   "cell_type": "code",
   "execution_count": null,
   "metadata": {
    "scrolled": true
   },
   "outputs": [],
   "source": [
    "confianza = 0.95\n",
    "sigma_est = sim_closes_hist.iloc[-1].sem()\n",
    "mean_est = call_hist.iloc[-1].Prima\n",
    "i1 = st.t.interval(confianza,nscen-1, loc=mean_est, scale=sigma_est)\n",
    "i2 = st.norm.interval(confianza, loc=mean_est, scale=sigma_est)\n",
    "print(i1)\n",
    "print(i1)\n"
   ]
  },
  {
   "cell_type": "markdown",
   "metadata": {},
   "source": [
    "# <font color = 'red'> Tarea: </font>\n",
    "\n",
    "Replicar el procedimiento anterior para valoración de opciones 'call', pero en este caso para opciones tipo 'put'."
   ]
  },
  {
   "cell_type": "markdown",
   "metadata": {},
   "source": [
    "<script>\n",
    "  $(document).ready(function(){\n",
    "    $('div.prompt').hide();\n",
    "    $('div.back-to-top').hide();\n",
    "    $('nav#menubar').hide();\n",
    "    $('.breadcrumb').hide();\n",
    "    $('.hidden-print').hide();\n",
    "  });\n",
    "</script>\n",
    "\n",
    "<footer id=\"attribution\" style=\"float:right; color:#808080; background:#fff;\">\n",
    "Created with Jupyter by Esteban Jiménez Rodríguez and modify by Oscar Jaramillo Z.\n",
    "</footer>"
   ]
  }
 ],
 "metadata": {
  "kernelspec": {
   "display_name": "Python 3",
   "language": "python",
   "name": "python3"
  },
  "language_info": {
   "codemirror_mode": {
    "name": "ipython",
    "version": 3
   },
   "file_extension": ".py",
   "mimetype": "text/x-python",
   "name": "python",
   "nbconvert_exporter": "python",
   "pygments_lexer": "ipython3",
   "version": "3.8.3"
  }
 },
 "nbformat": 4,
 "nbformat_minor": 2
}
